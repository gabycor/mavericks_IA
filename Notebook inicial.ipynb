{
 "cells": [
  {
   "cell_type": "markdown",
   "metadata": {},
   "source": [
    "# Proceso de instalación y carga de datos iniciales"
   ]
  },
  {
   "cell_type": "code",
   "execution_count": null,
   "metadata": {},
   "outputs": [],
   "source": [
    "# Instalar venv (Virtual Environment)\n",
    "!mkdir venv\n",
    "!python3 -m venv ./venv\n",
    "!source venv/bin/activate"
   ]
  },
  {
   "cell_type": "code",
   "execution_count": 1,
   "metadata": {},
   "outputs": [],
   "source": [
    "#Instalar Kaggle\n",
    "!pip3 install -q kaggle"
   ]
  },
  {
   "cell_type": "code",
   "execution_count": 3,
   "metadata": {},
   "outputs": [],
   "source": [
    "# Importar librerias\n",
    "import pandas as pd\n",
    "import numpy as np\n",
    "import seaborn as sns"
   ]
  },
  {
   "cell_type": "code",
   "execution_count": null,
   "metadata": {},
   "outputs": [],
   "source": [
    "# Crear carpeta de datos\n",
    "!mkdir ~/.kaggle\n",
    "!cp kaggle.json ~/.kaggle/kaggle.json\n",
    "!chmod 600 ~/.kaggle/kaggle.json"
   ]
  },
  {
   "cell_type": "code",
   "execution_count": null,
   "metadata": {},
   "outputs": [],
   "source": [
    "# Notebook inicial de prueba\n",
    "!kaggle datasets list"
   ]
  },
  {
   "cell_type": "code",
   "execution_count": null,
   "metadata": {},
   "outputs": [],
   "source": [
    "# Descarga de datos\n",
    "!kaggle competitions download -c house-prices-advanced-regression-techniques"
   ]
  },
  {
   "cell_type": "code",
   "execution_count": null,
   "metadata": {},
   "outputs": [],
   "source": [
    "# Descarga de la base de datos\n",
    "!unzip house-prices-advanced-regression-techniques.zip -d \"./database/\""
   ]
  },
  {
   "cell_type": "markdown",
   "metadata": {},
   "source": [
    "# Diccionario de variables\n",
    "\n",
    "\n",
    "## Id\n",
    "* **Tipo de dato:** Int\n",
    "\n",
    "## MSSubClass\n",
    "* **Descripción:** Identifies the type of dwelling involved in the sale.\n",
    "* **Tipo de dato:** Int\n",
    "\n",
    "## MSZoning\n",
    "* **Descripción:** Identifies the general zoning classification of the sale.\n",
    "* **Tipo de dato:** Ordinal\n",
    "\n",
    "\n",
    "## LotFrontage\n",
    "* **Descripción:** Linear feet of street connected to property\n",
    "* **Tipo de dato:** Int\n",
    "\n",
    "\n",
    "## LotArea\n",
    "* **Descripción:** Lot size in square feet\n",
    "* **Tipo de dato:** Int\n",
    "\n",
    "\n",
    "## Street\n",
    "* **Descripción:** Type of road access to property\n",
    "* **Tipo de dato:** Ordinal\n",
    "\n",
    "\n",
    "## Alley\n",
    "* **Descripción:** Type of alley access to property\n",
    "* **Tipo de dato:** Ordinal\n",
    "\n",
    "\n",
    "## \n",
    "* **Descripción:** \n",
    "* **Tipo de dato:** \n"
   ]
  },
  {
   "cell_type": "markdown",
   "metadata": {},
   "source": [
    "\n",
    "## "
   ]
  }
 ],
 "metadata": {
  "kernelspec": {
   "display_name": "Python 3",
   "language": "python",
   "name": "python3"
  },
  "language_info": {
   "codemirror_mode": {
    "name": "ipython",
    "version": 3
   },
   "file_extension": ".py",
   "mimetype": "text/x-python",
   "name": "python",
   "nbconvert_exporter": "python",
   "pygments_lexer": "ipython3",
   "version": "3.9.6"
  },
  "orig_nbformat": 4
 },
 "nbformat": 4,
 "nbformat_minor": 2
}
