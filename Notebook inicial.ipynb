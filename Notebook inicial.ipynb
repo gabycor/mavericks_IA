{
 "cells": [
  {
   "cell_type": "markdown",
   "metadata": {},
   "source": [
    "# Proceso de instalación y carga de datos iniciales"
   ]
  },
  {
   "cell_type": "code",
   "execution_count": 1,
   "metadata": {},
   "outputs": [],
   "source": [
    "# Instalar venv (Virtual Environment)\n",
    "!mkdir venv\n",
    "!python3 -m venv ./venv\n"
   ]
  },
  {
   "cell_type": "code",
   "execution_count": 2,
   "metadata": {},
   "outputs": [],
   "source": [
    "!source venv/bin/activate"
   ]
  },
  {
   "cell_type": "code",
   "execution_count": null,
   "metadata": {},
   "outputs": [],
   "source": [
    "#Instalar Kaggle\n",
    "!pip3 install -q kaggle"
   ]
  },
  {
   "cell_type": "code",
   "execution_count": null,
   "metadata": {},
   "outputs": [],
   "source": [
    "# Importar librerias\n",
    "import pandas as pd\n",
    "import numpy as np\n",
    "import seaborn as sns"
   ]
  },
  {
   "cell_type": "code",
   "execution_count": null,
   "metadata": {},
   "outputs": [],
   "source": [
    "# Crear carpeta de datos\n",
    "!mkdir ~/.kaggle\n",
    "!cp kaggle.json ~/.kaggle/kaggle.json\n",
    "!chmod 600 ~/.kaggle/kaggle.json"
   ]
  },
  {
   "cell_type": "code",
   "execution_count": null,
   "metadata": {},
   "outputs": [],
   "source": [
    "# Notebook inicial de prueba\n",
    "!kaggle datasets list"
   ]
  },
  {
   "cell_type": "code",
   "execution_count": null,
   "metadata": {},
   "outputs": [],
   "source": [
    "# Descarga de datos\n",
    "!kaggle competitions download -c house-prices-advanced-regression-techniques"
   ]
  },
  {
   "cell_type": "code",
   "execution_count": null,
   "metadata": {},
   "outputs": [],
   "source": [
    "# Descarga de la base de datos\n",
    "!unzip house-prices-advanced-regression-techniques.zip -d \"./database/\""
   ]
  },
  {
   "cell_type": "markdown",
   "metadata": {},
   "source": [
    "# Diccionario de variables\n",
    "\n",
    "| Campo         | Descripción                                      | Tipo de Dato |\n",
    "|---------------|--------------------------------------------------|--------------|\n",
    "| Id            | Identificación                                  | Int          |\n",
    "| MSSubClass    | Tipo de vivienda                                | Int          |\n",
    "| MSZoning      | Clasificación de zonificación                   | Ordinal      |\n",
    "| LotFrontage   | Pies lineales de calle conectados a la propiedad| Int          |\n",
    "| LotArea       | Tamaño del lote en pies cuadrados                | Int          |\n",
    "| Street        | Tipo de acceso a la propiedad                   | Ordinal      |\n",
    "| Alley         | Tipo de acceso de callejón a la propiedad        | Ordinal      |\n",
    "| LotShape      | Forma general de la propiedad                   | Ordinal      |\n",
    "| LandContour   | Planicie de la propiedad                         | Ordinal      |\n",
    "| Utilities     | Tipo de servicios disponibles                   | Ordinal      |\n",
    "| LotConfig     | Configuración del lote                          | Ordinal      |\n",
    "| LandSlope     | Pendiente de la propiedad                        | Ordinal      |\n",
    "| Neighborhood  | Ubicaciones físicas dentro de los límites de Ames| Ordinal      |\n",
    "| Condition1    | Proximidad a varias condiciones                 | Nominal      |\n",
    "| Condition2    | Proximidad a varias condiciones (si hay más de una)| Nominal      |\n",
    "| BldgType      | Tipo de vivienda                                | Ordinal      |\n",
    "| HouseStyle    | Estilo de vivienda                              | Ordinal      |\n",
    "| OverallQual   | Calidad general y acabado de la casa            | Int          |\n",
    "| OverallCond   | Condición general de la casa                    | Int          |\n",
    "| YearBuilt     | Fecha original de construcción                  | Int          |\n",
    "| YearRemodAdd  | Fecha de remodelación (igual a la fecha de construcción si no hay remodelación)| Int          |\n",
    "| RoofStyle     | Tipo de techo                                   | Nominal      |\n",
    "| RoofMatl      | Material de techo                               | Nominal      |\n",
    "| Exterior1st   | Revestimiento exterior de la casa               | Nominal      |\n",
    "| Exterior2nd   | Revestimiento exterior de la casa (si hay más de un material)| Nominal      |\n",
    "| MasVnrType    | Tipo de revestimiento de mampostería            | Nominal      |\n",
    "| MasVnrArea    | Área de revestimiento de mampostería en pies cuadrados| Int          |\n",
    "| ExterQual     | Calidad del material exterior                   | Ordinal      |\n",
    "| ExterCond     | Condición actual del material exterior           | Ordinal      |\n",
    "| Foundation    | Tipo de cimentación                             | Nominal      |\n",
    "| BsmtQual      | Calidad de la altura del sótano                 | Ordinal      |\n",
    "| BsmtCond      | Condición general del sótano                    | Ordinal      |\n",
    "| BsmtExposure  | Paredes del nivel del sótano a nivel del jardín o patio| Ordinal      |\n",
    "| BsmtFinType1  | Clasificación del área terminada del sótano tipo 1| Ordinal      |\n",
    "| BsmtFinSF1    | Pies cuadrados terminados de área tipo 1        | Int          |\n",
    "| BsmtFinType2  | Clasificación del área terminada del sótano tipo 2| Int          |\n",
    "| BsmtFinSF2    | Pies cuadrados terminados de área tipo 2        | Int          |\n",
    "| BsmtUnfSF     | Pies cuadrados sin terminar de área del sótano  | Int          |\n",
    "| TotalBsmtSF   | Pies cuadrados totales de área del sótano       | Int          |\n",
    "| Heating       | Tipo de calefacción                             | Nominal      |\n",
    "| HeatingQC     | Calidad y condición de la calefacción           | Ordinal      |\n",
    "| CentralAir    | Si hay aire acondicionado central               | Ordinal      |\n",
    "| Electrical    | Tipo de sistema eléctrico                       | Ordinal      |\n",
    "| 1stFlrSF      | Pies cuadrados del primer piso                 | Int          |\n",
    "| 2ndFlrSF      | Pies cuadrados del segundo piso                | Int          |\n",
    "| LowQualFinSF  | Pies cuadrados de acabado de baja calidad (en todos los pisos)| Int          |\n",
    "| GrLivArea     | Pies cuadrados de área de estar sobre el nivel del suelo| Int          |\n",
    "| BsmtFullBath  | Baños completos en el sótano                   | Int          |\n",
    "| BsmtHalfBath  | Medio baño en el sótano                        | Int          |\n",
    "| FullBath      | Baños completos sobre el nivel del suelo       | Int          |\n",
    "| HalfBath      | Medio baño sobre el nivel del suelo            | Int          |\n",
    "| Bedroom       | Dormitorios sobre el nivel del suelo (NO incluye los dormitorios del sótano)| Int          |\n",
    "| Kitchen       | Cocinas sobre el nivel del suelo               | Int          |\n",
    "| KitchenQual   | Calidad de la cocina                           | Ordinal      |\n",
    "| TotRmsAbvGrd  | Total de habitaciones sobre el nivel del suelo (no incluye baños)| Int          |\n",
    "| Functional    | Funcionalidad del hogar                        | Ordinal      |\n",
    "| Fireplaces    | Número de chimeneas                            | Int          |\n",
    "| FireplaceQu   | Calidad de la chimenea                         | Ordinal      |\n",
    "| GarageType    | Ubicación del garaje                           | Nominal      |\n",
    "| GarageYrBlt   | Año en que se construyó el garaje              | Int          |\n",
    "| GarageFinish  | Acabado interior del garaje                    | Ordinal      |\n",
    "| GarageCars    | Capacidad del garaje en capacidad de autos    | Int          |\n",
    "| GarageArea    | Tamaño del garaje en pies cuadrados            | Int          |\n",
    "| GarageQual    | Calidad del garaje                             | Ordinal      |\n",
    "| GarageCond    | Condición del garaje                           | Ordinal      |\n",
    "| PavedDrive    | Entrada pavimentada                           | Int          |\n",
    "| WoodDeckSF    | Área de terraza de madera en pies cuadrados   | Int          |\n",
    "| OpenPorchSF   | Área de porche abierto en pies cuadrados      | Int          |\n",
    "| EnclosedPorch | Área de porche cerrado en pies cuadrados      | Int          |\n",
    "| 3SsnPorch     | Área de porche de tres estaciones en pies cuadrados| Int          |\n",
    "| ScreenPorch   | Área de porche de pantalla en pies cuadrados  | Int          |\n",
    "| PoolArea      | Área de piscina en pies cuadrados             | Ordinal      |\n",
    "| PoolQC        | Calidad de la piscina                          | Nominal      |\n",
    "| Fence         | Calidad de la cerca                            | Nominal      |\n",
    "| MiscFeature   | Característica adicional no cubierta en otras categorías| Int          |\n",
    "| MiscVal       | Valor de características misceláneas          | Int          |\n",
    "| MoSold        | Mes de venta (MM)                             | Int          |\n",
    "| YrSold        | Año de venta (AAAA)                           | Nominal      |\n",
    "| SaleType      | Tipo de venta                                 | Nominal      |\n",
    "| SaleCondition | Condición de venta                            | Int          |"
   ]
  },
  {
   "cell_type": "markdown",
   "metadata": {},
   "source": [
    "\n",
    "## "
   ]
  }
 ],
 "metadata": {
  "kernelspec": {
   "display_name": "Python 3",
   "language": "python",
   "name": "python3"
  },
  "language_info": {
   "codemirror_mode": {
    "name": "ipython",
    "version": 3
   },
   "file_extension": ".py",
   "mimetype": "text/x-python",
   "name": "python",
   "nbconvert_exporter": "python",
   "pygments_lexer": "ipython3",
   "version": "3.9.6"
  },
  "orig_nbformat": 4
 },
 "nbformat": 4,
 "nbformat_minor": 2
}
