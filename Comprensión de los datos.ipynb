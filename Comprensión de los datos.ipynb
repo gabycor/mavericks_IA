{
 "cells": [
  {
   "cell_type": "code",
   "execution_count": 134,
   "metadata": {},
   "outputs": [],
   "source": [
    "# Librerías\n",
    "import pandas as pd\n",
    "import numpy as np\n",
    "import seaborn as sns #Boxplots\n",
    "import matplotlib.pyplot as plt #Histograma\n",
    "from scipy.stats import anderson\n",
    "import statistics\n",
    "from scipy.stats import iqr # Rango intercuartilics"
   ]
  },
  {
   "cell_type": "code",
   "execution_count": 135,
   "metadata": {},
   "outputs": [
    {
     "data": {
      "text/html": [
       "<div>\n",
       "<style scoped>\n",
       "    .dataframe tbody tr th:only-of-type {\n",
       "        vertical-align: middle;\n",
       "    }\n",
       "\n",
       "    .dataframe tbody tr th {\n",
       "        vertical-align: top;\n",
       "    }\n",
       "\n",
       "    .dataframe thead th {\n",
       "        text-align: right;\n",
       "    }\n",
       "</style>\n",
       "<table border=\"1\" class=\"dataframe\">\n",
       "  <thead>\n",
       "    <tr style=\"text-align: right;\">\n",
       "      <th></th>\n",
       "      <th>Id</th>\n",
       "      <th>MSSubClass</th>\n",
       "      <th>MSZoning</th>\n",
       "      <th>LotFrontage</th>\n",
       "      <th>LotArea</th>\n",
       "      <th>Street</th>\n",
       "      <th>Alley</th>\n",
       "      <th>LotShape</th>\n",
       "      <th>LandContour</th>\n",
       "      <th>Utilities</th>\n",
       "      <th>...</th>\n",
       "      <th>ScreenPorch</th>\n",
       "      <th>PoolArea</th>\n",
       "      <th>PoolQC</th>\n",
       "      <th>Fence</th>\n",
       "      <th>MiscFeature</th>\n",
       "      <th>MiscVal</th>\n",
       "      <th>MoSold</th>\n",
       "      <th>YrSold</th>\n",
       "      <th>SaleType</th>\n",
       "      <th>SaleCondition</th>\n",
       "    </tr>\n",
       "  </thead>\n",
       "  <tbody>\n",
       "    <tr>\n",
       "      <th>0</th>\n",
       "      <td>1461</td>\n",
       "      <td>20</td>\n",
       "      <td>RH</td>\n",
       "      <td>80.0</td>\n",
       "      <td>11622</td>\n",
       "      <td>Pave</td>\n",
       "      <td>NaN</td>\n",
       "      <td>Reg</td>\n",
       "      <td>Lvl</td>\n",
       "      <td>AllPub</td>\n",
       "      <td>...</td>\n",
       "      <td>120</td>\n",
       "      <td>0</td>\n",
       "      <td>NaN</td>\n",
       "      <td>MnPrv</td>\n",
       "      <td>NaN</td>\n",
       "      <td>0</td>\n",
       "      <td>6</td>\n",
       "      <td>2010</td>\n",
       "      <td>WD</td>\n",
       "      <td>Normal</td>\n",
       "    </tr>\n",
       "    <tr>\n",
       "      <th>1</th>\n",
       "      <td>1462</td>\n",
       "      <td>20</td>\n",
       "      <td>RL</td>\n",
       "      <td>81.0</td>\n",
       "      <td>14267</td>\n",
       "      <td>Pave</td>\n",
       "      <td>NaN</td>\n",
       "      <td>IR1</td>\n",
       "      <td>Lvl</td>\n",
       "      <td>AllPub</td>\n",
       "      <td>...</td>\n",
       "      <td>0</td>\n",
       "      <td>0</td>\n",
       "      <td>NaN</td>\n",
       "      <td>NaN</td>\n",
       "      <td>Gar2</td>\n",
       "      <td>12500</td>\n",
       "      <td>6</td>\n",
       "      <td>2010</td>\n",
       "      <td>WD</td>\n",
       "      <td>Normal</td>\n",
       "    </tr>\n",
       "    <tr>\n",
       "      <th>2</th>\n",
       "      <td>1463</td>\n",
       "      <td>60</td>\n",
       "      <td>RL</td>\n",
       "      <td>74.0</td>\n",
       "      <td>13830</td>\n",
       "      <td>Pave</td>\n",
       "      <td>NaN</td>\n",
       "      <td>IR1</td>\n",
       "      <td>Lvl</td>\n",
       "      <td>AllPub</td>\n",
       "      <td>...</td>\n",
       "      <td>0</td>\n",
       "      <td>0</td>\n",
       "      <td>NaN</td>\n",
       "      <td>MnPrv</td>\n",
       "      <td>NaN</td>\n",
       "      <td>0</td>\n",
       "      <td>3</td>\n",
       "      <td>2010</td>\n",
       "      <td>WD</td>\n",
       "      <td>Normal</td>\n",
       "    </tr>\n",
       "    <tr>\n",
       "      <th>3</th>\n",
       "      <td>1464</td>\n",
       "      <td>60</td>\n",
       "      <td>RL</td>\n",
       "      <td>78.0</td>\n",
       "      <td>9978</td>\n",
       "      <td>Pave</td>\n",
       "      <td>NaN</td>\n",
       "      <td>IR1</td>\n",
       "      <td>Lvl</td>\n",
       "      <td>AllPub</td>\n",
       "      <td>...</td>\n",
       "      <td>0</td>\n",
       "      <td>0</td>\n",
       "      <td>NaN</td>\n",
       "      <td>NaN</td>\n",
       "      <td>NaN</td>\n",
       "      <td>0</td>\n",
       "      <td>6</td>\n",
       "      <td>2010</td>\n",
       "      <td>WD</td>\n",
       "      <td>Normal</td>\n",
       "    </tr>\n",
       "    <tr>\n",
       "      <th>4</th>\n",
       "      <td>1465</td>\n",
       "      <td>120</td>\n",
       "      <td>RL</td>\n",
       "      <td>43.0</td>\n",
       "      <td>5005</td>\n",
       "      <td>Pave</td>\n",
       "      <td>NaN</td>\n",
       "      <td>IR1</td>\n",
       "      <td>HLS</td>\n",
       "      <td>AllPub</td>\n",
       "      <td>...</td>\n",
       "      <td>144</td>\n",
       "      <td>0</td>\n",
       "      <td>NaN</td>\n",
       "      <td>NaN</td>\n",
       "      <td>NaN</td>\n",
       "      <td>0</td>\n",
       "      <td>1</td>\n",
       "      <td>2010</td>\n",
       "      <td>WD</td>\n",
       "      <td>Normal</td>\n",
       "    </tr>\n",
       "  </tbody>\n",
       "</table>\n",
       "<p>5 rows × 80 columns</p>\n",
       "</div>"
      ],
      "text/plain": [
       "     Id  MSSubClass MSZoning  LotFrontage  LotArea Street Alley LotShape  \\\n",
       "0  1461          20       RH         80.0    11622   Pave   NaN      Reg   \n",
       "1  1462          20       RL         81.0    14267   Pave   NaN      IR1   \n",
       "2  1463          60       RL         74.0    13830   Pave   NaN      IR1   \n",
       "3  1464          60       RL         78.0     9978   Pave   NaN      IR1   \n",
       "4  1465         120       RL         43.0     5005   Pave   NaN      IR1   \n",
       "\n",
       "  LandContour Utilities  ... ScreenPorch PoolArea PoolQC  Fence MiscFeature  \\\n",
       "0         Lvl    AllPub  ...         120        0    NaN  MnPrv         NaN   \n",
       "1         Lvl    AllPub  ...           0        0    NaN    NaN        Gar2   \n",
       "2         Lvl    AllPub  ...           0        0    NaN  MnPrv         NaN   \n",
       "3         Lvl    AllPub  ...           0        0    NaN    NaN         NaN   \n",
       "4         HLS    AllPub  ...         144        0    NaN    NaN         NaN   \n",
       "\n",
       "  MiscVal MoSold  YrSold  SaleType  SaleCondition  \n",
       "0       0      6    2010        WD         Normal  \n",
       "1   12500      6    2010        WD         Normal  \n",
       "2       0      3    2010        WD         Normal  \n",
       "3       0      6    2010        WD         Normal  \n",
       "4       0      1    2010        WD         Normal  \n",
       "\n",
       "[5 rows x 80 columns]"
      ]
     },
     "execution_count": 135,
     "metadata": {},
     "output_type": "execute_result"
    }
   ],
   "source": [
    "# Lectura de datos\n",
    "df = pd.read_csv('./database/test.csv')\n",
    "df.head()"
   ]
  },
  {
   "cell_type": "code",
   "execution_count": 136,
   "metadata": {},
   "outputs": [
    {
     "data": {
      "text/plain": [
       "Id                 int64\n",
       "MSSubClass         int64\n",
       "MSZoning          object\n",
       "LotFrontage      float64\n",
       "LotArea            int64\n",
       "                  ...   \n",
       "MiscVal            int64\n",
       "MoSold             int64\n",
       "YrSold             int64\n",
       "SaleType          object\n",
       "SaleCondition     object\n",
       "Length: 80, dtype: object"
      ]
     },
     "execution_count": 136,
     "metadata": {},
     "output_type": "execute_result"
    }
   ],
   "source": [
    "df.dtypes"
   ]
  },
  {
   "cell_type": "markdown",
   "metadata": {},
   "source": [
    "Variables de tipo \"int\""
   ]
  },
  {
   "cell_type": "code",
   "execution_count": 137,
   "metadata": {},
   "outputs": [
    {
     "data": {
      "text/plain": [
       "['Id',\n",
       " 'MSSubClass',\n",
       " 'LotArea',\n",
       " 'OverallQual',\n",
       " 'OverallCond',\n",
       " 'YearBuilt',\n",
       " 'YearRemodAdd',\n",
       " '1stFlrSF',\n",
       " '2ndFlrSF',\n",
       " 'LowQualFinSF',\n",
       " 'GrLivArea',\n",
       " 'FullBath',\n",
       " 'HalfBath',\n",
       " 'BedroomAbvGr',\n",
       " 'KitchenAbvGr',\n",
       " 'TotRmsAbvGrd',\n",
       " 'Fireplaces',\n",
       " 'WoodDeckSF',\n",
       " 'OpenPorchSF',\n",
       " 'EnclosedPorch',\n",
       " '3SsnPorch',\n",
       " 'ScreenPorch',\n",
       " 'PoolArea',\n",
       " 'MiscVal',\n",
       " 'MoSold',\n",
       " 'YrSold']"
      ]
     },
     "execution_count": 137,
     "metadata": {},
     "output_type": "execute_result"
    }
   ],
   "source": [
    "integer_columns = df.select_dtypes(include=['int']).columns.tolist()\n",
    "integer_columns\n",
    "#len(integer_column)"
   ]
  },
  {
   "cell_type": "markdown",
   "metadata": {},
   "source": [
    "Gaby: LotArea',\n",
    " 'OverallQual',\n",
    " 'OverallCond',\n",
    " 'YearBuilt',\n",
    " 'YearRemodAdd',\n",
    " '1stFlrSF\n",
    "\n",
    " Zay: 2ndFlrSF',\n",
    " 'LowQualFinSF',\n",
    " 'GrLivArea',\n",
    " 'FullBath',\n",
    " 'HalfBath',\n",
    " 'BedroomAbvGr'\n",
    "\n",
    " Eli: KitchenAbvGr',\n",
    " 'TotRmsAbvGrd',\n",
    " 'Fireplaces',\n",
    " 'WoodDeckSF',\n",
    " 'OpenPorchSF',\n",
    " 'EnclosedPorch\n",
    "\n",
    " Pablo: \n",
    " 3SsnPorch',\n",
    " 'ScreenPorch',\n",
    " 'PoolArea',\n",
    " 'MiscVal',\n",
    " 'MoSold',\n",
    " 'YrSold'"
   ]
  },
  {
   "cell_type": "markdown",
   "metadata": {},
   "source": [
    "# MSSubClass"
   ]
  },
  {
   "cell_type": "markdown",
   "metadata": {},
   "source": [
    "1.-¿Qué variables presentan datos atípicos? Para este punto utilizar Bloxplots"
   ]
  },
  {
   "cell_type": "code",
   "execution_count": 80,
   "metadata": {},
   "outputs": [
    {
     "data": {
      "text/plain": [
       "<Axes: xlabel='MSSubClass'>"
      ]
     },
     "execution_count": 80,
     "metadata": {},
     "output_type": "execute_result"
    },
    {
     "data": {
      "image/png": "[encoded data removed]",
      "text/plain": [
       "<Figure size 640x480 with 1 Axes>"
      ]
     },
     "metadata": {},
     "output_type": "display_data"
    }
   ],
   "source": [
    "sns.boxplot(x=df[\"MSSubClass\"])\n",
    "# Se observan que hay datos atípicos"
   ]
  },
  {
   "attachments": {
    "image.png": {
     "image/png": "[encoded data removed]"
    }
   },
   "cell_type": "markdown",
   "metadata": {},
   "source": [
    "![image.png](attachment:image.png)"
   ]
  },
  {
   "cell_type": "markdown",
   "metadata": {},
   "source": [
    "2.-¿En qué variables identifica un tipo de sesgo? Usar histogramas\n",
    "\n",
    "Notas: \n",
    "* Sesgo positivo es a la derecha (cargado a la izquierda)\n",
    "* Sesgo negativo es a la izquierda (cargado a la derecha)."
   ]
  },
  {
   "cell_type": "code",
   "execution_count": 81,
   "metadata": {},
   "outputs": [
    {
     "data": {
      "image/png": "[encoded data removed]",
      "text/plain": [
       "<Figure size 640x480 with 1 Axes>"
      ]
     },
     "metadata": {},
     "output_type": "display_data"
    }
   ],
   "source": [
    "plt.hist(df[\"MSSubClass\"], edgecolor='black')  # You can adjust the number of bins\n",
    "plt.xlabel('\"MSSubClass\"')\n",
    "plt.ylabel('Valores')\n",
    "plt.title('Histograma \"MSSubClass\"')\n",
    "plt.show()\n",
    "\n",
    "# Se observa que la variable genera un sesgo positivo al tener una cola de distribución "
   ]
  },
  {
   "cell_type": "markdown",
   "metadata": {},
   "source": [
    "3.-¿Sigue una distribución normal cada variable numérica? Usar prueba de Anderson Darling"
   ]
  },
  {
   "cell_type": "code",
   "execution_count": null,
   "metadata": {},
   "outputs": [],
   "source": [
    "# Prueba de Anderson-Darling\n",
    "resultado = anderson(df[\"MSSubClass\"])\n",
    "print(\"Estadística de prueba:\", resultado.statistic)\n",
    "print(\"Valores críticos:\", resultado.critical_values)\n",
    "print(\"Niveles de significancia:\", resultado.significance_level)\n",
    "\n",
    "if resultado.statistic < resultado.critical_values[2]:\n",
    "    print(\"Distribución normal\")\n",
    "else:\n",
    "    print(\"No sigue distribución normal\")"
   ]
  },
  {
   "cell_type": "markdown",
   "metadata": {},
   "source": [
    "4.-¿Qué medida de tendencia central describe mejor a la variable y por qué? (media o mediana)\n",
    "\n",
    "Notas:\n",
    "* Si se sigue una distribución normal entonces la media y mediana es lo mismo, por lo que se puede elegir cualquier tendencia para describir a la variable.\n",
    "* Si no se sigue una distribución normal entonces la media no aporta información relevante (genera ruido), por lo tanto la tendencia central que describe mejor a la variable es la \"mediana\" debido a que representa la mitad de los valores intrínsecos."
   ]
  },
  {
   "cell_type": "code",
   "execution_count": null,
   "metadata": {},
   "outputs": [],
   "source": [
    "print(\"Media:\",statistics.mean(df[\"MSSubClass\"]))\n",
    "print(\"Mediana:\",statistics.median(df[\"MSSubClass\"]))"
   ]
  },
  {
   "cell_type": "markdown",
   "metadata": {},
   "source": [
    "Debido a que la variable no sigue una distribución normal, la medida de tendencia central que mejor describe a la variable es la **mediana**."
   ]
  },
  {
   "cell_type": "markdown",
   "metadata": {},
   "source": [
    "5.-¿Qué medida de variabilidad describe mejor a cada variable numérica y por qué? (desviación o rango intercuartil)\n",
    "\n",
    "Notas:\n",
    "* Si se sigue una distribución normal, entonces se ocupa una desviación estándar.\n",
    "* Si no se sigue una distribución normal, entonces acompaña a la mediadana. Es decir, se ocupa como medida de vairiabilidad el rando intercuartil."
   ]
  },
  {
   "cell_type": "code",
   "execution_count": null,
   "metadata": {},
   "outputs": [],
   "source": [
    "statistics.stdev(df[\"MSSubClass\"])"
   ]
  },
  {
   "cell_type": "code",
   "execution_count": null,
   "metadata": {},
   "outputs": [],
   "source": [
    "iqr(df[\"MSSubClass\"])"
   ]
  },
  {
   "cell_type": "markdown",
   "metadata": {},
   "source": [
    "En este caso, debido a que la medida de tendencia que se seleccionó es la mediana, la medida de variabilidad que mejor describe a cada variable es el **rango intercuartil** que para este caso es 50.0"
   ]
  },
  {
   "cell_type": "markdown",
   "metadata": {},
   "source": [
    "# LotArea"
   ]
  },
  {
   "cell_type": "markdown",
   "metadata": {},
   "source": [
    "1.-¿Qué variables presentan datos atípicos? Para este punto utilizar Bloxplots"
   ]
  },
  {
   "cell_type": "code",
   "execution_count": 66,
   "metadata": {},
   "outputs": [
    {
     "data": {
      "text/plain": [
       "<Axes: xlabel='LotArea'>"
      ]
     },
     "execution_count": 66,
     "metadata": {},
     "output_type": "execute_result"
    },
    {
     "data": {
      "image/png": "[encoded data removed]",
      "text/plain": [
       "<Figure size 640x480 with 1 Axes>"
      ]
     },
     "metadata": {},
     "output_type": "display_data"
    }
   ],
   "source": [
    "sns.boxplot(x=df['LotArea'])\n",
    "\n",
    "# Se observan que hay datos atípicos"
   ]
  },
  {
   "cell_type": "markdown",
   "metadata": {},
   "source": [
    "2.-¿En qué variables identifica un tipo de sesgo? Usar histogramas\n",
    "\n",
    "Notas: \n",
    "* Sesgo positivo es a la derecha (cargado a la izquierda)\n",
    "* Sesgo negativo es a la izquierda (cargado a la derecha)."
   ]
  },
  {
   "cell_type": "code",
   "execution_count": 85,
   "metadata": {},
   "outputs": [
    {
     "data": {
      "image/png": "[encoded data removed]",
      "text/plain": [
       "<Figure size 640x480 with 1 Axes>"
      ]
     },
     "metadata": {},
     "output_type": "display_data"
    }
   ],
   "source": [
    "plt.hist(df['LotArea'], edgecolor='black')  # You can adjust the number of bins\n",
    "plt.xlabel('LotArea')\n",
    "plt.ylabel('Valores')\n",
    "plt.title('Histograma \"LotArea\"')\n",
    "plt.show()\n",
    "\n",
    "#Sesgo positivo al estar a la derecha, se puede observar que se tienen outliers por lo que se puede ver modificado"
   ]
  },
  {
   "cell_type": "markdown",
   "metadata": {},
   "source": [
    "3.-¿Sigue una distribución normal cada variable numérica? Usar prueba de Anderson Darling"
   ]
  },
  {
   "cell_type": "code",
   "execution_count": 94,
   "metadata": {},
   "outputs": [
    {
     "name": "stdout",
     "output_type": "stream",
     "text": [
      "Estadística de prueba: 43.223838001171316\n",
      "Valores críticos: [0.574 0.654 0.785 0.916 1.089]\n",
      "Niveles de significancia: [15.  10.   5.   2.5  1. ]\n",
      "No sigue distribución normal\n"
     ]
    }
   ],
   "source": [
    "# Prueba de Anderson-Darling\n",
    "resultado = anderson(df['LotArea'])\n",
    "print(\"Estadística de prueba:\", resultado.statistic)\n",
    "print(\"Valores críticos:\", resultado.critical_values)\n",
    "print(\"Niveles de significancia:\", resultado.significance_level)\n",
    "\n",
    "if resultado.statistic < resultado.critical_values[2]:\n",
    "    print(\"Distribución normal\")\n",
    "else:\n",
    "    print(\"No sigue distribución normal\")"
   ]
  },
  {
   "cell_type": "markdown",
   "metadata": {},
   "source": [
    "4.-¿Qué medida de tendencia central describe mejor a la variable y por qué? (media o mediana)\n",
    "\n",
    "Notas:\n",
    "* Si se sigue una distribución normal entonces la media y mediana es lo mismo, por lo que se puede elegir cualquier tendencia para describir a la variable.\n",
    "* Si no se sigue una distribución normal entonces la media no aporta información relevante (genera ruido), por lo tanto la tendencia central que describe mejor a la variable es la \"mediana\" debido a que representa la mitad de los valores intrínsecos."
   ]
  },
  {
   "cell_type": "code",
   "execution_count": 100,
   "metadata": {},
   "outputs": [
    {
     "name": "stdout",
     "output_type": "stream",
     "text": [
      "Media: 9819.161069225496\n",
      "Mediana: 9399\n"
     ]
    }
   ],
   "source": [
    "print(\"Media:\",statistics.mean(df['LotArea']))\n",
    "print(\"Mediana:\",statistics.median(df['LotArea']))"
   ]
  },
  {
   "cell_type": "markdown",
   "metadata": {},
   "source": [
    "Debido a que la variable no sigue una distribución normal, la medida de tendencia central que mejor describe a la variable es la **mediana**."
   ]
  },
  {
   "cell_type": "markdown",
   "metadata": {},
   "source": [
    "5.-¿Qué medida de variabilidad describe mejor a cada variable numérica y por qué? (desviación o rango intercuartil)\n",
    "\n",
    "Notas:\n",
    "* Si se sigue una distribución normal, entonces se ocupa una desviación estándar.\n",
    "* Si no se sigue una distribución normal, entonces acompaña a la mediadana. Es decir, se ocupa como medida de vairiabilidad el rando intercuartil."
   ]
  },
  {
   "cell_type": "code",
   "execution_count": 103,
   "metadata": {},
   "outputs": [
    {
     "data": {
      "text/plain": [
       "4955.51732692645"
      ]
     },
     "execution_count": 103,
     "metadata": {},
     "output_type": "execute_result"
    }
   ],
   "source": [
    "statistics.stdev(df['LotArea'])"
   ]
  },
  {
   "cell_type": "code",
   "execution_count": 105,
   "metadata": {},
   "outputs": [
    {
     "data": {
      "text/plain": [
       "4126.5"
      ]
     },
     "execution_count": 105,
     "metadata": {},
     "output_type": "execute_result"
    }
   ],
   "source": [
    "iqr(df['LotArea'])"
   ]
  },
  {
   "cell_type": "markdown",
   "metadata": {},
   "source": [
    "En este caso, debido a que la medida de tendencia que se seleccionó es la mediana, la medida de variabilidad que mejor describe a cada variable es el **rango intercuartil** que para este caso es 4216.5"
   ]
  },
  {
   "cell_type": "markdown",
   "metadata": {},
   "source": [
    "#  OverallQual"
   ]
  },
  {
   "cell_type": "markdown",
   "metadata": {},
   "source": [
    "1.-¿Qué variables presentan datos atípicos? Para este punto utilizar Bloxplots"
   ]
  },
  {
   "cell_type": "code",
   "execution_count": 113,
   "metadata": {},
   "outputs": [
    {
     "data": {
      "text/plain": [
       "<Axes: xlabel='OverallQual'>"
      ]
     },
     "execution_count": 113,
     "metadata": {},
     "output_type": "execute_result"
    },
    {
     "data": {
      "image/png": "[encoded data removed]",
      "text/plain": [
       "<Figure size 640x480 with 1 Axes>"
      ]
     },
     "metadata": {},
     "output_type": "display_data"
    }
   ],
   "source": [
    "sns.boxplot(x=df['OverallQual'])\n",
    "# Se observan que hay pocos datos atípicos"
   ]
  },
  {
   "cell_type": "markdown",
   "metadata": {},
   "source": [
    "2.-¿En qué variables identifica un tipo de sesgo? Usar histogramas\n",
    "\n",
    "Notas: \n",
    "* Sesgo positivo es a la derecha (cargado a la izquierda)\n",
    "* Sesgo negativo es a la izquierda (cargado a la derecha)."
   ]
  },
  {
   "cell_type": "code",
   "execution_count": 126,
   "metadata": {},
   "outputs": [
    {
     "data": {
      "image/png": "[encoded data removed]",
      "text/plain": [
       "<Figure size 640x480 with 1 Axes>"
      ]
     },
     "metadata": {},
     "output_type": "display_data"
    }
   ],
   "source": [
    "plt.hist(df['OverallQual'], edgecolor='black')  # You can adjust the number of bins\n",
    "plt.xlabel('OverallQual')\n",
    "plt.ylabel('Valores')\n",
    "plt.title('Histograma \"OverallQual\"')\n",
    "plt.show()\n",
    "\n",
    "# Se observa un sesgo negativo al estar a la izquierda"
   ]
  },
  {
   "cell_type": "markdown",
   "metadata": {},
   "source": [
    "3.-¿Sigue una distribución normal cada variable numérica? Usar prueba de Anderson Darling"
   ]
  },
  {
   "cell_type": "code",
   "execution_count": 130,
   "metadata": {},
   "outputs": [
    {
     "name": "stdout",
     "output_type": "stream",
     "text": [
      "Estadística de prueba: 36.47170785831577\n",
      "Valores críticos: [0.574 0.654 0.785 0.916 1.089]\n",
      "Niveles de significancia: [15.  10.   5.   2.5  1. ]\n",
      "No sigue distribución normal\n"
     ]
    }
   ],
   "source": [
    "# Prueba de Anderson-Darling\n",
    "resultado = anderson(df['OverallQual'])\n",
    "print(\"Estadística de prueba:\", resultado.statistic)\n",
    "print(\"Valores críticos:\", resultado.critical_values)\n",
    "print(\"Niveles de significancia:\", resultado.significance_level)\n",
    "\n",
    "if resultado.statistic < resultado.critical_values[2]:\n",
    "    print(\"Distribución normal\")\n",
    "else:\n",
    "    print(\"No sigue distribución normal\")"
   ]
  },
  {
   "cell_type": "markdown",
   "metadata": {},
   "source": [
    "4.-¿Qué medida de tendencia central describe mejor a la variable y por qué? (media o mediana)\n",
    "\n",
    "Notas:\n",
    "* Si se sigue una distribución normal entonces la media y mediana es lo mismo, por lo que se puede elegir cualquier tendencia para describir a la variable.\n",
    "* Si no se sigue una distribución normal entonces la media no aporta información relevante (genera ruido), por lo tanto la tendencia central que describe mejor a la variable es la \"mediana\" debido a que representa la mitad de los valores intrínsecos."
   ]
  },
  {
   "cell_type": "code",
   "execution_count": 133,
   "metadata": {},
   "outputs": [
    {
     "name": "stdout",
     "output_type": "stream",
     "text": [
      "Media: 6.078821110349555\n",
      "Mediana: 6\n"
     ]
    }
   ],
   "source": [
    "print(\"Media:\",statistics.mean(df['OverallQual']))\n",
    "print(\"Mediana:\",statistics.median(df['OverallQual']))"
   ]
  },
  {
   "cell_type": "markdown",
   "metadata": {},
   "source": [
    "Debido a que la variable no sigue una distribución normal, la medida de tendencia central que mejor describe a la variable es la **mediana**."
   ]
  },
  {
   "cell_type": "markdown",
   "metadata": {},
   "source": [
    "5.-¿Qué medida de variabilidad describe mejor a cada variable numérica y por qué? (desviación o rango intercuartil)\n",
    "\n",
    "Notas:\n",
    "* Si se sigue una distribución normal, entonces se ocupa una desviación estándar.\n",
    "* Si no se sigue una distribución normal, entonces acompaña a la mediadana. Es decir, se ocupa como medida de vairiabilidad el rando intercuartil."
   ]
  },
  {
   "cell_type": "code",
   "execution_count": 136,
   "metadata": {},
   "outputs": [
    {
     "data": {
      "text/plain": [
       "1.4368116404730185"
      ]
     },
     "execution_count": 136,
     "metadata": {},
     "output_type": "execute_result"
    }
   ],
   "source": [
    "statistics.stdev(df['OverallQual'])"
   ]
  },
  {
   "cell_type": "code",
   "execution_count": 137,
   "metadata": {},
   "outputs": [
    {
     "data": {
      "text/plain": [
       "2.0"
      ]
     },
     "execution_count": 137,
     "metadata": {},
     "output_type": "execute_result"
    }
   ],
   "source": [
    "iqr(df['OverallQual'])"
   ]
  },
  {
   "cell_type": "markdown",
   "metadata": {},
   "source": [
    "En este caso, debido a que la medida de tendencia que se seleccionó es la mediana, la medida de variabilidad que mejor describe a cada variable es el **rango intercuartil** que para este caso es 2.0"
   ]
  },
  {
   "cell_type": "markdown",
   "metadata": {},
   "source": [
    "# OverallCond"
   ]
  },
  {
   "cell_type": "markdown",
   "metadata": {},
   "source": [
    "1.-¿Qué variables presentan datos atípicos? Para este punto utilizar Bloxplots"
   ]
  },
  {
   "cell_type": "code",
   "execution_count": 140,
   "metadata": {},
   "outputs": [
    {
     "data": {
      "text/plain": [
       "<Axes: xlabel='OverallCond'>"
      ]
     },
     "execution_count": 140,
     "metadata": {},
     "output_type": "execute_result"
    },
    {
     "data": {
      "image/png": "[encoded data removed]",
      "text/plain": [
       "<Figure size 640x480 with 1 Axes>"
      ]
     },
     "metadata": {},
     "output_type": "display_data"
    }
   ],
   "source": [
    "sns.boxplot(x=df[\"OverallCond\"])\n",
    "\n",
    "# Se observan que hay datos atípicos"
   ]
  },
  {
   "cell_type": "markdown",
   "metadata": {},
   "source": [
    "2.-¿En qué variables identifica un tipo de sesgo? Usar histogramas\n",
    "\n",
    "Notas: \n",
    "* Sesgo positivo es a la derecha (cargado a la izquierda)\n",
    "* Sesgo negativo es a la izquierda (cargado a la derecha)."
   ]
  },
  {
   "cell_type": "code",
   "execution_count": 150,
   "metadata": {},
   "outputs": [
    {
     "data": {
      "image/png": "[encoded data removed]",
      "text/plain": [
       "<Figure size 640x480 with 1 Axes>"
      ]
     },
     "metadata": {},
     "output_type": "display_data"
    }
   ],
   "source": [
    "plt.hist(df[\"OverallCond\"], edgecolor='black')  # You can adjust the number of bins\n",
    "plt.xlabel('OverallCond')\n",
    "plt.ylabel('Valores')\n",
    "plt.title('Histograma \"OverallCond\"')\n",
    "plt.show()\n",
    "\n",
    "#Se observa que sigue una distribución con sesgo negativo"
   ]
  },
  {
   "cell_type": "markdown",
   "metadata": {},
   "source": [
    "3.-¿Sigue una distribución normal cada variable numérica? Usar prueba de Anderson Darling"
   ]
  },
  {
   "cell_type": "code",
   "execution_count": 151,
   "metadata": {},
   "outputs": [
    {
     "name": "stdout",
     "output_type": "stream",
     "text": [
      "Estadística de prueba: 124.4108414679381\n",
      "Valores críticos: [0.574 0.654 0.785 0.916 1.089]\n",
      "Niveles de significancia: [15.  10.   5.   2.5  1. ]\n",
      "No sigue distribución normal\n"
     ]
    }
   ],
   "source": [
    "# Prueba de Anderson-Darling\n",
    "resultado = anderson(df[\"OverallCond\"])\n",
    "print(\"Estadística de prueba:\", resultado.statistic)\n",
    "print(\"Valores críticos:\", resultado.critical_values)\n",
    "print(\"Niveles de significancia:\", resultado.significance_level)\n",
    "\n",
    "if resultado.statistic < resultado.critical_values[2]:\n",
    "    print(\"Distribución normal\")\n",
    "else:\n",
    "    print(\"No sigue distribución normal\")"
   ]
  },
  {
   "cell_type": "markdown",
   "metadata": {},
   "source": [
    "4.-¿Qué medida de tendencia central describe mejor a la variable y por qué? (media o mediana)\n",
    "\n",
    "Notas:\n",
    "* Si se sigue una distribución normal entonces la media y mediana es lo mismo, por lo que se puede elegir cualquier tendencia para describir a la variable.\n",
    "* Si no se sigue una distribución normal entonces la media no aporta información relevante (genera ruido), por lo tanto la tendencia central que describe mejor a la variable es la \"mediana\" debido a que representa la mitad de los valores intrínsecos."
   ]
  },
  {
   "cell_type": "code",
   "execution_count": 154,
   "metadata": {},
   "outputs": [
    {
     "name": "stdout",
     "output_type": "stream",
     "text": [
      "Media: 5.5538039753255655\n",
      "Mediana: 5\n"
     ]
    }
   ],
   "source": [
    "print(\"Media:\",statistics.mean(df[\"OverallCond\"]))\n",
    "print(\"Mediana:\",statistics.median(df[\"OverallCond\"]))"
   ]
  },
  {
   "cell_type": "markdown",
   "metadata": {},
   "source": [
    "Debido a que la variable no sigue una distribución normal, la medida de tendencia central que mejor describe a la variable es la **mediana**."
   ]
  },
  {
   "cell_type": "markdown",
   "metadata": {},
   "source": [
    "5.-¿Qué medida de variabilidad describe mejor a cada variable numérica y por qué? (desviación o rango intercuartil)\n",
    "\n",
    "Notas:\n",
    "* Si se sigue una distribución normal, entonces se ocupa una desviación estándar.\n",
    "* Si no se sigue una distribución normal, entonces acompaña a la mediadana. Es decir, se ocupa como medida de vairiabilidad el rando intercuartil."
   ]
  },
  {
   "cell_type": "code",
   "execution_count": 156,
   "metadata": {},
   "outputs": [
    {
     "data": {
      "text/plain": [
       "1.1137396032892084"
      ]
     },
     "execution_count": 156,
     "metadata": {},
     "output_type": "execute_result"
    }
   ],
   "source": [
    "statistics.stdev(df[\"OverallCond\"])"
   ]
  },
  {
   "cell_type": "code",
   "execution_count": 157,
   "metadata": {},
   "outputs": [
    {
     "data": {
      "text/plain": [
       "1.0"
      ]
     },
     "execution_count": 157,
     "metadata": {},
     "output_type": "execute_result"
    }
   ],
   "source": [
    "iqr(df[\"OverallCond\"])"
   ]
  },
  {
   "cell_type": "markdown",
   "metadata": {},
   "source": [
    "En este caso, debido a que la medida de tendencia que se seleccionó es la mediana, la medida de variabilidad que mejor describe a cada variable es el **rango intercuartil** que para este caso es 1.0"
   ]
  },
  {
   "cell_type": "markdown",
   "metadata": {},
   "source": [
    "#  YearBuilt"
   ]
  },
  {
   "cell_type": "markdown",
   "metadata": {},
   "source": [
    "1.-¿Qué variables presentan datos atípicos? Para este punto utilizar Bloxplots"
   ]
  },
  {
   "cell_type": "code",
   "execution_count": 11,
   "metadata": {},
   "outputs": [
    {
     "data": {
      "text/plain": [
       "<Axes: xlabel='YearBuilt'>"
      ]
     },
     "execution_count": 11,
     "metadata": {},
     "output_type": "execute_result"
    },
    {
     "data": {
      "image/png": "[encoded data removed]",
      "text/plain": [
       "<Figure size 640x480 with 1 Axes>"
      ]
     },
     "metadata": {},
     "output_type": "display_data"
    }
   ],
   "source": [
    "sns.boxplot(x=df['YearBuilt'])\n",
    "\n",
    "# Se observan valores atípicos"
   ]
  },
  {
   "cell_type": "markdown",
   "metadata": {},
   "source": [
    "2.-¿En qué variables identifica un tipo de sesgo? Usar histogramas\n",
    "\n",
    "Notas: \n",
    "* Sesgo positivo es a la derecha (cargado a la izquierda)\n",
    "* Sesgo negativo es a la izquierda (cargado a la derecha)."
   ]
  },
  {
   "cell_type": "code",
   "execution_count": 14,
   "metadata": {},
   "outputs": [
    {
     "data": {
      "image/png": "[encoded data removed]",
      "text/plain": [
       "<Figure size 640x480 with 1 Axes>"
      ]
     },
     "metadata": {},
     "output_type": "display_data"
    }
   ],
   "source": [
    "plt.hist(df['YearBuilt'], edgecolor='black')  # You can adjust the number of bins\n",
    "plt.xlabel('YearBuilt')\n",
    "plt.ylabel('Valores')\n",
    "plt.title('Histograma YearBuilt')\n",
    "plt.show()\n",
    "\n",
    "#Se puede observar que en la variable hay un sesgo negativo al estar a la izquierda"
   ]
  },
  {
   "cell_type": "markdown",
   "metadata": {},
   "source": [
    "3.-¿Sigue una distribución normal cada variable numérica? Usar prueba de Anderson Darling"
   ]
  },
  {
   "cell_type": "code",
   "execution_count": 15,
   "metadata": {},
   "outputs": [
    {
     "name": "stdout",
     "output_type": "stream",
     "text": [
      "Estadística de prueba: 33.33856503143511\n",
      "Valores críticos: [0.574 0.654 0.785 0.916 1.089]\n",
      "Niveles de significancia: [15.  10.   5.   2.5  1. ]\n",
      "No sigue distribución normal\n"
     ]
    }
   ],
   "source": [
    "# Prueba de Anderson-Darling\n",
    "resultado = anderson(df['YearBuilt'])\n",
    "print(\"Estadística de prueba:\", resultado.statistic)\n",
    "print(\"Valores críticos:\", resultado.critical_values)\n",
    "print(\"Niveles de significancia:\", resultado.significance_level)\n",
    "\n",
    "if resultado.statistic < resultado.critical_values[2]:\n",
    "    print(\"Distribución normal\")\n",
    "else:\n",
    "    print(\"No sigue distribución normal\")"
   ]
  },
  {
   "cell_type": "markdown",
   "metadata": {},
   "source": [
    "4.-¿Qué medida de tendencia central describe mejor a la variable y por qué? (media o mediana)\n",
    "\n",
    "Notas:\n",
    "* Si se sigue una distribución normal entonces la media y mediana es lo mismo, por lo que se puede elegir cualquier tendencia para describir a la variable.\n",
    "* Si no se sigue una distribución normal entonces la media no aporta información relevante (genera ruido), por lo tanto la tendencia central que describe mejor a la variable es la \"mediana\" debido a que representa la mitad de los valores intrínsecos."
   ]
  },
  {
   "cell_type": "code",
   "execution_count": 16,
   "metadata": {},
   "outputs": [
    {
     "name": "stdout",
     "output_type": "stream",
     "text": [
      "Media: 1971.357779300891\n",
      "Mediana: 1973\n"
     ]
    }
   ],
   "source": [
    "print(\"Media:\",statistics.mean(df['YearBuilt']))\n",
    "print(\"Mediana:\",statistics.median(df['YearBuilt']))"
   ]
  },
  {
   "cell_type": "markdown",
   "metadata": {},
   "source": [
    "Debido a que la variable no sigue una distribución normal, la medida de tendencia central que mejor describe a la variable es la **mediana**."
   ]
  },
  {
   "cell_type": "markdown",
   "metadata": {},
   "source": [
    "5.-¿Qué medida de variabilidad describe mejor a cada variable numérica y por qué? (desviación o rango intercuartil)\n",
    "\n",
    "Notas:\n",
    "* Si se sigue una distribución normal, entonces se ocupa una desviación estándar.\n",
    "* Si no se sigue una distribución normal, entonces acompaña a la mediadana. Es decir, se ocupa como medida de vairiabilidad el rando intercuartil."
   ]
  },
  {
   "cell_type": "code",
   "execution_count": 17,
   "metadata": {},
   "outputs": [
    {
     "data": {
      "text/plain": [
       "30.39007083720525"
      ]
     },
     "execution_count": 17,
     "metadata": {},
     "output_type": "execute_result"
    }
   ],
   "source": [
    "statistics.stdev(df['YearBuilt'])"
   ]
  },
  {
   "cell_type": "code",
   "execution_count": 18,
   "metadata": {},
   "outputs": [
    {
     "data": {
      "text/plain": [
       "48.0"
      ]
     },
     "execution_count": 18,
     "metadata": {},
     "output_type": "execute_result"
    }
   ],
   "source": [
    "iqr(df['YearBuilt'])"
   ]
  },
  {
   "cell_type": "markdown",
   "metadata": {},
   "source": [
    "En este caso, debido a que la medida de tendencia que se seleccionó es la mediana, la medida de variabilidad que mejor describe a cada variable es el **rango intercuartil** que para este caso es 48.0"
   ]
  },
  {
   "cell_type": "markdown",
   "metadata": {},
   "source": [
    "#  YearRemodAdd"
   ]
  },
  {
   "cell_type": "markdown",
   "metadata": {},
   "source": [
    "1.-¿Qué variables presentan datos atípicos? Para este punto utilizar Bloxplots"
   ]
  },
  {
   "cell_type": "code",
   "execution_count": 19,
   "metadata": {},
   "outputs": [
    {
     "data": {
      "text/plain": [
       "<Axes: xlabel='YearRemodAdd'>"
      ]
     },
     "execution_count": 19,
     "metadata": {},
     "output_type": "execute_result"
    },
    {
     "data": {
      "image/png": "[encoded data removed]",
      "text/plain": [
       "<Figure size 640x480 with 1 Axes>"
      ]
     },
     "metadata": {},
     "output_type": "display_data"
    }
   ],
   "source": [
    "sns.boxplot(x=df['YearRemodAdd'])\n",
    "\n",
    "#Se puede observar que no hay datos atípicos"
   ]
  },
  {
   "cell_type": "markdown",
   "metadata": {},
   "source": [
    "2.-¿En qué variables identifica un tipo de sesgo? Usar histogramas\n",
    "\n",
    "Notas: \n",
    "* Sesgo positivo es a la derecha (cargado a la izquierda)\n",
    "* Sesgo negativo es a la izquierda (cargado a la derecha)."
   ]
  },
  {
   "cell_type": "code",
   "execution_count": 21,
   "metadata": {},
   "outputs": [
    {
     "data": {
      "image/png": "[encoded data removed]",
      "text/plain": [
       "<Figure size 640x480 with 1 Axes>"
      ]
     },
     "metadata": {},
     "output_type": "display_data"
    }
   ],
   "source": [
    "plt.hist(df['YearRemodAdd'], edgecolor='black')  # You can adjust the number of bins\n",
    "plt.xlabel('YearRemodAdd')\n",
    "plt.ylabel('Valores')\n",
    "plt.title('Histograma YearRemodAdd')\n",
    "plt.show()\n",
    "\n",
    "# Se puede observar que hay un sesgo negativo la cual es a la izquierda"
   ]
  },
  {
   "cell_type": "markdown",
   "metadata": {},
   "source": [
    "3.-¿Sigue una distribución normal cada variable numérica? Usar prueba de Anderson Darling"
   ]
  },
  {
   "cell_type": "code",
   "execution_count": 22,
   "metadata": {},
   "outputs": [
    {
     "name": "stdout",
     "output_type": "stream",
     "text": [
      "Estadística de prueba: 71.40717512393667\n",
      "Valores críticos: [0.574 0.654 0.785 0.916 1.089]\n",
      "Niveles de significancia: [15.  10.   5.   2.5  1. ]\n",
      "No sigue distribución normal\n"
     ]
    }
   ],
   "source": [
    "# Prueba de Anderson-Darling\n",
    "resultado = anderson(df['YearRemodAdd'])\n",
    "print(\"Estadística de prueba:\", resultado.statistic)\n",
    "print(\"Valores críticos:\", resultado.critical_values)\n",
    "print(\"Niveles de significancia:\", resultado.significance_level)\n",
    "\n",
    "if resultado.statistic < resultado.critical_values[2]:\n",
    "    print(\"Distribución normal\")\n",
    "else:\n",
    "    print(\"No sigue distribución normal\")"
   ]
  },
  {
   "cell_type": "markdown",
   "metadata": {},
   "source": [
    "4.-¿Qué medida de tendencia central describe mejor a la variable y por qué? (media o mediana)\n",
    "\n",
    "Notas:\n",
    "* Si se sigue una distribución normal entonces la media y mediana es lo mismo, por lo que se puede elegir cualquier tendencia para describir a la variable.\n",
    "* Si no se sigue una distribución normal entonces la media no aporta información relevante (genera ruido), por lo tanto la tendencia central que describe mejor a la variable es la \"mediana\" debido a que representa la mitad de los valores intrínsecos."
   ]
  },
  {
   "cell_type": "code",
   "execution_count": 23,
   "metadata": {},
   "outputs": [
    {
     "name": "stdout",
     "output_type": "stream",
     "text": [
      "Media: 1983.6627827278958\n",
      "Mediana: 1992\n"
     ]
    }
   ],
   "source": [
    "print(\"Media:\",statistics.mean(df['YearRemodAdd']))\n",
    "print(\"Mediana:\",statistics.median(df['YearRemodAdd']))"
   ]
  },
  {
   "cell_type": "markdown",
   "metadata": {},
   "source": [
    "Debido a que la variable no sigue una distribución normal, la medida de tendencia central que mejor describe a la variable es la **mediana**."
   ]
  },
  {
   "cell_type": "markdown",
   "metadata": {},
   "source": [
    "5.-¿Qué medida de variabilidad describe mejor a cada variable numérica y por qué? (desviación o rango intercuartil)\n",
    "\n",
    "Notas:\n",
    "* Si se sigue una distribución normal, entonces se ocupa una desviación estándar.\n",
    "* Si no se sigue una distribución normal, entonces acompaña a la mediadana. Es decir, se ocupa como medida de vairiabilidad el rando intercuartil."
   ]
  },
  {
   "cell_type": "code",
   "execution_count": 24,
   "metadata": {},
   "outputs": [
    {
     "data": {
      "text/plain": [
       "21.13046690817047"
      ]
     },
     "execution_count": 24,
     "metadata": {},
     "output_type": "execute_result"
    }
   ],
   "source": [
    "statistics.stdev(df['YearRemodAdd'])"
   ]
  },
  {
   "cell_type": "code",
   "execution_count": 25,
   "metadata": {},
   "outputs": [
    {
     "data": {
      "text/plain": [
       "41.0"
      ]
     },
     "execution_count": 25,
     "metadata": {},
     "output_type": "execute_result"
    }
   ],
   "source": [
    "iqr(df['YearRemodAdd'])"
   ]
  },
  {
   "cell_type": "markdown",
   "metadata": {},
   "source": [
    "En este caso, debido a que la medida de tendencia que se seleccionó es la mediana, la medida de variabilidad que mejor describe a cada variable es el **rango intercuartil** que para este caso es 41.0"
   ]
  },
  {
   "cell_type": "markdown",
   "metadata": {},
   "source": [
    "#  1stFlrSF"
   ]
  },
  {
   "cell_type": "markdown",
   "metadata": {},
   "source": [
    "1.-¿Qué variables presentan datos atípicos? Para este punto utilizar Bloxplots"
   ]
  },
  {
   "cell_type": "code",
   "execution_count": 27,
   "metadata": {},
   "outputs": [
    {
     "data": {
      "text/plain": [
       "<Axes: xlabel='1stFlrSF'>"
      ]
     },
     "execution_count": 27,
     "metadata": {},
     "output_type": "execute_result"
    },
    {
     "data": {
      "image/png": "[encoded data removed]",
      "text/plain": [
       "<Figure size 640x480 with 1 Axes>"
      ]
     },
     "metadata": {},
     "output_type": "display_data"
    }
   ],
   "source": [
    "sns.boxplot(x=df['1stFlrSF'])\n",
    "\n",
    "#Se puede observar que se encuentran datos atípicos"
   ]
  },
  {
   "cell_type": "markdown",
   "metadata": {},
   "source": [
    "2.-¿En qué variables identifica un tipo de sesgo? Usar histogramas\n",
    "\n",
    "Notas: \n",
    "* Sesgo positivo es a la derecha (cargado a la izquierda)\n",
    "* Sesgo negativo es a la izquierda (cargado a la derecha)."
   ]
  },
  {
   "cell_type": "code",
   "execution_count": 28,
   "metadata": {},
   "outputs": [
    {
     "data": {
      "image/png": "[encoded data removed]",
      "text/plain": [
       "<Figure size 640x480 with 1 Axes>"
      ]
     },
     "metadata": {},
     "output_type": "display_data"
    }
   ],
   "source": [
    "plt.hist(df['1stFlrSF'], edgecolor='black')  # You can adjust the number of bins\n",
    "plt.xlabel('1stFlrSF')\n",
    "plt.ylabel('Valores')\n",
    "plt.title('Histograma 1stFlrSF')\n",
    "plt.show()\n",
    "\n",
    "#Se puede observar que en la variable se tiene un sesgo positivo"
   ]
  },
  {
   "cell_type": "markdown",
   "metadata": {},
   "source": [
    "3.-¿Sigue una distribución normal cada variable numérica? Usar prueba de Anderson Darling"
   ]
  },
  {
   "cell_type": "code",
   "execution_count": 29,
   "metadata": {},
   "outputs": [
    {
     "name": "stdout",
     "output_type": "stream",
     "text": [
      "Estadística de prueba: 17.94593770474694\n",
      "Valores críticos: [0.574 0.654 0.785 0.916 1.089]\n",
      "Niveles de significancia: [15.  10.   5.   2.5  1. ]\n",
      "No sigue distribución normal\n"
     ]
    }
   ],
   "source": [
    "# Prueba de Anderson-Darling\n",
    "resultado = anderson(df['1stFlrSF'])\n",
    "print(\"Estadística de prueba:\", resultado.statistic)\n",
    "print(\"Valores críticos:\", resultado.critical_values)\n",
    "print(\"Niveles de significancia:\", resultado.significance_level)\n",
    "\n",
    "if resultado.statistic < resultado.critical_values[2]:\n",
    "    print(\"Distribución normal\")\n",
    "else:\n",
    "    print(\"No sigue distribución normal\")"
   ]
  },
  {
   "cell_type": "markdown",
   "metadata": {},
   "source": [
    "4.-¿Qué medida de tendencia central describe mejor a la variable y por qué? (media o mediana)\n",
    "\n",
    "Notas:\n",
    "* Si se sigue una distribución normal entonces la media y mediana es lo mismo, por lo que se puede elegir cualquier tendencia para describir a la variable.\n",
    "* Si no se sigue una distribución normal entonces la media no aporta información relevante (genera ruido), por lo tanto la tendencia central que describe mejor a la variable es la \"mediana\" debido a que representa la mitad de los valores intrínsecos."
   ]
  },
  {
   "cell_type": "code",
   "execution_count": 30,
   "metadata": {},
   "outputs": [
    {
     "name": "stdout",
     "output_type": "stream",
     "text": [
      "Media: 1156.534612748458\n",
      "Mediana: 1079\n"
     ]
    }
   ],
   "source": [
    "print(\"Media:\",statistics.mean(df['1stFlrSF']))\n",
    "print(\"Mediana:\",statistics.median(df['1stFlrSF']))"
   ]
  },
  {
   "cell_type": "markdown",
   "metadata": {},
   "source": [
    "Debido a que la variable no sigue una distribución normal, la medida de tendencia central que mejor describe a la variable es la **mediana**."
   ]
  },
  {
   "cell_type": "markdown",
   "metadata": {},
   "source": [
    "5.-¿Qué medida de variabilidad describe mejor a cada variable numérica y por qué? (desviación o rango intercuartil)\n",
    "\n",
    "Notas:\n",
    "* Si se sigue una distribución normal, entonces se ocupa una desviación estándar.\n",
    "* Si no se sigue una distribución normal, entonces acompaña a la mediadana. Es decir, se ocupa como medida de vairiabilidad el rando intercuartil."
   ]
  },
  {
   "cell_type": "code",
   "execution_count": 31,
   "metadata": {},
   "outputs": [
    {
     "data": {
      "text/plain": [
       "398.165819592379"
      ]
     },
     "execution_count": 31,
     "metadata": {},
     "output_type": "execute_result"
    }
   ],
   "source": [
    "statistics.stdev(df['1stFlrSF'])"
   ]
  },
  {
   "cell_type": "code",
   "execution_count": 32,
   "metadata": {},
   "outputs": [
    {
     "data": {
      "text/plain": [
       "509.0"
      ]
     },
     "execution_count": 32,
     "metadata": {},
     "output_type": "execute_result"
    }
   ],
   "source": [
    "iqr(df['1stFlrSF'])"
   ]
  },
  {
   "cell_type": "markdown",
   "metadata": {},
   "source": [
    "En este caso, debido a que la medida de tendencia que se seleccionó es la mediana, la medida de variabilidad que mejor describe a cada variable es el **rango intercuartil** que para este caso es 509.0"
   ]
  },
  {
   "cell_type": "markdown",
   "metadata": {},
   "source": [
    "# 2ndFlrSF"
   ]
  },
  {
   "cell_type": "markdown",
   "metadata": {},
   "source": [
    "1.-¿Qué variables presentan datos atípicos? Para este punto utilizar Bloxplots"
   ]
  },
  {
   "cell_type": "code",
   "execution_count": null,
   "metadata": {},
   "outputs": [],
   "source": [
    "sns.boxplot(x=df[\"2ndFlrSF\"])"
   ]
  },
  {
   "cell_type": "markdown",
   "metadata": {},
   "source": [
    "![image.png](attachment:image.png)"
   ]
  },
  {
   "cell_type": "markdown",
   "metadata": {},
   "source": [
    "2.-¿En qué variables identifica un tipo de sesgo? Usar histogramas"
   ]
  },
  {
   "cell_type": "code",
   "execution_count": 111,
   "metadata": {},
   "outputs": [
    {
     "data": {
      "image/png": "[encoded data removed]",
      "text/plain": [
       "<Figure size 640x480 with 1 Axes>"
      ]
     },
     "metadata": {},
     "output_type": "display_data"
    }
   ],
   "source": [
    "plt.hist(df[\"2ndFlrSF\"], edgecolor='black')  # You can adjust the number of bins\n",
    "plt.xlabel('\"2ndFlrSF\"')\n",
    "plt.ylabel('Valores')\n",
    "plt.title('Histograma \"2ndFlrSF\"')\n",
    "plt.show()"
   ]
  },
  {
   "cell_type": "markdown",
   "metadata": {},
   "source": [
    " Sesgo positivo es a la derecha (cargado a la izquierda)"
   ]
  },
  {
   "cell_type": "markdown",
   "metadata": {},
   "source": [
    "3.-¿Sigue una distribución normal cada variable numérica? Usar prueba de Anderson Darling"
   ]
  },
  {
   "cell_type": "code",
   "execution_count": 112,
   "metadata": {},
   "outputs": [
    {
     "name": "stdout",
     "output_type": "stream",
     "text": [
      "Estadística de prueba: 155.15808181535726\n",
      "Valores críticos: [0.574 0.654 0.785 0.916 1.089]\n",
      "Niveles de significancia: [15.  10.   5.   2.5  1. ]\n",
      "No sigue distribución normal\n"
     ]
    }
   ],
   "source": [
    "# Prueba de Anderson-Darling\n",
    "resultado = anderson(df[\"2ndFlrSF\"])\n",
    "print(\"Estadística de prueba:\", resultado.statistic)\n",
    "print(\"Valores críticos:\", resultado.critical_values)\n",
    "print(\"Niveles de significancia:\", resultado.significance_level)\n",
    "\n",
    "if resultado.statistic < resultado.critical_values[2]:\n",
    "    print(\"Distribución normal\")\n",
    "else:\n",
    "    print(\"No sigue distribución normal\")"
   ]
  },
  {
   "cell_type": "markdown",
   "metadata": {},
   "source": [
    "4.-¿Qué medida de tendencia central describe mejor a la variable y por qué? (media o mediana)"
   ]
  },
  {
   "cell_type": "code",
   "execution_count": 114,
   "metadata": {},
   "outputs": [
    {
     "name": "stdout",
     "output_type": "stream",
     "text": [
      "Mediana: 0\n"
     ]
    }
   ],
   "source": [
    "print(\"Mediana:\",statistics.median(df[\"2ndFlrSF\"]))"
   ]
  },
  {
   "cell_type": "markdown",
   "metadata": {},
   "source": [
    "Debido a que la variable no sigue una distribución normal, la medida de tendencia central que mejor describe a la variable es la **mediana**."
   ]
  },
  {
   "cell_type": "code",
   "execution_count": 115,
   "metadata": {},
   "outputs": [
    {
     "data": {
      "text/plain": [
       "676.0"
      ]
     },
     "execution_count": 115,
     "metadata": {},
     "output_type": "execute_result"
    }
   ],
   "source": [
    "iqr(df[\"2ndFlrSF\"])"
   ]
  },
  {
   "cell_type": "markdown",
   "metadata": {},
   "source": [
    "En este caso, debido a que la medida de tendencia que se seleccionó es la mediana, la medida de variabilidad que mejor describe a cada variable es el **rango intercuartil** que para este caso es 676.0"
   ]
  },
  {
   "cell_type": "markdown",
   "metadata": {},
   "source": [
    "# LowQualFinSF"
   ]
  },
  {
   "cell_type": "markdown",
   "metadata": {},
   "source": [
    "1.-¿Qué variables presentan datos atípicos? Para este punto utilizar Bloxplots"
   ]
  },
  {
   "cell_type": "code",
   "execution_count": null,
   "metadata": {},
   "outputs": [],
   "source": [
    "sns.boxplot(x=df[\"LowQualFinSF\"])"
   ]
  },
  {
   "cell_type": "markdown",
   "metadata": {},
   "source": [
    "![image.png](attachment:image.png)"
   ]
  },
  {
   "cell_type": "markdown",
   "metadata": {},
   "source": [
    "2.-¿En qué variables identifica un tipo de sesgo? Usar histogramas"
   ]
  },
  {
   "cell_type": "code",
   "execution_count": 116,
   "metadata": {},
   "outputs": [
    {
     "data": {
      "image/png": "[encoded data removed]",
      "text/plain": [
       "<Figure size 640x480 with 1 Axes>"
      ]
     },
     "metadata": {},
     "output_type": "display_data"
    }
   ],
   "source": [
    "plt.hist(df[\"LowQualFinSF\"], edgecolor='black')  # You can adjust the number of bins\n",
    "plt.xlabel('\"LowQualFinSF\"')\n",
    "plt.ylabel('Valores')\n",
    "plt.title('Histograma \"LowQualFinSF\"')\n",
    "plt.show()"
   ]
  },
  {
   "cell_type": "markdown",
   "metadata": {},
   "source": [
    "3.-¿Sigue una distribución normal cada variable numérica? Usar prueba de Anderson Darling"
   ]
  },
  {
   "cell_type": "code",
   "execution_count": 117,
   "metadata": {},
   "outputs": [
    {
     "name": "stdout",
     "output_type": "stream",
     "text": [
      "Estadística de prueba: 551.466490208049\n",
      "Valores críticos: [0.574 0.654 0.785 0.916 1.089]\n",
      "Niveles de significancia: [15.  10.   5.   2.5  1. ]\n",
      "No sigue distribución normal\n"
     ]
    }
   ],
   "source": [
    "# Prueba de Anderson-Darling\n",
    "resultado = anderson(df[\"LowQualFinSF\"])\n",
    "print(\"Estadística de prueba:\", resultado.statistic)\n",
    "print(\"Valores críticos:\", resultado.critical_values)\n",
    "print(\"Niveles de significancia:\", resultado.significance_level)\n",
    "\n",
    "if resultado.statistic < resultado.critical_values[2]:\n",
    "    print(\"Distribución normal\")\n",
    "else:\n",
    "    print(\"No sigue distribución normal\")"
   ]
  },
  {
   "cell_type": "markdown",
   "metadata": {},
   "source": [
    "4.-¿Qué medida de tendencia central describe mejor a la variable y por qué? (media o mediana)"
   ]
  },
  {
   "cell_type": "code",
   "execution_count": 128,
   "metadata": {},
   "outputs": [
    {
     "name": "stdout",
     "output_type": "stream",
     "text": [
      "Mediana: 0\n"
     ]
    }
   ],
   "source": [
    "print(\"Mediana:\",statistics.median(df[\"LowQualFinSF\"]))"
   ]
  },
  {
   "cell_type": "markdown",
   "metadata": {},
   "source": [
    "Debido a que la variable no sigue una distribución normal, la medida de tendencia central que mejor describe a la variable es la **mediana**."
   ]
  },
  {
   "cell_type": "markdown",
   "metadata": {},
   "source": [
    "5.-¿Qué medida de variabilidad describe mejor a cada variable numérica y por qué? (desviación o rango intercuartil)"
   ]
  },
  {
   "cell_type": "code",
   "execution_count": 132,
   "metadata": {},
   "outputs": [
    {
     "data": {
      "text/plain": [
       "0.0"
      ]
     },
     "execution_count": 132,
     "metadata": {},
     "output_type": "execute_result"
    }
   ],
   "source": [
    "iqr(df[\"LowQualFinSF\"])"
   ]
  },
  {
   "cell_type": "markdown",
   "metadata": {},
   "source": [
    "En este caso, debido a que la medida de tendencia que se seleccionó es la mediana, la medida de variabilidad que mejor describe a cada variable es el **rango intercuartil** que para este caso es 0.0"
   ]
  },
  {
   "cell_type": "markdown",
   "metadata": {},
   "source": [
    "# GrLivArea"
   ]
  },
  {
   "cell_type": "markdown",
   "metadata": {},
   "source": [
    "1.-¿Qué variables presentan datos atípicos? Para este punto utilizar Bloxplots"
   ]
  },
  {
   "cell_type": "code",
   "execution_count": null,
   "metadata": {},
   "outputs": [],
   "source": [
    "sns.boxplot(x=df[\"GrLivArea\"])"
   ]
  },
  {
   "cell_type": "markdown",
   "metadata": {},
   "source": [
    "2.-¿En qué variables identifica un tipo de sesgo? Usar histogramas"
   ]
  },
  {
   "cell_type": "code",
   "execution_count": null,
   "metadata": {},
   "outputs": [],
   "source": [
    "plt.hist(df[\"GrLivArea\"], edgecolor='black')  # You can adjust the number of bins\n",
    "plt.xlabel('\"GrLivArea\"')\n",
    "plt.ylabel('Valores')\n",
    "plt.title('Histograma \"GrLivArea\"')\n",
    "plt.show()"
   ]
  },
  {
   "cell_type": "markdown",
   "metadata": {},
   "source": [
    "3.-¿Sigue una distribución normal cada variable numérica? Usar prueba de Anderson Darling"
   ]
  },
  {
   "cell_type": "code",
   "execution_count": null,
   "metadata": {},
   "outputs": [],
   "source": [
    "# Prueba de Anderson-Darling\n",
    "resultado = anderson(df[\"MSSubClass\"])\n",
    "print(\"Estadística de prueba:\", resultado.statistic)\n",
    "print(\"Valores críticos:\", resultado.critical_values)\n",
    "print(\"Niveles de significancia:\", resultado.significance_level)\n",
    "\n",
    "if resultado.statistic < resultado.critical_values[2]:\n",
    "    print(\"Distribución normal\")\n",
    "else:\n",
    "    print(\"No sigue distribución normal\")"
   ]
  },
  {
   "cell_type": "markdown",
   "metadata": {},
   "source": [
    "4.-¿Qué medida de tendencia central describe mejor a la variable y por qué? (media o mediana)\n",
    "\n",
    "Notas:\n",
    "* Si se sigue una distribución normal entonces la media y mediana es lo mismo, por lo que se puede elegir cualquier tendencia para describir a la variable.\n",
    "* Si no se sigue una distribución normal entonces la media no aporta información relevante (genera ruido), por lo tanto la tendencia central que describe mejor a la variable es la \"mediana\" debido a que representa la mitad de los valores intrínsecos."
   ]
  },
  {
   "cell_type": "code",
   "execution_count": null,
   "metadata": {},
   "outputs": [],
   "source": [
    "print(\"Media:\",statistics.mean(df[\"MSSubClass\"]))\n",
    "print(\"Mediana:\",statistics.median(df[\"MSSubClass\"]))"
   ]
  },
  {
   "cell_type": "markdown",
   "metadata": {},
   "source": [
    "Debido a que la variable no sigue una distribución normal, la medida de tendencia central que mejor describe a la variable es la **mediana**."
   ]
  },
  {
   "cell_type": "markdown",
   "metadata": {},
   "source": [
    "5.-¿Qué medida de variabilidad describe mejor a cada variable numérica y por qué? (desviación o rango intercuartil)\n",
    "\n",
    "Notas:\n",
    "* Si se sigue una distribución normal, entonces se ocupa una desviación estándar.\n",
    "* Si no se sigue una distribución normal, entonces acompaña a la mediadana. Es decir, se ocupa como medida de vairiabilidad el rando intercuartil."
   ]
  },
  {
   "cell_type": "code",
   "execution_count": null,
   "metadata": {},
   "outputs": [],
   "source": [
    "statistics.stdev(df[\"MSSubClass\"])"
   ]
  },
  {
   "cell_type": "code",
   "execution_count": null,
   "metadata": {},
   "outputs": [],
   "source": [
    "iqr(df[\"MSSubClass\"])"
   ]
  },
  {
   "cell_type": "markdown",
   "metadata": {},
   "source": [
    "En este caso, debido a que la medida de tendencia que se seleccionó es la mediana, la medida de variabilidad que mejor describe a cada variable es el **rango intercuartil** que para este caso es 50.0"
   ]
  },
  {
   "cell_type": "markdown",
   "metadata": {},
   "source": [
    "1.-¿Qué variables presentan datos atípicos? Para este punto utilizar Bloxplots"
   ]
  },
  {
   "cell_type": "code",
   "execution_count": null,
   "metadata": {},
   "outputs": [],
   "source": [
    "sns.boxplot(x=df[\"MSSubClass\"])"
   ]
  },
  {
   "cell_type": "markdown",
   "metadata": {},
   "source": [
    "![image.png](attachment:image.png)"
   ]
  },
  {
   "cell_type": "markdown",
   "metadata": {},
   "source": [
    "2.-¿En qué variables identifica un tipo de sesgo? Usar histogramas"
   ]
  },
  {
   "cell_type": "code",
   "execution_count": null,
   "metadata": {},
   "outputs": [],
   "source": [
    "plt.hist(df[\"MSSubClass\"], bins=5, edgecolor='black')  # You can adjust the number of bins\n",
    "plt.xlabel('\"MSSubClass\"')\n",
    "plt.ylabel('Valores')\n",
    "plt.title('Histograma \"MSSubClass\"')\n",
    "plt.show()"
   ]
  },
  {
   "cell_type": "markdown",
   "metadata": {},
   "source": [
    "3.-¿Sigue una distribución normal cada variable numérica? Usar prueba de Anderson Darling"
   ]
  },
  {
   "cell_type": "code",
   "execution_count": null,
   "metadata": {},
   "outputs": [],
   "source": [
    "# Prueba de Anderson-Darlingresultado = anderson(df[\"MSSubClass\"])\n",
    "\n",
    "int(\"Estadística de prueba:\", resultado.statistic)\n",
    "print(\"Valores críticos:\", resultado.critical_values)\n",
    "print(\"Niveles de significancia:\", resul ado.significance_level)\n",
    "\n",
    "if resultado.statistic < resultado.critical_values[2]:\n",
    "    print(\"Distribución normal\")\n",
    "else:\n",
    "    print(\"No sigue distribución normal\")"
   ]
  },
  {
   "cell_type": "markdown",
   "metadata": {},
   "source": [
    "4.-¿Qué medida de tendencia central describe mejor a la variable y por qué? (media o mediana)\n",
    "\n",
    "Notas:\n",
    "* S  sesigue  unadist ribuciónnormal entonces la media oymediana es lo mismo , por lo que se puede elegir cualquier tendencia para describir a la variable.\n",
    "* Si no se sigue una distribución normal entonces la media no aporta información relevante (genera ruido), por lo tanto la tendencia central que describe mejor a la variable es la \"mediana\" debido a que representa la mitad de los valores intrínsecos."
   ]
  },
  {
   "cell_type": "code",
   "execution_count": null,
   "metadata": {},
   "outputs": [],
   "source": [
    "print(\"Media:\",statistics.mean(df[\"MSSubClass\"]))\n",
    "print(\"Mediana:\",statistics.median(df[\"MSSubClass\"]))"
   ]
  },
  {
   "cell_type": "markdown",
   "metadata": {},
   "source": [
    "Debido a que la variable no sigue una distribución normal, la medida de tendencia central que mejor describe a la variable es la **mediana**."
   ]
  },
  {
   "cell_type": "markdown",
   "metadata": {},
   "source": [
    "5.-¿Qué medida de variabilidad describe mejor a cada variable numérica y por qué? (desviación o rango intercuartil)\n",
    "\n",
    "Notas:*\n",
    " Si se sigue una distribución normal, entonces se ocupa una desviación estándar.* Si  no se sigue una distribución normal, entonces acompaña a la mediadana. Es decir, se ocupa como medida de vairiabilidad el rando intercuartil."
   ]
  },
  {
   "cell_type": "code",
   "execution_count": null,
   "metadata": {},
   "outputs": [],
   "source": [
    "statistics.stdev(df[\"MSSubClass\"])"
   ]
  },
  {
   "cell_type": "code",
   "execution_count": null,
   "metadata": {},
   "outputs": [],
   "source": [
    "iqr(df[\"MSSubClass\"])"
   ]
  },
  {
   "cell_type": "markdown",
   "metadata": {},
   "source": [
    "En este caso, debido a que la medida de tendencia que se seleccionó es la mediana, la medida de variabilidad que mejor describe a cada variable es el **rango intercuartil** que para este caso es 50.0"
   ]
  },
  {
   "cell_type": "markdown",
   "metadata": {},
   "source": [
    "# HalfBath"
   ]
  },
  {
   "cell_type": "markdown",
   "metadata": {},
   "source": [
    "1.-¿Qué variables presentan datos atípicos? Para este punto utilizar Bloxplots"
   ]
  },
  {
   "cell_type": "code",
   "execution_count": null,
   "metadata": {},
   "outputs": [],
   "source": [
    "sns.boxplot(x=df[\"MSSubClass\"])"
   ]
  },
  {
   "cell_type": "markdown",
   "metadata": {},
   "source": [
    "![image.png](attachment:image.png)"
   ]
  },
  {
   "cell_type": "markdown",
   "metadata": {},
   "source": [
    "2.-¿En qué variables identifica un tipo de sesgo? Usar histogramas"
   ]
  },
  {
   "cell_type": "code",
   "execution_count": null,
   "metadata": {},
   "outputs": [],
   "source": [
    "plt.hist(df[\"MSSubClass\"], bins=5, edgecolor='black')  # You can adjust the number of bins\n",
    "plt.xlabel('\"MSSubClass\"')\n",
    "plt.ylabel('Valores')\n",
    "plt.title('Histograma \"MSSubClass\"')\n",
    "plt.show()"
   ]
  },
  {
   "cell_type": "markdown",
   "metadata": {},
   "source": [
    "3.-¿Sigue una distribución normal cada variable numérica? Usar prueba de Anderson Darling"
   ]
  },
  {
   "cell_type": "code",
   "execution_count": null,
   "metadata": {},
   "outputs": [],
   "source": [
    "# Prueba de Anderson-Darling\n",
    "resultado = anderson(df[\"MSSubClass\"])\n",
    "print(\"Estadística de prueba:\", resultado.statistic)\n",
    "print(\"Valores críticos:\", resultado.critical_values)\n",
    "print(\"Niveles de significancia:\", resultado.significance_level)\n",
    "\n",
    "if resultado.statistic < resultado.critical_values[2]:\n",
    "    print(\"Distribución normal\")\n",
    "else:\n",
    "    print(\"No sigue distribución normal\")"
   ]
  },
  {
   "cell_type": "markdown",
   "metadata": {},
   "source": [
    "4.-¿Qué medida de tendencia central describe mejor a la variable y por qué? (media o mediana)\n",
    "\n",
    "Notas:\n",
    "* Si se sigue una distribución normal entonces la media y mediana es lo mismo, por lo que se puede elegir cualquier tendencia para describir a la variable.\n",
    "* Si no se sigue una distribución normal entonces la media no aporta información relevante (genera ruido), por lo tanto la tendencia central que describe mejor a la variable es la \"mediana\" debido a que representa la mitad de los valores intrínsecos."
   ]
  },
  {
   "cell_type": "code",
   "execution_count": null,
   "metadata": {},
   "outputs": [],
   "source": [
    "print(\"Media:\",statistics.mean(df[\"MSSubClass\"]))\n",
    "print(\"Mediana:\",statistics.median(df[\"MSSubClass\"]))"
   ]
  },
  {
   "cell_type": "markdown",
   "metadata": {},
   "source": [
    "Debido a que la variable no sigue una distribución normal, la medida de tendencia central que mejor describe a la variable es la **mediana**."
   ]
  },
  {
   "cell_type": "markdown",
   "metadata": {},
   "source": [
    "5.-¿Qué medida de variabilidad describe mejor a cada variable numérica y por qué? (desviación o rango intercuartil)\n",
    "\n",
    "Notas:\n",
    "* Si se sigue una distribución normal, entonces se ocupa una desviación estándar.\n",
    "* Si no se sigue una distribución normal, entonces acompaña a la mediadana. Es decir, se ocupa como medida de vairiabilidad el rando intercuartil."
   ]
  },
  {
   "cell_type": "code",
   "execution_count": null,
   "metadata": {},
   "outputs": [],
   "source": [
    "statistics.stdev(df[\"MSSubClass\"])"
   ]
  },
  {
   "cell_type": "code",
   "execution_count": null,
   "metadata": {},
   "outputs": [],
   "source": [
    "iqr(df[\"MSSubClass\"])"
   ]
  },
  {
   "cell_type": "markdown",
   "metadata": {},
   "source": [
    "En este caso, debido a que la medida de tendencia que se seleccionó es la mediana, la medida de variabilidad que mejor describe a cada variable es el **rango intercuartil** que para este caso es 50.0"
   ]
  },
  {
   "cell_type": "markdown",
   "metadata": {},
   "source": [
    "1.-¿Qué variables presentan datos atípicos? Para este punto utilizar Bloxplots"
   ]
  },
  {
   "cell_type": "code",
   "execution_count": null,
   "metadata": {},
   "outputs": [],
   "source": [
    "sns.boxplot(x=df[\"MSSubClass\"])"
   ]
  },
  {
   "cell_type": "markdown",
   "metadata": {},
   "source": [
    "![image.png](attachment:image.png)"
   ]
  },
  {
   "cell_type": "markdown",
   "metadata": {},
   "source": [
    "2.-¿En qué variables identifica un tipo de sesgo? Usar histogramas"
   ]
  },
  {
   "cell_type": "code",
   "execution_count": null,
   "metadata": {},
   "outputs": [],
   "source": [
    "plt.hist(df[\"MSSubClass\"], bins=5, edgecolor='black')  # You can adjust the number of bins\n",
    "plt.xlabel('\"MSSubClass\"')\n",
    "plt.ylabel('Valores')\n",
    "plt.title('Histograma \"MSSubClass\"')\n",
    "plt.show()"
   ]
  },
  {
   "cell_type": "markdown",
   "metadata": {},
   "source": [
    "3.-¿Sigue una distribución normal cada variable numérica? Usar prueba de Anderson Darling"
   ]
  },
  {
   "cell_type": "code",
   "execution_count": null,
   "metadata": {},
   "outputs": [],
   "source": [
    "# Prueba de Anderson-Darlingresultado = anderson(df[\"MSSubClass\"])\n",
    "\n",
    "int(\"Estadística de prueba:\", resultado.statistic)\n",
    "print(\"Valores críticos:\", resultado.critical_values)\n",
    "print(\"Niveles de significancia:\", resul ado.significance_level)\n",
    "\n",
    "if resultado.statistic < resultado.critical_values[2]:\n",
    "    print(\"Distribución normal\")\n",
    "else:\n",
    "    print(\"No sigue distribución normal\")"
   ]
  },
  {
   "cell_type": "markdown",
   "metadata": {},
   "source": [
    "4.-¿Qué medida de tendencia central describe mejor a la variable y por qué? (media o mediana)\n",
    "\n",
    "Notas:\n",
    "* S  sesigue  unadist ribuciónnormal entonces la media oymediana es lo mismo , por lo que se puede elegir cualquier tendencia para describir a la variable.\n",
    "* Si no se sigue una distribución normal entonces la media no aporta información relevante (genera ruido), por lo tanto la tendencia central que describe mejor a la variable es la \"mediana\" debido a que representa la mitad de los valores intrínsecos."
   ]
  },
  {
   "cell_type": "code",
   "execution_count": null,
   "metadata": {},
   "outputs": [],
   "source": [
    "print(\"Media:\",statistics.mean(df[\"MSSubClass\"]))\n",
    "print(\"Mediana:\",statistics.median(df[\"MSSubClass\"]))"
   ]
  },
  {
   "cell_type": "markdown",
   "metadata": {},
   "source": [
    "Debido a que la variable no sigue una distribución normal, la medida de tendencia central que mejor describe a la variable es la **mediana**."
   ]
  },
  {
   "cell_type": "markdown",
   "metadata": {},
   "source": [
    "5.-¿Qué medida de variabilidad describe mejor a cada variable numérica y por qué? (desviación o rango intercuartil)\n",
    "\n",
    "Notas:*\n",
    " Si se sigue una distribución normal, entonces se ocupa una desviación estándar.* Si  no se sigue una distribución normal, entonces acompaña a la mediadana. Es decir, se ocupa como medida de vairiabilidad el rando intercuartil."
   ]
  },
  {
   "cell_type": "code",
   "execution_count": null,
   "metadata": {},
   "outputs": [],
   "source": [
    "statistics.stdev(df[\"MSSubClass\"])"
   ]
  },
  {
   "cell_type": "code",
   "execution_count": null,
   "metadata": {},
   "outputs": [],
   "source": [
    "iqr(df[\"MSSubClass\"])"
   ]
  },
  {
   "cell_type": "markdown",
   "metadata": {},
   "source": [
    "En este caso, debido a que la medida de tendencia que se seleccionó es la mediana, la medida de variabilidad que mejor describe a cada variable es el **rango intercuartil** que para este caso es 50.0"
   ]
  },
  {
   "cell_type": "markdown",
   "metadata": {},
   "source": [
    "# BedroomAbvGr"
   ]
  },
  {
   "cell_type": "markdown",
   "metadata": {},
   "source": [
    "1.-¿Qué variables presentan datos atípicos? Para este punto utilizar Bloxplots"
   ]
  },
  {
   "cell_type": "code",
   "execution_count": null,
   "metadata": {},
   "outputs": [],
   "source": [
    "sns.boxplot(x=df[\"MSSubClass\"])"
   ]
  },
  {
   "cell_type": "markdown",
   "metadata": {},
   "source": [
    "![image.png](attachment:image.png)"
   ]
  },
  {
   "cell_type": "markdown",
   "metadata": {},
   "source": [
    "2.-¿En qué variables identifica un tipo de sesgo? Usar histogramas"
   ]
  },
  {
   "cell_type": "code",
   "execution_count": null,
   "metadata": {},
   "outputs": [],
   "source": [
    "plt.hist(df[\"MSSubClass\"], bins=5, edgecolor='black')  # You can adjust the number of bins\n",
    "plt.xlabel('\"MSSubClass\"')\n",
    "plt.ylabel('Valores')\n",
    "plt.title('Histograma \"MSSubClass\"')\n",
    "plt.show()"
   ]
  },
  {
   "cell_type": "markdown",
   "metadata": {},
   "source": [
    "3.-¿Sigue una distribución normal cada variable numérica? Usar prueba de Anderson Darling"
   ]
  },
  {
   "cell_type": "code",
   "execution_count": null,
   "metadata": {},
   "outputs": [],
   "source": [
    "# Prueba de Anderson-Darling\n",
    "resultado = anderson(df[\"MSSubClass\"])\n",
    "print(\"Estadística de prueba:\", resultado.statistic)\n",
    "print(\"Valores críticos:\", resultado.critical_values)\n",
    "print(\"Niveles de significancia:\", resultado.significance_level)\n",
    "\n",
    "if resultado.statistic < resultado.critical_values[2]:\n",
    "    print(\"Distribución normal\")\n",
    "else:\n",
    "    print(\"No sigue distribución normal\")"
   ]
  },
  {
   "cell_type": "markdown",
   "metadata": {},
   "source": [
    "4.-¿Qué medida de tendencia central describe mejor a la variable y por qué? (media o mediana)\n",
    "\n",
    "Notas:\n",
    "* Si se sigue una distribución normal entonces la media y mediana es lo mismo, por lo que se puede elegir cualquier tendencia para describir a la variable.\n",
    "* Si no se sigue una distribución normal entonces la media no aporta información relevante (genera ruido), por lo tanto la tendencia central que describe mejor a la variable es la \"mediana\" debido a que representa la mitad de los valores intrínsecos."
   ]
  },
  {
   "cell_type": "code",
   "execution_count": null,
   "metadata": {},
   "outputs": [],
   "source": [
    "print(\"Media:\",statistics.mean(df[\"MSSubClass\"]))\n",
    "print(\"Mediana:\",statistics.median(df[\"MSSubClass\"]))"
   ]
  },
  {
   "cell_type": "markdown",
   "metadata": {},
   "source": [
    "Debido a que la variable no sigue una distribución normal, la medida de tendencia central que mejor describe a la variable es la **mediana**."
   ]
  },
  {
   "cell_type": "markdown",
   "metadata": {},
   "source": [
    "5.-¿Qué medida de variabilidad describe mejor a cada variable numérica y por qué? (desviación o rango intercuartil)\n",
    "\n",
    "Notas:\n",
    "* Si se sigue una distribución normal, entonces se ocupa una desviación estándar.\n",
    "* Si no se sigue una distribución normal, entonces acompaña a la mediadana. Es decir, se ocupa como medida de vairiabilidad el rando intercuartil."
   ]
  },
  {
   "cell_type": "code",
   "execution_count": null,
   "metadata": {},
   "outputs": [],
   "source": [
    "statistics.stdev(df[\"MSSubClass\"])"
   ]
  },
  {
   "cell_type": "code",
   "execution_count": null,
   "metadata": {},
   "outputs": [],
   "source": [
    "iqr(df[\"MSSubClass\"])"
   ]
  },
  {
   "cell_type": "markdown",
   "metadata": {},
   "source": [
    "En este caso, debido a que la medida de tendencia que se seleccionó es la mediana, la medida de variabilidad que mejor describe a cada variable es el **rango intercuartil** que para este caso es 50.0"
   ]
  },
  {
   "cell_type": "markdown",
   "metadata": {},
   "source": [
    "1.-¿Qué variables presentan datos atípicos? Para este punto utilizar Bloxplots"
   ]
  },
  {
   "cell_type": "code",
   "execution_count": null,
   "metadata": {},
   "outputs": [],
   "source": [
    "sns.boxplot(x=df[\"MSSubClass\"])"
   ]
  },
  {
   "cell_type": "markdown",
   "metadata": {},
   "source": [
    "![image.png](attachment:image.png)"
   ]
  },
  {
   "cell_type": "markdown",
   "metadata": {},
   "source": [
    "2.-¿En qué variables identifica un tipo de sesgo? Usar histogramas"
   ]
  },
  {
   "cell_type": "code",
   "execution_count": null,
   "metadata": {},
   "outputs": [],
   "source": [
    "plt.hist(df[\"MSSubClass\"], bins=5, edgecolor='black')  # You can adjust the number of bins\n",
    "plt.xlabel('\"MSSubClass\"')\n",
    "plt.ylabel('Valores')\n",
    "plt.title('Histograma \"MSSubClass\"')\n",
    "plt.show()"
   ]
  },
  {
   "cell_type": "markdown",
   "metadata": {},
   "source": [
    "3.-¿Sigue una distribución normal cada variable numérica? Usar prueba de Anderson Darling"
   ]
  },
  {
   "cell_type": "code",
   "execution_count": null,
   "metadata": {},
   "outputs": [],
   "source": [
    "# Prueba de Anderson-Darlingresultado = anderson(df[\"MSSubClass\"])\n",
    "\n",
    "int(\"Estadística de prueba:\", resultado.statistic)\n",
    "print(\"Valores críticos:\", resultado.critical_values)\n",
    "print(\"Niveles de significancia:\", resul ado.significance_level)\n",
    "\n",
    "if resultado.statistic < resultado.critical_values[2]:\n",
    "    print(\"Distribución normal\")\n",
    "else:\n",
    "    print(\"No sigue distribución normal\")"
   ]
  },
  {
   "cell_type": "markdown",
   "metadata": {},
   "source": [
    "4.-¿Qué medida de tendencia central describe mejor a la variable y por qué? (media o mediana)\n",
    "\n",
    "Notas:\n",
    "* S  sesigue  unadist ribuciónnormal entonces la media oymediana es lo mismo , por lo que se puede elegir cualquier tendencia para describir a la variable.\n",
    "* Si no se sigue una distribución normal entonces la media no aporta información relevante (genera ruido), por lo tanto la tendencia central que describe mejor a la variable es la \"mediana\" debido a que representa la mitad de los valores intrínsecos."
   ]
  },
  {
   "cell_type": "code",
   "execution_count": null,
   "metadata": {},
   "outputs": [],
   "source": [
    "print(\"Media:\",statistics.mean(df[\"MSSubClass\"]))\n",
    "print(\"Mediana:\",statistics.median(df[\"MSSubClass\"]))"
   ]
  },
  {
   "cell_type": "markdown",
   "metadata": {},
   "source": [
    "Debido a que la variable no sigue una distribución normal, la medida de tendencia central que mejor describe a la variable es la **mediana**."
   ]
  },
  {
   "cell_type": "markdown",
   "metadata": {},
   "source": [
    "5.-¿Qué medida de variabilidad describe mejor a cada variable numérica y por qué? (desviación o rango intercuartil)\n",
    "\n",
    "Notas:*\n",
    " Si se sigue una distribución normal, entonces se ocupa una desviación estándar.* Si  no se sigue una distribución normal, entonces acompaña a la mediadana. Es decir, se ocupa como medida de vairiabilidad el rando intercuartil."
   ]
  },
  {
   "cell_type": "code",
   "execution_count": null,
   "metadata": {},
   "outputs": [],
   "source": [
    "statistics.stdev(df[\"MSSubClass\"])"
   ]
  },
  {
   "cell_type": "code",
   "execution_count": null,
   "metadata": {},
   "outputs": [],
   "source": [
    "iqr(df[\"MSSubClass\"])"
   ]
  },
  {
   "cell_type": "markdown",
   "metadata": {},
   "source": [
    "En este caso, debido a que la medida de tendencia que se seleccionó es la mediana, la medida de variabilidad que mejor describe a cada variable es el **rango intercuartil** que para este caso es 50.0"
   ]
  },
  {
   "cell_type": "markdown",
   "metadata": {},
   "source": [
    "1.-¿Qué variables presentan datos atípicos? Para este punto utilizar Bloxplots"
   ]
  },
  {
   "cell_type": "code",
   "execution_count": null,
   "metadata": {},
   "outputs": [],
   "source": [
    "sns.boxplot(x=df[\"MSSubClass\"])"
   ]
  },
  {
   "cell_type": "markdown",
   "metadata": {},
   "source": [
    "![image.png](attachment:image.png)"
   ]
  },
  {
   "cell_type": "markdown",
   "metadata": {},
   "source": [
    "2.-¿En qué variables identifica un tipo de sesgo? Usar histogramas"
   ]
  },
  {
   "cell_type": "code",
   "execution_count": null,
   "metadata": {},
   "outputs": [],
   "source": [
    "plt.hist(df[\"MSSubClass\"], bins=5, edgecolor='black')  # You can adjust the number of bins\n",
    "plt.xlabel('\"MSSubClass\"')\n",
    "plt.ylabel('Valores')\n",
    "plt.title('Histograma \"MSSubClass\"')\n",
    "plt.show()"
   ]
  },
  {
   "cell_type": "markdown",
   "metadata": {},
   "source": [
    "3.-¿Sigue una distribución normal cada variable numérica? Usar prueba de Anderson Darling"
   ]
  },
  {
   "cell_type": "code",
   "execution_count": null,
   "metadata": {},
   "outputs": [],
   "source": [
    "# Prueba de Anderson-Darling\n",
    "resultado = anderson(df[\"MSSubClass\"])\n",
    "print(\"Estadística de prueba:\", resultado.statistic)\n",
    "print(\"Valores críticos:\", resultado.critical_values)\n",
    "print(\"Niveles de significancia:\", resultado.significance_level)\n",
    "\n",
    "if resultado.statistic < resultado.critical_values[2]:\n",
    "    print(\"Distribución normal\")\n",
    "else:\n",
    "    print(\"No sigue distribución normal\")"
   ]
  },
  {
   "cell_type": "markdown",
   "metadata": {},
   "source": [
    "4.-¿Qué medida de tendencia central describe mejor a la variable y por qué? (media o mediana)\n",
    "\n",
    "Notas:\n",
    "* Si se sigue una distribución normal entonces la media y mediana es lo mismo, por lo que se puede elegir cualquier tendencia para describir a la variable.\n",
    "* Si no se sigue una distribución normal entonces la media no aporta información relevante (genera ruido), por lo tanto la tendencia central que describe mejor a la variable es la \"mediana\" debido a que representa la mitad de los valores intrínsecos."
   ]
  },
  {
   "cell_type": "code",
   "execution_count": null,
   "metadata": {},
   "outputs": [],
   "source": [
    "print(\"Media:\",statistics.mean(df[\"MSSubClass\"]))\n",
    "print(\"Mediana:\",statistics.median(df[\"MSSubClass\"]))"
   ]
  },
  {
   "cell_type": "markdown",
   "metadata": {},
   "source": [
    "Debido a que la variable no sigue una distribución normal, la medida de tendencia central que mejor describe a la variable es la **mediana**."
   ]
  },
  {
   "cell_type": "markdown",
   "metadata": {},
   "source": [
    "5.-¿Qué medida de variabilidad describe mejor a cada variable numérica y por qué? (desviación o rango intercuartil)\n",
    "\n",
    "Notas:\n",
    "* Si se sigue una distribución normal, entonces se ocupa una desviación estándar.\n",
    "* Si no se sigue una distribución normal, entonces acompaña a la mediadana. Es decir, se ocupa como medida de vairiabilidad el rando intercuartil."
   ]
  },
  {
   "cell_type": "code",
   "execution_count": null,
   "metadata": {},
   "outputs": [],
   "source": [
    "statistics.stdev(df[\"MSSubClass\"])"
   ]
  },
  {
   "cell_type": "code",
   "execution_count": null,
   "metadata": {},
   "outputs": [],
   "source": [
    "iqr(df[\"MSSubClass\"])"
   ]
  },
  {
   "cell_type": "markdown",
   "metadata": {},
   "source": [
    "En este caso, debido a que la medida de tendencia que se seleccionó es la mediana, la medida de variabilidad que mejor describe a cada variable es el **rango intercuartil** que para este caso es 50.0"
   ]
  },
  {
   "cell_type": "markdown",
   "metadata": {},
   "source": [
    "1.-¿Qué variables presentan datos atípicos? Para este punto utilizar Bloxplots"
   ]
  },
  {
   "cell_type": "code",
   "execution_count": null,
   "metadata": {},
   "outputs": [],
   "source": [
    "sns.boxplot(x=df[\"MSSubClass\"])"
   ]
  },
  {
   "cell_type": "markdown",
   "metadata": {},
   "source": [
    "![image.png](attachment:image.png)"
   ]
  },
  {
   "cell_type": "markdown",
   "metadata": {},
   "source": [
    "2.-¿En qué variables identifica un tipo de sesgo? Usar histogramas"
   ]
  },
  {
   "cell_type": "code",
   "execution_count": null,
   "metadata": {},
   "outputs": [],
   "source": [
    "plt.hist(df[\"MSSubClass\"], bins=5, edgecolor='black')  # You can adjust the number of bins\n",
    "plt.xlabel('\"MSSubClass\"')\n",
    "plt.ylabel('Valores')\n",
    "plt.title('Histograma \"MSSubClass\"')\n",
    "plt.show()"
   ]
  },
  {
   "cell_type": "markdown",
   "metadata": {},
   "source": [
    "3.-¿Sigue una distribución normal cada variable numérica? Usar prueba de Anderson Darling"
   ]
  },
  {
   "cell_type": "code",
   "execution_count": null,
   "metadata": {},
   "outputs": [],
   "source": [
    "# Prueba de Anderson-Darlingresultado = anderson(df[\"MSSubClass\"])\n",
    "\n",
    "int(\"Estadística de prueba:\", resultado.statistic)\n",
    "print(\"Valores críticos:\", resultado.critical_values)\n",
    "print(\"Niveles de significancia:\", resul ado.significance_level)\n",
    "\n",
    "if resultado.statistic < resultado.critical_values[2]:\n",
    "    print(\"Distribución normal\")\n",
    "else:\n",
    "    print(\"No sigue distribución normal\")"
   ]
  },
  {
   "cell_type": "markdown",
   "metadata": {},
   "source": [
    "4.-¿Qué medida de tendencia central describe mejor a la variable y por qué? (media o mediana)\n",
    "\n",
    "Notas:\n",
    "* S  sesigue  unadist ribuciónnormal entonces la media oymediana es lo mismo , por lo que se puede elegir cualquier tendencia para describir a la variable.\n",
    "* Si no se sigue una distribución normal entonces la media no aporta información relevante (genera ruido), por lo tanto la tendencia central que describe mejor a la variable es la \"mediana\" debido a que representa la mitad de los valores intrínsecos."
   ]
  },
  {
   "cell_type": "code",
   "execution_count": null,
   "metadata": {},
   "outputs": [],
   "source": [
    "print(\"Media:\",statistics.mean(df[\"MSSubClass\"]))\n",
    "print(\"Mediana:\",statistics.median(df[\"MSSubClass\"]))"
   ]
  },
  {
   "cell_type": "markdown",
   "metadata": {},
   "source": [
    "Debido a que la variable no sigue una distribución normal, la medida de tendencia central que mejor describe a la variable es la **mediana**."
   ]
  },
  {
   "cell_type": "markdown",
   "metadata": {},
   "source": [
    "5.-¿Qué medida de variabilidad describe mejor a cada variable numérica y por qué? (desviación o rango intercuartil)\n",
    "\n",
    "Notas:*\n",
    " Si se sigue una distribución normal, entonces se ocupa una desviación estándar.* Si  no se sigue una distribución normal, entonces acompaña a la mediadana. Es decir, se ocupa como medida de vairiabilidad el rando intercuartil."
   ]
  },
  {
   "cell_type": "code",
   "execution_count": null,
   "metadata": {},
   "outputs": [],
   "source": [
    "statistics.stdev(df[\"MSSubClass\"])"
   ]
  },
  {
   "cell_type": "code",
   "execution_count": null,
   "metadata": {},
   "outputs": [],
   "source": [
    "iqr(df[\"MSSubClass\"])"
   ]
  },
  {
   "cell_type": "markdown",
   "metadata": {},
   "source": [
    "En este caso, debido a que la medida de tendencia que se seleccionó es la mediana, la medida de variabilidad que mejor describe a cada variable es el **rango intercuartil** que para este caso es 50.0"
   ]
  },
  {
   "cell_type": "markdown",
   "metadata": {},
   "source": [
    "1.-¿Qué variables presentan datos atípicos? Para este punto utilizar Bloxplots"
   ]
  },
  {
   "cell_type": "code",
   "execution_count": null,
   "metadata": {},
   "outputs": [],
   "source": [
    "sns.boxplot(x=df[\"MSSubClass\"])"
   ]
  },
  {
   "cell_type": "markdown",
   "metadata": {},
   "source": [
    "![image.png](attachment:image.png)"
   ]
  },
  {
   "cell_type": "markdown",
   "metadata": {},
   "source": [
    "2.-¿En qué variables identifica un tipo de sesgo? Usar histogramas"
   ]
  },
  {
   "cell_type": "code",
   "execution_count": null,
   "metadata": {},
   "outputs": [],
   "source": [
    "plt.hist(df[\"MSSubClass\"], bins=5, edgecolor='black')  # You can adjust the number of bins\n",
    "plt.xlabel('\"MSSubClass\"')\n",
    "plt.ylabel('Valores')\n",
    "plt.title('Histograma \"MSSubClass\"')\n",
    "plt.show()"
   ]
  },
  {
   "cell_type": "markdown",
   "metadata": {},
   "source": [
    "3.-¿Sigue una distribución normal cada variable numérica? Usar prueba de Anderson Darling"
   ]
  },
  {
   "cell_type": "code",
   "execution_count": null,
   "metadata": {},
   "outputs": [],
   "source": [
    "# Prueba de Anderson-Darling\n",
    "resultado = anderson(df[\"MSSubClass\"])\n",
    "print(\"Estadística de prueba:\", resultado.statistic)\n",
    "print(\"Valores críticos:\", resultado.critical_values)\n",
    "print(\"Niveles de significancia:\", resultado.significance_level)\n",
    "\n",
    "if resultado.statistic < resultado.critical_values[2]:\n",
    "    print(\"Distribución normal\")\n",
    "else:\n",
    "    print(\"No sigue distribución normal\")"
   ]
  },
  {
   "cell_type": "markdown",
   "metadata": {},
   "source": [
    "4.-¿Qué medida de tendencia central describe mejor a la variable y por qué? (media o mediana)\n",
    "\n",
    "Notas:\n",
    "* Si se sigue una distribución normal entonces la media y mediana es lo mismo, por lo que se puede elegir cualquier tendencia para describir a la variable.\n",
    "* Si no se sigue una distribución normal entonces la media no aporta información relevante (genera ruido), por lo tanto la tendencia central que describe mejor a la variable es la \"mediana\" debido a que representa la mitad de los valores intrínsecos."
   ]
  },
  {
   "cell_type": "code",
   "execution_count": null,
   "metadata": {},
   "outputs": [],
   "source": [
    "print(\"Media:\",statistics.mean(df[\"MSSubClass\"]))\n",
    "print(\"Mediana:\",statistics.median(df[\"MSSubClass\"]))"
   ]
  },
  {
   "cell_type": "markdown",
   "metadata": {},
   "source": [
    "Debido a que la variable no sigue una distribución normal, la medida de tendencia central que mejor describe a la variable es la **mediana**."
   ]
  },
  {
   "cell_type": "markdown",
   "metadata": {},
   "source": [
    "5.-¿Qué medida de variabilidad describe mejor a cada variable numérica y por qué? (desviación o rango intercuartil)\n",
    "\n",
    "Notas:\n",
    "* Si se sigue una distribución normal, entonces se ocupa una desviación estándar.\n",
    "* Si no se sigue una distribución normal, entonces acompaña a la mediadana. Es decir, se ocupa como medida de vairiabilidad el rando intercuartil."
   ]
  },
  {
   "cell_type": "code",
   "execution_count": null,
   "metadata": {},
   "outputs": [],
   "source": [
    "statistics.stdev(df[\"MSSubClass\"])"
   ]
  },
  {
   "cell_type": "code",
   "execution_count": null,
   "metadata": {},
   "outputs": [],
   "source": [
    "iqr(df[\"MSSubClass\"])"
   ]
  },
  {
   "cell_type": "markdown",
   "metadata": {},
   "source": [
    "En este caso, debido a que la medida de tendencia que se seleccionó es la mediana, la medida de variabilidad que mejor describe a cada variable es el **rango intercuartil** que para este caso es 50.0"
   ]
  },
  {
   "cell_type": "markdown",
   "metadata": {},
   "source": [
    "1.-¿Qué variables presentan datos atípicos? Para este punto utilizar Bloxplots"
   ]
  },
  {
   "cell_type": "code",
   "execution_count": null,
   "metadata": {},
   "outputs": [],
   "source": [
    "sns.boxplot(x=df[\"MSSubClass\"])"
   ]
  },
  {
   "cell_type": "markdown",
   "metadata": {},
   "source": [
    "![image.png](attachment:image.png)"
   ]
  },
  {
   "cell_type": "markdown",
   "metadata": {},
   "source": [
    "2.-¿En qué variables identifica un tipo de sesgo? Usar histogramas"
   ]
  },
  {
   "cell_type": "code",
   "execution_count": null,
   "metadata": {},
   "outputs": [],
   "source": [
    "plt.hist(df[\"MSSubClass\"], bins=5, edgecolor='black')  # You can adjust the number of bins\n",
    "plt.xlabel('\"MSSubClass\"')\n",
    "plt.ylabel('Valores')\n",
    "plt.title('Histograma \"MSSubClass\"')\n",
    "plt.show()"
   ]
  },
  {
   "cell_type": "markdown",
   "metadata": {},
   "source": [
    "3.-¿Sigue una distribución normal cada variable numérica? Usar prueba de Anderson Darling"
   ]
  },
  {
   "cell_type": "code",
   "execution_count": null,
   "metadata": {},
   "outputs": [],
   "source": [
    "# Prueba de Anderson-Darlingresultado = anderson(df[\"MSSubClass\"])\n",
    "\n",
    "int(\"Estadística de prueba:\", resultado.statistic)\n",
    "print(\"Valores críticos:\", resultado.critical_values)\n",
    "print(\"Niveles de significancia:\", resul ado.significance_level)\n",
    "\n",
    "if resultado.statistic < resultado.critical_values[2]:\n",
    "    print(\"Distribución normal\")\n",
    "else:\n",
    "    print(\"No sigue distribución normal\")"
   ]
  },
  {
   "cell_type": "markdown",
   "metadata": {},
   "source": [
    "4.-¿Qué medida de tendencia central describe mejor a la variable y por qué? (media o mediana)\n",
    "\n",
    "Notas:\n",
    "* S  sesigue  unadist ribuciónnormal entonces la media oymediana es lo mismo , por lo que se puede elegir cualquier tendencia para describir a la variable.\n",
    "* Si no se sigue una distribución normal entonces la media no aporta información relevante (genera ruido), por lo tanto la tendencia central que describe mejor a la variable es la \"mediana\" debido a que representa la mitad de los valores intrínsecos."
   ]
  },
  {
   "cell_type": "code",
   "execution_count": null,
   "metadata": {},
   "outputs": [],
   "source": [
    "print(\"Media:\",statistics.mean(df[\"MSSubClass\"]))\n",
    "print(\"Mediana:\",statistics.median(df[\"MSSubClass\"]))"
   ]
  },
  {
   "cell_type": "markdown",
   "metadata": {},
   "source": [
    "Debido a que la variable no sigue una distribución normal, la medida de tendencia central que mejor describe a la variable es la **mediana**."
   ]
  },
  {
   "cell_type": "markdown",
   "metadata": {},
   "source": [
    "5.-¿Qué medida de variabilidad describe mejor a cada variable numérica y por qué? (desviación o rango intercuartil)\n",
    "\n",
    "Notas:*\n",
    " Si se sigue una distribución normal, entonces se ocupa una desviación estándar.* Si  no se sigue una distribución normal, entonces acompaña a la mediadana. Es decir, se ocupa como medida de vairiabilidad el rando intercuartil."
   ]
  },
  {
   "cell_type": "code",
   "execution_count": null,
   "metadata": {},
   "outputs": [],
   "source": [
    "statistics.stdev(df[\"MSSubClass\"])"
   ]
  },
  {
   "cell_type": "code",
   "execution_count": null,
   "metadata": {},
   "outputs": [],
   "source": [
    "iqr(df[\"MSSubClass\"])"
   ]
  },
  {
   "cell_type": "markdown",
   "metadata": {},
   "source": [
    "En este caso, debido a que la medida de tendencia que se seleccionó es la mediana, la medida de variabilidad que mejor describe a cada variable es el **rango intercuartil** que para este caso es 50.0"
   ]
  },
  {
   "cell_type": "markdown",
   "metadata": {},
   "source": [
    "1.-¿Qué variables presentan datos atípicos? Para este punto utilizar Bloxplots"
   ]
  },
  {
   "cell_type": "code",
   "execution_count": null,
   "metadata": {},
   "outputs": [],
   "source": [
    "sns.boxplot(x=df[\"MSSubClass\"])"
   ]
  },
  {
   "cell_type": "markdown",
   "metadata": {},
   "source": [
    "![image.png](attachment:image.png)"
   ]
  },
  {
   "cell_type": "markdown",
   "metadata": {},
   "source": [
    "2.-¿En qué variables identifica un tipo de sesgo? Usar histogramas"
   ]
  },
  {
   "cell_type": "code",
   "execution_count": null,
   "metadata": {},
   "outputs": [],
   "source": [
    "plt.hist(df[\"MSSubClass\"], bins=5, edgecolor='black')  # You can adjust the number of bins\n",
    "plt.xlabel('\"MSSubClass\"')\n",
    "plt.ylabel('Valores')\n",
    "plt.title('Histograma \"MSSubClass\"')\n",
    "plt.show()"
   ]
  },
  {
   "cell_type": "markdown",
   "metadata": {},
   "source": [
    "3.-¿Sigue una distribución normal cada variable numérica? Usar prueba de Anderson Darling"
   ]
  },
  {
   "cell_type": "code",
   "execution_count": null,
   "metadata": {},
   "outputs": [],
   "source": [
    "# Prueba de Anderson-Darling\n",
    "resultado = anderson(df[\"MSSubClass\"])\n",
    "print(\"Estadística de prueba:\", resultado.statistic)\n",
    "print(\"Valores críticos:\", resultado.critical_values)\n",
    "print(\"Niveles de significancia:\", resultado.significance_level)\n",
    "\n",
    "if resultado.statistic < resultado.critical_values[2]:\n",
    "    print(\"Distribución normal\")\n",
    "else:\n",
    "    print(\"No sigue distribución normal\")"
   ]
  },
  {
   "cell_type": "markdown",
   "metadata": {},
   "source": [
    "4.-¿Qué medida de tendencia central describe mejor a la variable y por qué? (media o mediana)\n",
    "\n",
    "Notas:\n",
    "* Si se sigue una distribución normal entonces la media y mediana es lo mismo, por lo que se puede elegir cualquier tendencia para describir a la variable.\n",
    "* Si no se sigue una distribución normal entonces la media no aporta información relevante (genera ruido), por lo tanto la tendencia central que describe mejor a la variable es la \"mediana\" debido a que representa la mitad de los valores intrínsecos."
   ]
  },
  {
   "cell_type": "code",
   "execution_count": null,
   "metadata": {},
   "outputs": [],
   "source": [
    "print(\"Media:\",statistics.mean(df[\"MSSubClass\"]))\n",
    "print(\"Mediana:\",statistics.median(df[\"MSSubClass\"]))"
   ]
  },
  {
   "cell_type": "markdown",
   "metadata": {},
   "source": [
    "Debido a que la variable no sigue una distribución normal, la medida de tendencia central que mejor describe a la variable es la **mediana**."
   ]
  },
  {
   "cell_type": "markdown",
   "metadata": {},
   "source": [
    "5.-¿Qué medida de variabilidad describe mejor a cada variable numérica y por qué? (desviación o rango intercuartil)\n",
    "\n",
    "Notas:\n",
    "* Si se sigue una distribución normal, entonces se ocupa una desviación estándar.\n",
    "* Si no se sigue una distribución normal, entonces acompaña a la mediadana. Es decir, se ocupa como medida de vairiabilidad el rando intercuartil."
   ]
  },
  {
   "cell_type": "code",
   "execution_count": null,
   "metadata": {},
   "outputs": [],
   "source": [
    "statistics.stdev(df[\"MSSubClass\"])"
   ]
  },
  {
   "cell_type": "code",
   "execution_count": null,
   "metadata": {},
   "outputs": [],
   "source": [
    "iqr(df[\"MSSubClass\"])"
   ]
  },
  {
   "cell_type": "markdown",
   "metadata": {},
   "source": [
    "En este caso, debido a que la medida de tendencia que se seleccionó es la mediana, la medida de variabilidad que mejor describe a cada variable es el **rango intercuartil** que para este caso es 50.0"
   ]
  },
  {
   "cell_type": "markdown",
   "metadata": {},
   "source": [
    "1.-¿Qué variables presentan datos atípicos? Para este punto utilizar Bloxplots"
   ]
  },
  {
   "cell_type": "code",
   "execution_count": null,
   "metadata": {},
   "outputs": [],
   "source": [
    "sns.boxplot(x=df[\"MSSubClass\"])"
   ]
  },
  {
   "cell_type": "markdown",
   "metadata": {},
   "source": [
    "![image.png](attachment:image.png)"
   ]
  },
  {
   "cell_type": "markdown",
   "metadata": {},
   "source": [
    "2.-¿En qué variables identifica un tipo de sesgo? Usar histogramas"
   ]
  },
  {
   "cell_type": "code",
   "execution_count": null,
   "metadata": {},
   "outputs": [],
   "source": [
    "plt.hist(df[\"MSSubClass\"], bins=5, edgecolor='black')  # You can adjust the number of bins\n",
    "plt.xlabel('\"MSSubClass\"')\n",
    "plt.ylabel('Valores')\n",
    "plt.title('Histograma \"MSSubClass\"')\n",
    "plt.show()"
   ]
  },
  {
   "cell_type": "markdown",
   "metadata": {},
   "source": [
    "3.-¿Sigue una distribución normal cada variable numérica? Usar prueba de Anderson Darling"
   ]
  },
  {
   "cell_type": "code",
   "execution_count": null,
   "metadata": {},
   "outputs": [],
   "source": [
    "# Prueba de Anderson-Darlingresultado = anderson(df[\"MSSubClass\"])\n",
    "\n",
    "int(\"Estadística de prueba:\", resultado.statistic)\n",
    "print(\"Valores críticos:\", resultado.critical_values)\n",
    "print(\"Niveles de significancia:\", resul ado.significance_level)\n",
    "\n",
    "if resultado.statistic < resultado.critical_values[2]:\n",
    "    print(\"Distribución normal\")\n",
    "else:\n",
    "    print(\"No sigue distribución normal\")"
   ]
  },
  {
   "cell_type": "markdown",
   "metadata": {},
   "source": [
    "4.-¿Qué medida de tendencia central describe mejor a la variable y por qué? (media o mediana)\n",
    "\n",
    "Notas:\n",
    "* S  sesigue  unadist ribuciónnormal entonces la media oymediana es lo mismo , por lo que se puede elegir cualquier tendencia para describir a la variable.\n",
    "* Si no se sigue una distribución normal entonces la media no aporta información relevante (genera ruido), por lo tanto la tendencia central que describe mejor a la variable es la \"mediana\" debido a que representa la mitad de los valores intrínsecos."
   ]
  },
  {
   "cell_type": "code",
   "execution_count": null,
   "metadata": {},
   "outputs": [],
   "source": [
    "print(\"Media:\",statistics.mean(df[\"MSSubClass\"]))\n",
    "print(\"Mediana:\",statistics.median(df[\"MSSubClass\"]))"
   ]
  },
  {
   "cell_type": "markdown",
   "metadata": {},
   "source": [
    "Debido a que la variable no sigue una distribución normal, la medida de tendencia central que mejor describe a la variable es la **mediana**."
   ]
  },
  {
   "cell_type": "markdown",
   "metadata": {},
   "source": [
    "5.-¿Qué medida de variabilidad describe mejor a cada variable numérica y por qué? (desviación o rango intercuartil)\n",
    "\n",
    "Notas:*\n",
    " Si se sigue una distribución normal, entonces se ocupa una desviación estándar.* Si  no se sigue una distribución normal, entonces acompaña a la mediadana. Es decir, se ocupa como medida de vairiabilidad el rando intercuartil."
   ]
  },
  {
   "cell_type": "code",
   "execution_count": null,
   "metadata": {},
   "outputs": [],
   "source": [
    "statistics.stdev(df[\"MSSubClass\"])"
   ]
  },
  {
   "cell_type": "code",
   "execution_count": null,
   "metadata": {},
   "outputs": [],
   "source": [
    "iqr(df[\"MSSubClass\"])"
   ]
  },
  {
   "cell_type": "markdown",
   "metadata": {},
   "source": [
    "En este caso, debido a que la medida de tendencia que se seleccionó es la mediana, la medida de variabilidad que mejor describe a cada variable es el **rango intercuartil** que para este caso es 50.0"
   ]
  },
  {
   "cell_type": "markdown",
   "metadata": {},
   "source": [
    "1.-¿Qué variables presentan datos atípicos? Para este punto utilizar Bloxplots"
   ]
  },
  {
   "cell_type": "code",
   "execution_count": null,
   "metadata": {},
   "outputs": [],
   "source": [
    "sns.boxplot(x=df[\"MSSubClass\"])"
   ]
  },
  {
   "cell_type": "markdown",
   "metadata": {},
   "source": [
    "![image.png](attachment:image.png)"
   ]
  },
  {
   "cell_type": "markdown",
   "metadata": {},
   "source": [
    "2.-¿En qué variables identifica un tipo de sesgo? Usar histogramas"
   ]
  },
  {
   "cell_type": "code",
   "execution_count": null,
   "metadata": {},
   "outputs": [],
   "source": [
    "plt.hist(df[\"MSSubClass\"], bins=5, edgecolor='black')  # You can adjust the number of bins\n",
    "plt.xlabel('\"MSSubClass\"')\n",
    "plt.ylabel('Valores')\n",
    "plt.title('Histograma \"MSSubClass\"')\n",
    "plt.show()"
   ]
  },
  {
   "cell_type": "markdown",
   "metadata": {},
   "source": [
    "3.-¿Sigue una distribución normal cada variable numérica? Usar prueba de Anderson Darling"
   ]
  },
  {
   "cell_type": "code",
   "execution_count": null,
   "metadata": {},
   "outputs": [],
   "source": [
    "# Prueba de Anderson-Darling\n",
    "resultado = anderson(df[\"MSSubClass\"])\n",
    "print(\"Estadística de prueba:\", resultado.statistic)\n",
    "print(\"Valores críticos:\", resultado.critical_values)\n",
    "print(\"Niveles de significancia:\", resultado.significance_level)\n",
    "\n",
    "if resultado.statistic < resultado.critical_values[2]:\n",
    "    print(\"Distribución normal\")\n",
    "else:\n",
    "    print(\"No sigue distribución normal\")"
   ]
  },
  {
   "cell_type": "markdown",
   "metadata": {},
   "source": [
    "4.-¿Qué medida de tendencia central describe mejor a la variable y por qué? (media o mediana)\n",
    "\n",
    "Notas:\n",
    "* Si se sigue una distribución normal entonces la media y mediana es lo mismo, por lo que se puede elegir cualquier tendencia para describir a la variable.\n",
    "* Si no se sigue una distribución normal entonces la media no aporta información relevante (genera ruido), por lo tanto la tendencia central que describe mejor a la variable es la \"mediana\" debido a que representa la mitad de los valores intrínsecos."
   ]
  },
  {
   "cell_type": "code",
   "execution_count": null,
   "metadata": {},
   "outputs": [],
   "source": [
    "print(\"Media:\",statistics.mean(df[\"MSSubClass\"]))\n",
    "print(\"Mediana:\",statistics.median(df[\"MSSubClass\"]))"
   ]
  },
  {
   "cell_type": "markdown",
   "metadata": {},
   "source": [
    "Debido a que la variable no sigue una distribución normal, la medida de tendencia central que mejor describe a la variable es la **mediana**."
   ]
  },
  {
   "cell_type": "markdown",
   "metadata": {},
   "source": [
    "5.-¿Qué medida de variabilidad describe mejor a cada variable numérica y por qué? (desviación o rango intercuartil)\n",
    "\n",
    "Notas:\n",
    "* Si se sigue una distribución normal, entonces se ocupa una desviación estándar.\n",
    "* Si no se sigue una distribución normal, entonces acompaña a la mediadana. Es decir, se ocupa como medida de vairiabilidad el rando intercuartil."
   ]
  },
  {
   "cell_type": "code",
   "execution_count": null,
   "metadata": {},
   "outputs": [],
   "source": [
    "statistics.stdev(df[\"MSSubClass\"])"
   ]
  },
  {
   "cell_type": "code",
   "execution_count": null,
   "metadata": {},
   "outputs": [],
   "source": [
    "iqr(df[\"MSSubClass\"])"
   ]
  },
  {
   "cell_type": "markdown",
   "metadata": {},
   "source": [
    "En este caso, debido a que la medida de tendencia que se seleccionó es la mediana, la medida de variabilidad que mejor describe a cada variable es el **rango intercuartil** que para este caso es 50.0"
   ]
  },
  {
   "cell_type": "markdown",
   "metadata": {},
   "source": [
    "1.-¿Qué variables presentan datos atípicos? Para este punto utilizar Bloxplots"
   ]
  },
  {
   "cell_type": "code",
   "execution_count": null,
   "metadata": {},
   "outputs": [],
   "source": [
    "sns.boxplot(x=df[\"MSSubClass\"])"
   ]
  },
  {
   "cell_type": "markdown",
   "metadata": {},
   "source": [
    "![image.png](attachment:image.png)"
   ]
  },
  {
   "cell_type": "markdown",
   "metadata": {},
   "source": [
    "2.-¿En qué variables identifica un tipo de sesgo? Usar histogramas"
   ]
  },
  {
   "cell_type": "code",
   "execution_count": null,
   "metadata": {},
   "outputs": [],
   "source": [
    "plt.hist(df[\"MSSubClass\"], bins=5, edgecolor='black')  # You can adjust the number of bins\n",
    "plt.xlabel('\"MSSubClass\"')\n",
    "plt.ylabel('Valores')\n",
    "plt.title('Histograma \"MSSubClass\"')\n",
    "plt.show()"
   ]
  },
  {
   "cell_type": "markdown",
   "metadata": {},
   "source": [
    "3.-¿Sigue una distribución normal cada variable numérica? Usar prueba de Anderson Darling"
   ]
  },
  {
   "cell_type": "code",
   "execution_count": null,
   "metadata": {},
   "outputs": [],
   "source": [
    "# Prueba de Anderson-Darlingresultado = anderson(df[\"MSSubClass\"])\n",
    "\n",
    "int(\"Estadística de prueba:\", resultado.statistic)\n",
    "print(\"Valores críticos:\", resultado.critical_values)\n",
    "print(\"Niveles de significancia:\", resul ado.significance_level)\n",
    "\n",
    "if resultado.statistic < resultado.critical_values[2]:\n",
    "    print(\"Distribución normal\")\n",
    "else:\n",
    "    print(\"No sigue distribución normal\")"
   ]
  },
  {
   "cell_type": "markdown",
   "metadata": {},
   "source": [
    "4.-¿Qué medida de tendencia central describe mejor a la variable y por qué? (media o mediana)\n",
    "\n",
    "Notas:\n",
    "* S  sesigue  unadist ribuciónnormal entonces la media oymediana es lo mismo , por lo que se puede elegir cualquier tendencia para describir a la variable.\n",
    "* Si no se sigue una distribución normal entonces la media no aporta información relevante (genera ruido), por lo tanto la tendencia central que describe mejor a la variable es la \"mediana\" debido a que representa la mitad de los valores intrínsecos."
   ]
  },
  {
   "cell_type": "code",
   "execution_count": null,
   "metadata": {},
   "outputs": [],
   "source": [
    "print(\"Media:\",statistics.mean(df[\"MSSubClass\"]))\n",
    "print(\"Mediana:\",statistics.median(df[\"MSSubClass\"]))"
   ]
  },
  {
   "cell_type": "markdown",
   "metadata": {},
   "source": [
    "Debido a que la variable no sigue una distribución normal, la medida de tendencia central que mejor describe a la variable es la **mediana**."
   ]
  },
  {
   "cell_type": "markdown",
   "metadata": {},
   "source": [
    "5.-¿Qué medida de variabilidad describe mejor a cada variable numérica y por qué? (desviación o rango intercuartil)\n",
    "\n",
    "Notas:*\n",
    " Si se sigue una distribución normal, entonces se ocupa una desviación estándar.* Si  no se sigue una distribución normal, entonces acompaña a la mediadana. Es decir, se ocupa como medida de vairiabilidad el rando intercuartil."
   ]
  },
  {
   "cell_type": "code",
   "execution_count": null,
   "metadata": {},
   "outputs": [],
   "source": [
    "statistics.stdev(df[\"MSSubClass\"])"
   ]
  },
  {
   "cell_type": "code",
   "execution_count": null,
   "metadata": {},
   "outputs": [],
   "source": [
    "iqr(df[\"MSSubClass\"])"
   ]
  },
  {
   "cell_type": "markdown",
   "metadata": {},
   "source": [
    "En este caso, debido a que la medida de tendencia que se seleccionó es la mediana, la medida de variabilidad que mejor describe a cada variable es el **rango intercuartil** que para este caso es 50.0"
   ]
  },
  {
   "cell_type": "markdown",
   "metadata": {},
   "source": [
    "1.-¿Qué variables presentan datos atípicos? Para este punto utilizar Bloxplots"
   ]
  },
  {
   "cell_type": "code",
   "execution_count": null,
   "metadata": {},
   "outputs": [],
   "source": [
    "sns.boxplot(x=df[\"MSSubClass\"])"
   ]
  },
  {
   "cell_type": "markdown",
   "metadata": {},
   "source": [
    "![image.png](attachment:image.png)"
   ]
  },
  {
   "cell_type": "markdown",
   "metadata": {},
   "source": [
    "2.-¿En qué variables identifica un tipo de sesgo? Usar histogramas"
   ]
  },
  {
   "cell_type": "code",
   "execution_count": null,
   "metadata": {},
   "outputs": [],
   "source": [
    "plt.hist(df[\"MSSubClass\"], bins=5, edgecolor='black')  # You can adjust the number of bins\n",
    "plt.xlabel('\"MSSubClass\"')\n",
    "plt.ylabel('Valores')\n",
    "plt.title('Histograma \"MSSubClass\"')\n",
    "plt.show()"
   ]
  },
  {
   "cell_type": "markdown",
   "metadata": {},
   "source": [
    "3.-¿Sigue una distribución normal cada variable numérica? Usar prueba de Anderson Darling"
   ]
  },
  {
   "cell_type": "code",
   "execution_count": null,
   "metadata": {},
   "outputs": [],
   "source": [
    "# Prueba de Anderson-Darling\n",
    "resultado = anderson(df[\"MSSubClass\"])\n",
    "print(\"Estadística de prueba:\", resultado.statistic)\n",
    "print(\"Valores críticos:\", resultado.critical_values)\n",
    "print(\"Niveles de significancia:\", resultado.significance_level)\n",
    "\n",
    "if resultado.statistic < resultado.critical_values[2]:\n",
    "    print(\"Distribución normal\")\n",
    "else:\n",
    "    print(\"No sigue distribución normal\")"
   ]
  },
  {
   "cell_type": "markdown",
   "metadata": {},
   "source": [
    "4.-¿Qué medida de tendencia central describe mejor a la variable y por qué? (media o mediana)\n",
    "\n",
    "Notas:\n",
    "* Si se sigue una distribución normal entonces la media y mediana es lo mismo, por lo que se puede elegir cualquier tendencia para describir a la variable.\n",
    "* Si no se sigue una distribución normal entonces la media no aporta información relevante (genera ruido), por lo tanto la tendencia central que describe mejor a la variable es la \"mediana\" debido a que representa la mitad de los valores intrínsecos."
   ]
  },
  {
   "cell_type": "code",
   "execution_count": null,
   "metadata": {},
   "outputs": [],
   "source": [
    "print(\"Media:\",statistics.mean(df[\"MSSubClass\"]))\n",
    "print(\"Mediana:\",statistics.median(df[\"MSSubClass\"]))"
   ]
  },
  {
   "cell_type": "markdown",
   "metadata": {},
   "source": [
    "Debido a que la variable no sigue una distribución normal, la medida de tendencia central que mejor describe a la variable es la **mediana**."
   ]
  },
  {
   "cell_type": "markdown",
   "metadata": {},
   "source": [
    "5.-¿Qué medida de variabilidad describe mejor a cada variable numérica y por qué? (desviación o rango intercuartil)\n",
    "\n",
    "Notas:\n",
    "* Si se sigue una distribución normal, entonces se ocupa una desviación estándar.\n",
    "* Si no se sigue una distribución normal, entonces acompaña a la mediadana. Es decir, se ocupa como medida de vairiabilidad el rando intercuartil."
   ]
  },
  {
   "cell_type": "code",
   "execution_count": null,
   "metadata": {},
   "outputs": [],
   "source": [
    "statistics.stdev(df[\"MSSubClass\"])"
   ]
  },
  {
   "cell_type": "code",
   "execution_count": null,
   "metadata": {},
   "outputs": [],
   "source": [
    "iqr(df[\"MSSubClass\"])"
   ]
  },
  {
   "cell_type": "markdown",
   "metadata": {},
   "source": [
    "En este caso, debido a que la medida de tendencia que se seleccionó es la mediana, la medida de variabilidad que mejor describe a cada variable es el **rango intercuartil** que para este caso es 50.0"
   ]
  },
  {
   "cell_type": "markdown",
   "metadata": {},
   "source": [
    "1.-¿Qué variables presentan datos atípicos? Para este punto utilizar Bloxplots"
   ]
  },
  {
   "cell_type": "code",
   "execution_count": null,
   "metadata": {},
   "outputs": [],
   "source": [
    "sns.boxplot(x=df[\"MSSubClass\"])"
   ]
  },
  {
   "cell_type": "markdown",
   "metadata": {},
   "source": [
    "![image.png](attachment:image.png)"
   ]
  },
  {
   "cell_type": "markdown",
   "metadata": {},
   "source": [
    "2.-¿En qué variables identifica un tipo de sesgo? Usar histogramas"
   ]
  },
  {
   "cell_type": "code",
   "execution_count": null,
   "metadata": {},
   "outputs": [],
   "source": [
    "plt.hist(df[\"MSSubClass\"], bins=5, edgecolor='black')  # You can adjust the number of bins\n",
    "plt.xlabel('\"MSSubClass\"')\n",
    "plt.ylabel('Valores')\n",
    "plt.title('Histograma \"MSSubClass\"')\n",
    "plt.show()"
   ]
  },
  {
   "cell_type": "markdown",
   "metadata": {},
   "source": [
    "3.-¿Sigue una distribución normal cada variable numérica? Usar prueba de Anderson Darling"
   ]
  },
  {
   "cell_type": "code",
   "execution_count": null,
   "metadata": {},
   "outputs": [],
   "source": [
    "# Prueba de Anderson-Darlingresultado = anderson(df[\"MSSubClass\"])\n",
    "\n",
    "int(\"Estadística de prueba:\", resultado.statistic)\n",
    "print(\"Valores críticos:\", resultado.critical_values)\n",
    "print(\"Niveles de significancia:\", resul ado.significance_level)\n",
    "\n",
    "if resultado.statistic < resultado.critical_values[2]:\n",
    "    print(\"Distribución normal\")\n",
    "else:\n",
    "    print(\"No sigue distribución normal\")"
   ]
  },
  {
   "cell_type": "markdown",
   "metadata": {},
   "source": [
    "4.-¿Qué medida de tendencia central describe mejor a la variable y por qué? (media o mediana)\n",
    "\n",
    "Notas:\n",
    "* S  sesigue  unadist ribuciónnormal entonces la media oymediana es lo mismo , por lo que se puede elegir cualquier tendencia para describir a la variable.\n",
    "* Si no se sigue una distribución normal entonces la media no aporta información relevante (genera ruido), por lo tanto la tendencia central que describe mejor a la variable es la \"mediana\" debido a que representa la mitad de los valores intrínsecos."
   ]
  },
  {
   "cell_type": "code",
   "execution_count": null,
   "metadata": {},
   "outputs": [],
   "source": [
    "print(\"Media:\",statistics.mean(df[\"MSSubClass\"]))\n",
    "print(\"Mediana:\",statistics.median(df[\"MSSubClass\"]))"
   ]
  },
  {
   "cell_type": "markdown",
   "metadata": {},
   "source": [
    "Debido a que la variable no sigue una distribución normal, la medida de tendencia central que mejor describe a la variable es la **mediana**."
   ]
  },
  {
   "cell_type": "markdown",
   "metadata": {},
   "source": [
    "5.-¿Qué medida de variabilidad describe mejor a cada variable numérica y por qué? (desviación o rango intercuartil)\n",
    "\n",
    "Notas:*\n",
    " Si se sigue una distribución normal, entonces se ocupa una desviación estándar.* Si  no se sigue una distribución normal, entonces acompaña a la mediadana. Es decir, se ocupa como medida de vairiabilidad el rando intercuartil."
   ]
  },
  {
   "cell_type": "code",
   "execution_count": null,
   "metadata": {},
   "outputs": [],
   "source": [
    "statistics.stdev(df[\"MSSubClass\"])"
   ]
  },
  {
   "cell_type": "code",
   "execution_count": null,
   "metadata": {},
   "outputs": [],
   "source": [
    "iqr(df[\"MSSubClass\"])"
   ]
  },
  {
   "cell_type": "markdown",
   "metadata": {},
   "source": [
    "En este caso, debido a que la medida de tendencia que se seleccionó es la mediana, la medida de variabilidad que mejor describe a cada variable es el **rango intercuartil** que para este caso es 50.0"
   ]
  },
  {
   "cell_type": "markdown",
   "metadata": {},
   "source": [
    "1.-¿Qué variables presentan datos atípicos? Para este punto utilizar Bloxplots"
   ]
  },
  {
   "cell_type": "code",
   "execution_count": null,
   "metadata": {},
   "outputs": [],
   "source": [
    "sns.boxplot(x=df[\"MSSubClass\"])"
   ]
  },
  {
   "cell_type": "markdown",
   "metadata": {},
   "source": [
    "![image.png](attachment:image.png)"
   ]
  },
  {
   "cell_type": "markdown",
   "metadata": {},
   "source": [
    "2.-¿En qué variables identifica un tipo de sesgo? Usar histogramas"
   ]
  },
  {
   "cell_type": "code",
   "execution_count": null,
   "metadata": {},
   "outputs": [],
   "source": [
    "plt.hist(df[\"MSSubClass\"], bins=5, edgecolor='black')  # You can adjust the number of bins\n",
    "plt.xlabel('\"MSSubClass\"')\n",
    "plt.ylabel('Valores')\n",
    "plt.title('Histograma \"MSSubClass\"')\n",
    "plt.show()"
   ]
  },
  {
   "cell_type": "markdown",
   "metadata": {},
   "source": [
    "3.-¿Sigue una distribución normal cada variable numérica? Usar prueba de Anderson Darling"
   ]
  },
  {
   "cell_type": "code",
   "execution_count": null,
   "metadata": {},
   "outputs": [],
   "source": [
    "# Prueba de Anderson-Darling\n",
    "resultado = anderson(df[\"MSSubClass\"])\n",
    "print(\"Estadística de prueba:\", resultado.statistic)\n",
    "print(\"Valores críticos:\", resultado.critical_values)\n",
    "print(\"Niveles de significancia:\", resultado.significance_level)\n",
    "\n",
    "if resultado.statistic < resultado.critical_values[2]:\n",
    "    print(\"Distribución normal\")\n",
    "else:\n",
    "    print(\"No sigue distribución normal\")"
   ]
  },
  {
   "cell_type": "markdown",
   "metadata": {},
   "source": [
    "4.-¿Qué medida de tendencia central describe mejor a la variable y por qué? (media o mediana)\n",
    "\n",
    "Notas:\n",
    "* Si se sigue una distribución normal entonces la media y mediana es lo mismo, por lo que se puede elegir cualquier tendencia para describir a la variable.\n",
    "* Si no se sigue una distribución normal entonces la media no aporta información relevante (genera ruido), por lo tanto la tendencia central que describe mejor a la variable es la \"mediana\" debido a que representa la mitad de los valores intrínsecos."
   ]
  },
  {
   "cell_type": "code",
   "execution_count": null,
   "metadata": {},
   "outputs": [],
   "source": [
    "print(\"Media:\",statistics.mean(df[\"MSSubClass\"]))\n",
    "print(\"Mediana:\",statistics.median(df[\"MSSubClass\"]))"
   ]
  },
  {
   "cell_type": "markdown",
   "metadata": {},
   "source": [
    "Debido a que la variable no sigue una distribución normal, la medida de tendencia central que mejor describe a la variable es la **mediana**."
   ]
  },
  {
   "cell_type": "markdown",
   "metadata": {},
   "source": [
    "5.-¿Qué medida de variabilidad describe mejor a cada variable numérica y por qué? (desviación o rango intercuartil)\n",
    "\n",
    "Notas:\n",
    "* Si se sigue una distribución normal, entonces se ocupa una desviación estándar.\n",
    "* Si no se sigue una distribución normal, entonces acompaña a la mediadana. Es decir, se ocupa como medida de vairiabilidad el rando intercuartil."
   ]
  },
  {
   "cell_type": "code",
   "execution_count": null,
   "metadata": {},
   "outputs": [],
   "source": [
    "statistics.stdev(df[\"MSSubClass\"])"
   ]
  },
  {
   "cell_type": "code",
   "execution_count": null,
   "metadata": {},
   "outputs": [],
   "source": [
    "iqr(df[\"MSSubClass\"])"
   ]
  },
  {
   "cell_type": "markdown",
   "metadata": {},
   "source": [
    "En este caso, debido a que la medida de tendencia que se seleccionó es la mediana, la medida de variabilidad que mejor describe a cada variable es el **rango intercuartil** que para este caso es 50.0"
   ]
  },
  {
   "cell_type": "markdown",
   "metadata": {},
   "source": [
    "1.-¿Qué variables presentan datos atípicos? Para este punto utilizar Bloxplots"
   ]
  },
  {
   "cell_type": "code",
   "execution_count": null,
   "metadata": {},
   "outputs": [],
   "source": [
    "sns.boxplot(x=df[\"MSSubClass\"])"
   ]
  },
  {
   "cell_type": "markdown",
   "metadata": {},
   "source": [
    "![image.png](attachment:image.png)"
   ]
  },
  {
   "cell_type": "markdown",
   "metadata": {},
   "source": [
    "2.-¿En qué variables identifica un tipo de sesgo? Usar histogramas"
   ]
  },
  {
   "cell_type": "code",
   "execution_count": null,
   "metadata": {},
   "outputs": [],
   "source": [
    "plt.hist(df[\"MSSubClass\"], bins=5, edgecolor='black')  # You can adjust the number of bins\n",
    "plt.xlabel('\"MSSubClass\"')\n",
    "plt.ylabel('Valores')\n",
    "plt.title('Histograma \"MSSubClass\"')\n",
    "plt.show()"
   ]
  },
  {
   "cell_type": "markdown",
   "metadata": {},
   "source": [
    "3.-¿Sigue una distribución normal cada variable numérica? Usar prueba de Anderson Darling"
   ]
  },
  {
   "cell_type": "code",
   "execution_count": null,
   "metadata": {},
   "outputs": [],
   "source": [
    "# Prueba de Anderson-Darlingresultado = anderson(df[\"MSSubClass\"])\n",
    "\n",
    "int(\"Estadística de prueba:\", resultado.statistic)\n",
    "print(\"Valores críticos:\", resultado.critical_values)\n",
    "print(\"Niveles de significancia:\", resul ado.significance_level)\n",
    "\n",
    "if resultado.statistic < resultado.critical_values[2]:\n",
    "    print(\"Distribución normal\")\n",
    "else:\n",
    "    print(\"No sigue distribución normal\")"
   ]
  },
  {
   "cell_type": "markdown",
   "metadata": {},
   "source": [
    "4.-¿Qué medida de tendencia central describe mejor a la variable y por qué? (media o mediana)\n",
    "\n",
    "Notas:\n",
    "* S  sesigue  unadist ribuciónnormal entonces la media oymediana es lo mismo , por lo que se puede elegir cualquier tendencia para describir a la variable.\n",
    "* Si no se sigue una distribución normal entonces la media no aporta información relevante (genera ruido), por lo tanto la tendencia central que describe mejor a la variable es la \"mediana\" debido a que representa la mitad de los valores intrínsecos."
   ]
  },
  {
   "cell_type": "code",
   "execution_count": null,
   "metadata": {},
   "outputs": [],
   "source": [
    "print(\"Media:\",statistics.mean(df[\"MSSubClass\"]))\n",
    "print(\"Mediana:\",statistics.median(df[\"MSSubClass\"]))"
   ]
  },
  {
   "cell_type": "markdown",
   "metadata": {},
   "source": [
    "Debido a que la variable no sigue una distribución normal, la medida de tendencia central que mejor describe a la variable es la **mediana**."
   ]
  },
  {
   "cell_type": "markdown",
   "metadata": {},
   "source": [
    "5.-¿Qué medida de variabilidad describe mejor a cada variable numérica y por qué? (desviación o rango intercuartil)\n",
    "\n",
    "Notas:*\n",
    " Si se sigue una distribución normal, entonces se ocupa una desviación estándar.* Si  no se sigue una distribución normal, entonces acompaña a la mediadana. Es decir, se ocupa como medida de vairiabilidad el rando intercuartil."
   ]
  },
  {
   "cell_type": "code",
   "execution_count": null,
   "metadata": {},
   "outputs": [],
   "source": [
    "statistics.stdev(df[\"MSSubClass\"])"
   ]
  },
  {
   "cell_type": "code",
   "execution_count": null,
   "metadata": {},
   "outputs": [],
   "source": [
    "iqr(df[\"MSSubClass\"])"
   ]
  },
  {
   "cell_type": "markdown",
   "metadata": {},
   "source": [
    "En este caso, debido a que la medida de tendencia que se seleccionó es la mediana, la medida de variabilidad que mejor describe a cada variable es el **rango intercuartil** que para este caso es 50.0"
   ]
  },
  {
   "cell_type": "markdown",
   "metadata": {},
   "source": [
    "# KitchenAbvGr"
   ]
  },
  {
   "cell_type": "markdown",
   "metadata": {},
   "source": [
    "1.-¿Qué variables presentan datos atípicos? Para este punto utilizar Bloxplots"
   ]
  },
  {
   "cell_type": "code",
   "execution_count": null,
   "metadata": {},
   "outputs": [],
   "source": [
    "df[\"KitchenAbvGr\"].value_counts()"
   ]
  },
  {
   "cell_type": "code",
   "execution_count": 73,
   "metadata": {},
   "outputs": [
    {
     "data": {
      "text/plain": [
       "<Axes: xlabel='KitchenAbvGr'>"
      ]
     },
     "execution_count": 73,
     "metadata": {},
     "output_type": "execute_result"
    },
    {
     "data": {
      "image/png": "[encoded data removed]",
      "text/plain": [
       "<Figure size 640x480 with 1 Axes>"
      ]
     },
     "metadata": {},
     "output_type": "display_data"
    }
   ],
   "source": [
    "sns.boxplot(x=df[\"KitchenAbvGr\"])"
   ]
  },
  {
   "cell_type": "markdown",
   "metadata": {},
   "source": [
    "![image.png](attachment:image.png)"
   ]
  },
  {
   "cell_type": "markdown",
   "metadata": {},
   "source": [
    "2.-¿En qué variables identifica un tipo de sesgo? Usar histogramas"
   ]
  },
  {
   "cell_type": "code",
   "execution_count": 87,
   "metadata": {},
   "outputs": [
    {
     "data": {
      "image/png": "[encoded data removed]",
      "text/plain": [
       "<Figure size 640x480 with 1 Axes>"
      ]
     },
     "metadata": {},
     "output_type": "display_data"
    }
   ],
   "source": [
    "plt.hist(df[\"KitchenAbvGr\"], edgecolor='black')  # You can adjust the number of bins\n",
    "plt.xlabel('\"KitchenAbvGr\"')\n",
    "plt.ylabel('Valores') \n",
    "plt.title('Histograma \"KitchenAbvGr\"')\n",
    "plt.show()"
   ]
  },
  {
   "cell_type": "markdown",
   "metadata": {},
   "source": []
  },
  {
   "cell_type": "markdown",
   "metadata": {},
   "source": [
    "3.-¿Sigue una distribución normal cada variable numérica? Usar prueba de Anderson Darling"
   ]
  },
  {
   "cell_type": "code",
   "execution_count": null,
   "metadata": {},
   "outputs": [],
   "source": [
    "# Prueba de Anderson-Darling\n",
    "resultado = anderson(df[\"KitchenAbvGr\"])\n",
    "print(\"Estadística de prueba:\", resultado.statistic)\n",
    "print(\"Valores críticos:\", resultado.critical_values)\n",
    "print(\"Niveles de significancia:\", resultado.significance_level)\n",
    "\n",
    "if resultado.statistic < resultado.critical_values[2]:\n",
    "    print(\"Distribución normal\")\n",
    "else:\n",
    "    print(\"No sigue distribución normal\")"
   ]
  },
  {
   "cell_type": "markdown",
   "metadata": {},
   "source": [
    "4.-¿Qué medida de tendencia central describe mejor a la variable y por qué? (media o mediana)\n",
    "\n",
    "Notas:\n",
    "* Si se sigue una distribución normal entonces la media y mediana es lo mismo, por lo que se puede elegir cualquier tendencia para describir a la variable.\n",
    "* Si no se sigue una distribución normal entonces la media no aporta información relevante (genera ruido), por lo tanto la tendencia central que describe mejor a la variable es la \"mediana\" debido a que representa la mitad de los valores intrínsecos."
   ]
  },
  {
   "cell_type": "code",
   "execution_count": null,
   "metadata": {},
   "outputs": [],
   "source": [
    "print(\"Media:\",statistics.mean(df[\"KitchenAbvGr\"]))\n",
    "print(\"Mediana:\",statistics.median(df[\"KitchenAbvGr\"]))"
   ]
  },
  {
   "cell_type": "markdown",
   "metadata": {},
   "source": [
    "Debido a que la variable no sigue una distribución normal, la medida de tendencia central que mejor describe a la variable es la **mediana**."
   ]
  },
  {
   "cell_type": "markdown",
   "metadata": {},
   "source": [
    "5.-¿Qué medida de variabilidad describe mejor a cada variable numérica y por qué? (desviación o rango intercuartil)\n",
    "\n",
    "Notas:\n",
    "* Si se sigue una distribución normal, entonces se ocupa una desviación estándar.\n",
    "* Si no se sigue una distribución normal, entonces acompaña a la mediadana. Es decir, se ocupa como medida de vairiabilidad el rando intercuartil."
   ]
  },
  {
   "cell_type": "code",
   "execution_count": null,
   "metadata": {},
   "outputs": [],
   "source": [
    "statistics.stdev(df[\"KitchenAbvGr\"])"
   ]
  },
  {
   "cell_type": "code",
   "execution_count": null,
   "metadata": {},
   "outputs": [],
   "source": [
    "iqr(df[\"KitchenAbvGr\"])"
   ]
  },
  {
   "cell_type": "markdown",
   "metadata": {},
   "source": [
    "En este caso, debido a que la medida de tendencia que se seleccionó es la mediana, la medida de variabilidad que mejor describe a cada variable es el **rango intercuartil** que para este caso es 50.0"
   ]
  },
  {
   "cell_type": "markdown",
   "metadata": {},
   "source": [
    "# TotRmsAbvGrd"
   ]
  },
  {
   "cell_type": "markdown",
   "metadata": {},
   "source": [
    "1.-¿Qué variables presentan datos atípicos? Para este punto utilizar Bloxplots"
   ]
  },
  {
   "cell_type": "code",
   "execution_count": null,
   "metadata": {},
   "outputs": [],
   "source": [
    "sns.boxplot(x=df[\"TotRmsAbvGrd\"])"
   ]
  },
  {
   "cell_type": "markdown",
   "metadata": {},
   "source": [
    "![image.png](attachment:image.png)"
   ]
  },
  {
   "cell_type": "markdown",
   "metadata": {},
   "source": [
    "2.-¿En qué variables identifica un tipo de sesgo? Usar histogramas"
   ]
  },
  {
   "cell_type": "code",
   "execution_count": 82,
   "metadata": {},
   "outputs": [
    {
     "data": {
      "image/png": "[encoded data removed]",
      "text/plain": [
       "<Figure size 640x480 with 1 Axes>"
      ]
     },
     "metadata": {},
     "output_type": "display_data"
    }
   ],
   "source": [
    "plt.hist(df[\"TotRmsAbvGrd\"], edgecolor='black')  # You can adjust the number of bins\n",
    "plt.xlabel('\"TotRmsAbvGrd\"')\n",
    "plt.ylabel('Valores')\n",
    "plt.title('Histograma \"TotRmsAbvGrd\"')\n",
    "plt.show()"
   ]
  },
  {
   "cell_type": "markdown",
   "metadata": {},
   "source": [
    "3.-¿Sigue una distribución normal cada variable numérica? Usar prueba de Anderson Darling"
   ]
  },
  {
   "cell_type": "code",
   "execution_count": null,
   "metadata": {},
   "outputs": [],
   "source": [
    "# Prueba de Anderson-Darling\n",
    "resultado = anderson(df[\"TotRmsAbvGrd\"])\n",
    "print(\"Estadística de prueba:\", resultado.statistic)\n",
    "print(\"Valores críticos:\", resultado.critical_values)\n",
    "print(\"Niveles de significancia:\", resultado.significance_level)\n",
    "\n",
    "if resultado.statistic < resultado.critical_values[2]:\n",
    "    print(\"Distribución normal\")\n",
    "else:\n",
    "    print(\"No sigue distribución normal\")"
   ]
  },
  {
   "cell_type": "markdown",
   "metadata": {},
   "source": [
    "4.-¿Qué medida de tendencia central describe mejor a la variable y por qué? (media o mediana)\n",
    "\n",
    "Notas:\n",
    "* Si se sigue una distribución normal entonces la media y mediana es lo mismo, por lo que se puede elegir cualquier tendencia para describir a la variable.\n",
    "* Si no se sigue una distribución normal entonces la media no aporta información relevante (genera ruido), por lo tanto la tendencia central que describe mejor a la variable es la \"mediana\" debido a que representa la mitad de los valores intrínsecos."
   ]
  },
  {
   "cell_type": "code",
   "execution_count": null,
   "metadata": {},
   "outputs": [],
   "source": [
    "print(\"Media:\",statistics.mean(df[\"TotRmsAbvGrd\"]))\n",
    "print(\"Mediana:\",statistics.median(df[\"TotRmsAbvGrd\"]))"
   ]
  },
  {
   "cell_type": "markdown",
   "metadata": {},
   "source": [
    "Debido a que la variable no sigue una distribución normal, la medida de tendencia central que mejor describe a la variable es la **mediana**."
   ]
  },
  {
   "cell_type": "markdown",
   "metadata": {},
   "source": [
    "5.-¿Qué medida de variabilidad describe mejor a cada variable numérica y por qué? (desviación o rango intercuartil)\n",
    "\n",
    "Notas:\n",
    "* Si se sigue una distribución normal, entonces se ocupa una desviación estándar.\n",
    "* Si no se sigue una distribución normal, entonces acompaña a la mediadana. Es decir, se ocupa como medida de vairiabilidad el rando intercuartil."
   ]
  },
  {
   "cell_type": "code",
   "execution_count": null,
   "metadata": {},
   "outputs": [],
   "source": [
    "statistics.stdev(df[\"TotRmsAbvGrd\"])"
   ]
  },
  {
   "cell_type": "code",
   "execution_count": null,
   "metadata": {},
   "outputs": [],
   "source": [
    "iqr(df[\"TotRmsAbvGrd\"])"
   ]
  },
  {
   "cell_type": "markdown",
   "metadata": {},
   "source": [
    "En este caso, debido a que la medida de tendencia que se seleccionó es la mediana, la medida de variabilidad que mejor describe a cada variable es el **rango intercuartil** que para este caso es 50.0"
   ]
  },
  {
   "cell_type": "markdown",
   "metadata": {},
   "source": [
    "# Fireplaces"
   ]
  },
  {
   "cell_type": "markdown",
   "metadata": {},
   "source": [
    "1.-¿Qué variables presentan datos atípicos? Para este punto utilizar Bloxplots"
   ]
  },
  {
   "cell_type": "code",
   "execution_count": null,
   "metadata": {},
   "outputs": [],
   "source": [
    "sns.boxplot(x=df[\"Fireplaces\"])"
   ]
  },
  {
   "cell_type": "markdown",
   "metadata": {},
   "source": [
    "![image.png](attachment:image.png)"
   ]
  },
  {
   "cell_type": "markdown",
   "metadata": {},
   "source": [
    "2.-¿En qué variables identifica un tipo de sesgo? Usar histogramas"
   ]
  },
  {
   "cell_type": "code",
   "execution_count": null,
   "metadata": {},
   "outputs": [],
   "source": [
    "plt.hist(df[\"Fireplaces\"], edgecolor='black')  # You can adjust the number of bins\n",
    "plt.xlabel('\"Fireplaces\"')\n",
    "plt.ylabel('Valores')\n",
    "plt.title('Histograma \"Fireplaces\"')\n",
    "plt.show()"
   ]
  },
  {
   "cell_type": "markdown",
   "metadata": {},
   "source": [
    "3.-¿Sigue una distribución normal cada variable numérica? Usar prueba de Anderson Darling"
   ]
  },
  {
   "cell_type": "code",
   "execution_count": null,
   "metadata": {},
   "outputs": [],
   "source": [
    "# Prueba de Anderson-Darling\n",
    "resultado = anderson(df[\"Fireplaces\"])\n",
    "print(\"Estadística de prueba:\", resultado.statistic)\n",
    "print(\"Valores críticos:\", resultado.critical_values)\n",
    "print(\"Niveles de significancia:\", resultado.significance_level)\n",
    "\n",
    "if resultado.statistic < resultado.critical_values[2]:\n",
    "    print(\"Distribución normal\")\n",
    "else:\n",
    "    print(\"No sigue distribución normal\")"
   ]
  },
  {
   "cell_type": "markdown",
   "metadata": {},
   "source": [
    "4.-¿Qué medida de tendencia central describe mejor a la variable y por qué? (media o mediana)\n",
    "\n",
    "Notas:\n",
    "* Si se sigue una distribución normal entonces la media y mediana es lo mismo, por lo que se puede elegir cualquier tendencia para describir a la variable.\n",
    "* Si no se sigue una distribución normal entonces la media no aporta información relevante (genera ruido), por lo tanto la tendencia central que describe mejor a la variable es la \"mediana\" debido a que representa la mitad de los valores intrínsecos."
   ]
  },
  {
   "cell_type": "code",
   "execution_count": null,
   "metadata": {},
   "outputs": [],
   "source": [
    "print(\"Media:\",statistics.mean(df[\"Fireplaces\"]))\n",
    "print(\"Mediana:\",statistics.median(df[\"Fireplaces\"]))"
   ]
  },
  {
   "cell_type": "markdown",
   "metadata": {},
   "source": [
    "Debido a que la variable no sigue una distribución normal, la medida de tendencia central que mejor describe a la variable es la **mediana**."
   ]
  },
  {
   "cell_type": "markdown",
   "metadata": {},
   "source": [
    "5.-¿Qué medida de variabilidad describe mejor a cada variable numérica y por qué? (desviación o rango intercuartil)\n",
    "\n",
    "Notas:\n",
    "* Si se sigue una distribución normal, entonces se ocupa una desviación estándar.\n",
    "* Si no se sigue una distribución normal, entonces acompaña a la mediadana. Es decir, se ocupa como medida de vairiabilidad el rando intercuartil."
   ]
  },
  {
   "cell_type": "code",
   "execution_count": null,
   "metadata": {},
   "outputs": [],
   "source": [
    "statistics.stdev(df[\"Fireplaces\"])"
   ]
  },
  {
   "cell_type": "code",
   "execution_count": null,
   "metadata": {},
   "outputs": [],
   "source": [
    "iqr(df[\"Fireplaces\"])"
   ]
  },
  {
   "cell_type": "markdown",
   "metadata": {},
   "source": [
    "En este caso, debido a que la medida de tendencia que se seleccionó es la mediana, la medida de variabilidad que mejor describe a cada variable es el **rango intercuartil** que para este caso es 50.0"
   ]
  },
  {
   "cell_type": "markdown",
   "metadata": {},
   "source": [
    "# WoodDeckSF"
   ]
  },
  {
   "cell_type": "markdown",
   "metadata": {},
   "source": [
    "1.-¿Qué variables presentan datos atípicos? Para este punto utilizar Bloxplots"
   ]
  },
  {
   "cell_type": "code",
   "execution_count": null,
   "metadata": {},
   "outputs": [],
   "source": [
    "sns.boxplot(x=df[\"WoodDeckSF\"])"
   ]
  },
  {
   "cell_type": "markdown",
   "metadata": {},
   "source": [
    "![image.png](attachment:image.png)"
   ]
  },
  {
   "cell_type": "markdown",
   "metadata": {},
   "source": [
    "2.-¿En qué variables identifica un tipo de sesgo? Usar histogramas"
   ]
  },
  {
   "cell_type": "code",
   "execution_count": null,
   "metadata": {},
   "outputs": [],
   "source": [
    "plt.hist(df[\"WoodDeckSF\"], edgecolor='black')  # You can adjust the number of bins\n",
    "plt.xlabel('\"WoodDeckSF\"')\n",
    "plt.ylabel('Valores')\n",
    "plt.title('Histograma \"WoodDeckSF\"')\n",
    "plt.show()"
   ]
  },
  {
   "cell_type": "markdown",
   "metadata": {},
   "source": [
    "3.-¿Sigue una distribución normal cada variable numérica? Usar prueba de Anderson Darling"
   ]
  },
  {
   "cell_type": "code",
   "execution_count": null,
   "metadata": {},
   "outputs": [],
   "source": [
    "# Prueba de Anderson-Darling\n",
    "resultado = anderson(df[\"WoodDeckSF\"])\n",
    "print(\"Estadística de prueba:\", resultado.statistic)\n",
    "print(\"Valores críticos:\", resultado.critical_values)\n",
    "print(\"Niveles de significancia:\", resultado.significance_level)\n",
    "\n",
    "if resultado.statistic < resultado.critical_values[2]:\n",
    "    print(\"Distribución normal\")\n",
    "else:\n",
    "    print(\"No sigue distribución normal\")"
   ]
  },
  {
   "cell_type": "markdown",
   "metadata": {},
   "source": [
    "4.-¿Qué medida de tendencia central describe mejor a la variable y por qué? (media o mediana)\n",
    "\n",
    "Notas:\n",
    "* Si se sigue una distribución normal entonces la media y mediana es lo mismo, por lo que se puede elegir cualquier tendencia para describir a la variable.\n",
    "* Si no se sigue una distribución normal entonces la media no aporta información relevante (genera ruido), por lo tanto la tendencia central que describe mejor a la variable es la \"mediana\" debido a que representa la mitad de los valores intrínsecos."
   ]
  },
  {
   "cell_type": "code",
   "execution_count": null,
   "metadata": {},
   "outputs": [],
   "source": [
    "print(\"Media:\",statistics.mean(df[\"WoodDeckSF\"]))\n",
    "print(\"Mediana:\",statistics.median(df[\"WoodDeckSF\"]))"
   ]
  },
  {
   "cell_type": "markdown",
   "metadata": {},
   "source": [
    "Debido a que la variable no sigue una distribución normal, la medida de tendencia central que mejor describe a la variable es la **mediana**."
   ]
  },
  {
   "cell_type": "markdown",
   "metadata": {},
   "source": [
    "5.-¿Qué medida de variabilidad describe mejor a cada variable numérica y por qué? (desviación o rango intercuartil)\n",
    "\n",
    "Notas:\n",
    "* Si se sigue una distribución normal, entonces se ocupa una desviación estándar.\n",
    "* Si no se sigue una distribución normal, entonces acompaña a la mediadana. Es decir, se ocupa como medida de vairiabilidad el rando intercuartil."
   ]
  },
  {
   "cell_type": "code",
   "execution_count": null,
   "metadata": {},
   "outputs": [],
   "source": [
    "statistics.stdev(df[\"WoodDeckSF\"])"
   ]
  },
  {
   "cell_type": "code",
   "execution_count": null,
   "metadata": {},
   "outputs": [],
   "source": [
    "iqr(df[\"WoodDeckSF\"])"
   ]
  },
  {
   "cell_type": "markdown",
   "metadata": {},
   "source": [
    "En este caso, debido a que la medida de tendencia que se seleccionó es la mediana, la medida de variabilidad que mejor describe a cada variable es el **rango intercuartil** que para este caso es 50.0"
   ]
  },
  {
   "cell_type": "code",
   "execution_count": null,
   "metadata": {},
   "outputs": [],
   "source": [
    "print(\"Media:\",statistics.mean(df[\"MSSubClass\"]))\n",
    "print(\"Mediana:\",statistics.median(df[\"MSSubClass\"]))"
   ]
  },
  {
   "cell_type": "markdown",
   "metadata": {},
   "source": [
    "# OpenPorchSF"
   ]
  },
  {
   "cell_type": "markdown",
   "metadata": {},
   "source": [
    "1.-¿Qué variables presentan datos atípicos? Para este punto utilizar Bloxplots"
   ]
  },
  {
   "cell_type": "code",
   "execution_count": null,
   "metadata": {},
   "outputs": [],
   "source": [
    "sns.boxplot(x=df[\"OpenPorchSF\"])"
   ]
  },
  {
   "cell_type": "markdown",
   "metadata": {},
   "source": [
    "![image.png](attachment:image.png)"
   ]
  },
  {
   "cell_type": "markdown",
   "metadata": {},
   "source": [
    "2.-¿En qué variables identifica un tipo de sesgo? Usar histogramas"
   ]
  },
  {
   "cell_type": "code",
   "execution_count": null,
   "metadata": {},
   "outputs": [],
   "source": [
    "plt.hist(df[\"OpenPorchSF\"], edgecolor='black')  # You can adjust the number of bins\n",
    "plt.xlabel('\"OpenPorchSF\"')\n",
    "plt.ylabel('Valores')\n",
    "plt.title('Histograma \"OpenPorchSF\"')\n",
    "plt.show()"
   ]
  },
  {
   "cell_type": "markdown",
   "metadata": {},
   "source": [
    "3.-¿Sigue una distribución normal cada variable numérica? Usar prueba de Anderson Darling"
   ]
  },
  {
   "cell_type": "code",
   "execution_count": null,
   "metadata": {},
   "outputs": [],
   "source": [
    "# Prueba de Anderson-Darling\n",
    "resultado = anderson(df[\"OpenPorchSF\"])\n",
    "print(\"Estadística de prueba:\", resultado.statistic)\n",
    "print(\"Valores críticos:\", resultado.critical_values)\n",
    "print(\"Niveles de significancia:\", resultado.significance_level)\n",
    "\n",
    "if resultado.statistic < resultado.critical_values[2]:\n",
    "    print(\"Distribución normal\")\n",
    "else:\n",
    "    print(\"No sigue distribución normal\")"
   ]
  },
  {
   "cell_type": "markdown",
   "metadata": {},
   "source": [
    "4.-¿Qué medida de tendencia central describe mejor a la variable y por qué? (media o mediana)\n",
    "\n",
    "Notas:\n",
    "* Si se sigue una distribución normal entonces la media y mediana es lo mismo, por lo que se puede elegir cualquier tendencia para describir a la variable.\n",
    "* Si no se sigue una distribución normal entonces la media no aporta información relevante (genera ruido), por lo tanto la tendencia central que describe mejor a la variable es la \"mediana\" debido a que representa la mitad de los valores intrínsecos."
   ]
  },
  {
   "cell_type": "code",
   "execution_count": null,
   "metadata": {},
   "outputs": [],
   "source": [
    "print(\"Media:\",statistics.mean(df[\"OpenPorchSF\"]))\n",
    "print(\"Mediana:\",statistics.median(df[\"OpenPorchSF\"]))"
   ]
  },
  {
   "cell_type": "markdown",
   "metadata": {},
   "source": [
    "Debido a que la variable no sigue una distribución normal, la medida de tendencia central que mejor describe a la variable es la **mediana**."
   ]
  },
  {
   "cell_type": "markdown",
   "metadata": {},
   "source": [
    "5.-¿Qué medida de variabilidad describe mejor a cada variable numérica y por qué? (desviación o rango intercuartil)\n",
    "\n",
    "Notas:\n",
    "* Si se sigue una distribución normal, entonces se ocupa una desviación estándar.\n",
    "* Si no se sigue una distribución normal, entonces acompaña a la mediadana. Es decir, se ocupa como medida de vairiabilidad el rando intercuartil."
   ]
  },
  {
   "cell_type": "code",
   "execution_count": null,
   "metadata": {},
   "outputs": [],
   "source": [
    "statistics.stdev(df[\"OpenPorchSF\"])"
   ]
  },
  {
   "cell_type": "code",
   "execution_count": null,
   "metadata": {},
   "outputs": [],
   "source": [
    "iqr(df[\"OpenPorchSF\"])"
   ]
  },
  {
   "cell_type": "markdown",
   "metadata": {},
   "source": [
    "En este caso, debido a que la medida de tendencia que se seleccionó es la mediana, la medida de variabilidad que mejor describe a cada variable es el **rango intercuartil** que para este caso es 50.0"
   ]
  },
  {
   "cell_type": "markdown",
   "metadata": {},
   "source": [
    "# EnclosedPorch"
   ]
  },
  {
   "cell_type": "markdown",
   "metadata": {},
   "source": [
    "1.-¿Qué variables presentan datos atípicos? Para este punto utilizar Bloxplots"
   ]
  },
  {
   "cell_type": "code",
   "execution_count": null,
   "metadata": {},
   "outputs": [],
   "source": [
    "sns.boxplot(x=df[\"EnclosedPorch\"])"
   ]
  },
  {
   "cell_type": "markdown",
   "metadata": {},
   "source": [
    "![image.png](attachment:image.png)"
   ]
  },
  {
   "cell_type": "markdown",
   "metadata": {},
   "source": [
    "2.-¿En qué variables identifica un tipo de sesgo? Usar histogramas"
   ]
  },
  {
   "cell_type": "code",
   "execution_count": null,
   "metadata": {},
   "outputs": [],
   "source": [
    "plt.hist(df[\"EnclosedPorch\"], edgecolor='black')  # You can adjust the number of bins\n",
    "plt.xlabel('\"EnclosedPorch\"')\n",
    "plt.ylabel('Valores')\n",
    "plt.title('Histograma \"EnclosedPorch\"')\n",
    "plt.show()"
   ]
  },
  {
   "cell_type": "markdown",
   "metadata": {},
   "source": [
    "3.-¿Sigue una distribución normal cada variable numérica? Usar prueba de Anderson Darling"
   ]
  },
  {
   "cell_type": "code",
   "execution_count": null,
   "metadata": {},
   "outputs": [],
   "source": [
    "# Prueba de Anderson-Darling\n",
    "resultado = anderson(df[\"EnclosedPorch\"])\n",
    "print(\"Estadística de prueba:\", resultado.statistic)\n",
    "print(\"Valores críticos:\", resultado.critical_values)\n",
    "print(\"Niveles de significancia:\", resultado.significance_level)\n",
    "\n",
    "if resultado.statistic < resultado.critical_values[2]:\n",
    "    print(\"Distribución normal\")\n",
    "else:\n",
    "    print(\"No sigue distribución normal\")"
   ]
  },
  {
   "cell_type": "markdown",
   "metadata": {},
   "source": [
    "4.-¿Qué medida de tendencia central describe mejor a la variable y por qué? (media o mediana)\n",
    "\n",
    "Notas:\n",
    "* Si se sigue una distribución normal entonces la media y mediana es lo mismo, por lo que se puede elegir cualquier tendencia para describir a la variable.\n",
    "* Si no se sigue una distribución normal entonces la media no aporta información relevante (genera ruido), por lo tanto la tendencia central que describe mejor a la variable es la \"mediana\" debido a que representa la mitad de los valores intrínsecos."
   ]
  },
  {
   "cell_type": "code",
   "execution_count": null,
   "metadata": {},
   "outputs": [],
   "source": [
    "print(\"Media:\",statistics.mean(df[\"EnclosedPorch\"]))\n",
    "print(\"Mediana:\",statistics.median(df[\"EnclosedPorch\"]))"
   ]
  },
  {
   "cell_type": "markdown",
   "metadata": {},
   "source": [
    "Debido a que la variable no sigue una distribución normal, la medida de tendencia central que mejor describe a la variable es la **mediana**."
   ]
  },
  {
   "cell_type": "markdown",
   "metadata": {},
   "source": [
    "5.-¿Qué medida de variabilidad describe mejor a cada variable numérica y por qué? (desviación o rango intercuartil)\n",
    "\n",
    "Notas:\n",
    "* Si se sigue una distribución normal, entonces se ocupa una desviación estándar.\n",
    "* Si no se sigue una distribución normal, entonces acompaña a la mediadana. Es decir, se ocupa como medida de vairiabilidad el rando intercuartil."
   ]
  },
  {
   "cell_type": "code",
   "execution_count": null,
   "metadata": {},
   "outputs": [],
   "source": [
    "statistics.stdev(df[\"EnclosedPorch\"])"
   ]
  },
  {
   "cell_type": "code",
   "execution_count": null,
   "metadata": {},
   "outputs": [],
   "source": [
    "iqr(df[\"EnclosedPorch\"])"
   ]
  },
  {
   "cell_type": "markdown",
   "metadata": {},
   "source": [
    "En este caso, debido a que la medida de tendencia que se seleccionó es la mediana, la medida de variabilidad que mejor describe a cada variable es el **rango intercuartil** que para este caso es 50.0"
   ]
  },
  {
   "cell_type": "markdown",
   "metadata": {},
   "source": [
    "# 3SsnPorch"
   ]
  },
  {
   "cell_type": "markdown",
   "metadata": {},
   "source": [
    "1.-¿Qué variables presentan datos atípicos? Para este punto utilizar Bloxplots"
   ]
  },
  {
   "cell_type": "code",
   "execution_count": 139,
   "metadata": {},
   "outputs": [
    {
     "data": {
      "text/plain": [
       "<Axes: xlabel='3SsnPorch'>"
      ]
     },
     "execution_count": 139,
     "metadata": {},
     "output_type": "execute_result"
    },
    {
     "data": {
      "image/png": "[encoded data removed]",
      "text/plain": [
       "<Figure size 640x480 with 1 Axes>"
      ]
     },
     "metadata": {},
     "output_type": "display_data"
    }
   ],
   "source": [
    "sns.boxplot(x=df[\"3SsnPorch\"])"
   ]
  },
  {
   "cell_type": "markdown",
   "metadata": {},
   "source": [
    "De acuerdo a la visualización del Bloxplot, se nota que la variable 3SsnPorch <strong>sí</strong> presenta datos atípicos."
   ]
  },
  {
   "cell_type": "markdown",
   "metadata": {},
   "source": [
    "2.-¿En qué variables identifica un tipo de sesgo? Usar histogramas"
   ]
  },
  {
   "cell_type": "code",
   "execution_count": 138,
   "metadata": {},
   "outputs": [
    {
     "data": {
      "image/png": "[encoded data removed]",
      "text/plain": [
       "<Figure size 640x480 with 1 Axes>"
      ]
     },
     "metadata": {},
     "output_type": "display_data"
    }
   ],
   "source": [
    "plt.hist(df[\"3SsnPorch\"], edgecolor='black')  # You can adjust the number of bins\n",
    "plt.xlabel('\"3SsnPorch\"')\n",
    "plt.ylabel('Valores')\n",
    "plt.title('Histograma \"3SsnPorch\"')\n",
    "plt.show()"
   ]
  },
  {
   "cell_type": "markdown",
   "metadata": {},
   "source": [
    "De acuerdo a la visualización del Histograma, se nota que la variable 3SsnPorch <strong>sí</strong> presenta un leve sesgo positivo."
   ]
  },
  {
   "cell_type": "markdown",
   "metadata": {},
   "source": [
    "3.-¿Sigue una distribución normal cada variable numérica? Usar prueba de Anderson Darling"
   ]
  },
  {
   "cell_type": "code",
   "execution_count": 140,
   "metadata": {},
   "outputs": [
    {
     "name": "stdout",
     "output_type": "stream",
     "text": [
      "Estadística de prueba: 555.292377036182\n",
      "Valores críticos: [0.574 0.654 0.785 0.916 1.089]\n",
      "Niveles de significancia: [15.  10.   5.   2.5  1. ]\n",
      "No sigue distribución normal\n"
     ]
    }
   ],
   "source": [
    "# Prueba de Anderson-Darling\n",
    "resultado = anderson(df[\"3SsnPorch\"])\n",
    "print(\"Estadística de prueba:\", resultado.statistic)\n",
    "print(\"Valores críticos:\", resultado.critical_values)\n",
    "print(\"Niveles de significancia:\", resultado.significance_level)\n",
    "\n",
    "if resultado.statistic < resultado.critical_values[2]:\n",
    "    print(\"Distribución normal\")\n",
    "else:\n",
    "    print(\"No sigue distribución normal\")"
   ]
  },
  {
   "cell_type": "markdown",
   "metadata": {},
   "source": [
    "4.-¿Qué medida de tendencia central describe mejor a la variable y por qué? (media o mediana)\n",
    "\n",
    "Notas:\n",
    "* Si se sigue una distribución normal entonces la media y mediana es lo mismo, por lo que se puede elegir cualquier tendencia para describir a la variable.\n",
    "* Si no se sigue una distribución normal entonces la media no aporta información relevante (genera ruido), por lo tanto la tendencia central que describe mejor a la variable es la \"mediana\" debido a que representa la mitad de los valores intrínsecos."
   ]
  },
  {
   "cell_type": "code",
   "execution_count": 141,
   "metadata": {},
   "outputs": [
    {
     "name": "stdout",
     "output_type": "stream",
     "text": [
      "Media: 1.794379712131597\n",
      "Mediana: 0\n"
     ]
    }
   ],
   "source": [
    "print(\"Media:\",statistics.mean(df[\"3SsnPorch\"]))\n",
    "print(\"Mediana:\",statistics.median(df[\"3SsnPorch\"]))"
   ]
  },
  {
   "cell_type": "markdown",
   "metadata": {},
   "source": [
    "Debido a que la variable no sigue una distribución normal, la medida de tendencia central que mejor describe a la variable es la **mediana**."
   ]
  },
  {
   "cell_type": "markdown",
   "metadata": {},
   "source": [
    "5.-¿Qué medida de variabilidad describe mejor a cada variable numérica y por qué? (desviación o rango intercuartil)\n",
    "\n",
    "Notas:\n",
    "* Si se sigue una distribución normal, entonces se ocupa una desviación estándar.\n",
    "* Si no se sigue una distribución normal, entonces acompaña a la mediana. Es decir, se ocupa como medida de variabilidad el rango intercuartil."
   ]
  },
  {
   "cell_type": "code",
   "execution_count": 142,
   "metadata": {},
   "outputs": [
    {
     "data": {
      "text/plain": [
       "20.2078417514965"
      ]
     },
     "execution_count": 142,
     "metadata": {},
     "output_type": "execute_result"
    }
   ],
   "source": [
    "statistics.stdev(df[\"3SsnPorch\"])"
   ]
  },
  {
   "cell_type": "code",
   "execution_count": 143,
   "metadata": {},
   "outputs": [
    {
     "data": {
      "text/plain": [
       "0.0"
      ]
     },
     "execution_count": 143,
     "metadata": {},
     "output_type": "execute_result"
    }
   ],
   "source": [
    "iqr(df[\"3SsnPorch\"])"
   ]
  },
  {
   "cell_type": "markdown",
   "metadata": {},
   "source": [
    "En este caso, debido a que la medida de tendencia que se seleccionó es la mediana, la medida de variabilidad que mejor describe a cada variable es el **rango intercuartil** que para este caso es 0.0"
   ]
  },
  {
   "cell_type": "markdown",
   "metadata": {},
   "source": [
    "# ScreenPorch"
   ]
  },
  {
   "cell_type": "markdown",
   "metadata": {},
   "source": [
    "1.-¿Qué variables presentan datos atípicos? Para este punto utilizar Bloxplots"
   ]
  },
  {
   "cell_type": "code",
   "execution_count": 144,
   "metadata": {},
   "outputs": [
    {
     "data": {
      "text/plain": [
       "<Axes: xlabel='ScreenPorch'>"
      ]
     },
     "execution_count": 144,
     "metadata": {},
     "output_type": "execute_result"
    },
    {
     "data": {
      "image/png": "[encoded data removed]",
      "text/plain": [
       "<Figure size 640x480 with 1 Axes>"
      ]
     },
     "metadata": {},
     "output_type": "display_data"
    }
   ],
   "source": [
    "sns.boxplot(x=df[\"ScreenPorch\"])"
   ]
  },
  {
   "cell_type": "markdown",
   "metadata": {},
   "source": [
    "De acuerdo a la visualización del Boxplot, se nota que la variable ScreenPorch <strong>sí</strong> presenta datos atípicos."
   ]
  },
  {
   "cell_type": "markdown",
   "metadata": {},
   "source": [
    "2.-¿En qué variables identifica un tipo de sesgo? Usar histogramas"
   ]
  },
  {
   "cell_type": "code",
   "execution_count": 152,
   "metadata": {},
   "outputs": [
    {
     "data": {
      "image/png": "[encoded data removed]",
      "text/plain": [
       "<Figure size 640x480 with 1 Axes>"
      ]
     },
     "metadata": {},
     "output_type": "display_data"
    }
   ],
   "source": [
    "plt.hist(df[\"ScreenPorch\"], edgecolor='black')  # You can adjust the number of bins\n",
    "plt.xlabel('\"ScreenPorch\"')\n",
    "plt.ylabel('Valores')\n",
    "plt.title('Histograma \"ScreenPorch\"')\n",
    "plt.show()"
   ]
  },
  {
   "cell_type": "markdown",
   "metadata": {},
   "source": [
    "De acuerdo a la visualización del Histograma, se nota que la variable ScreenPorch <strong>sí</strong> presenta un leve sesgo positivo."
   ]
  },
  {
   "cell_type": "markdown",
   "metadata": {},
   "source": [
    "3.-¿Sigue una distribución normal cada variable numérica? Usar prueba de Anderson Darling"
   ]
  },
  {
   "cell_type": "code",
   "execution_count": 147,
   "metadata": {},
   "outputs": [
    {
     "name": "stdout",
     "output_type": "stream",
     "text": [
      "Estadística de prueba: 450.6010696243061\n",
      "Valores críticos: [0.574 0.654 0.785 0.916 1.089]\n",
      "Niveles de significancia: [15.  10.   5.   2.5  1. ]\n",
      "No sigue distribución normal\n"
     ]
    }
   ],
   "source": [
    "# Prueba de Anderson-Darling\n",
    "resultado = anderson(df[\"ScreenPorch\"])\n",
    "print(\"Estadística de prueba:\", resultado.statistic)\n",
    "print(\"Valores críticos:\", resultado.critical_values)\n",
    "print(\"Niveles de significancia:\", resultado.significance_level)\n",
    "\n",
    "if resultado.statistic < resultado.critical_values[2]:\n",
    "    print(\"Distribución normal\")\n",
    "else:\n",
    "    print(\"No sigue distribución normal\")"
   ]
  },
  {
   "cell_type": "markdown",
   "metadata": {},
   "source": [
    "4.-¿Qué medida de tendencia central describe mejor a la variable y por qué? (media o mediana)\n",
    "\n",
    "Notas:\n",
    "* Si se sigue una distribución normal entonces la media y mediana es lo mismo, por lo que se puede elegir cualquier tendencia para describir a la variable.\n",
    "* Si no se sigue una distribución normal entonces la media no aporta información relevante (genera ruido), por lo tanto la tendencia central que describe mejor a la variable es la \"mediana\" debido a que representa la mitad de los valores intrínsecos."
   ]
  },
  {
   "cell_type": "code",
   "execution_count": 148,
   "metadata": {},
   "outputs": [
    {
     "name": "stdout",
     "output_type": "stream",
     "text": [
      "Media: 17.064427690198766\n",
      "Mediana: 0\n"
     ]
    }
   ],
   "source": [
    "print(\"Media:\",statistics.mean(df[\"ScreenPorch\"]))\n",
    "print(\"Mediana:\",statistics.median(df[\"ScreenPorch\"]))"
   ]
  },
  {
   "cell_type": "markdown",
   "metadata": {},
   "source": [
    "Debido a que la variable no sigue una distribución normal, la medida de tendencia central que mejor describe a la variable es la **mediana**."
   ]
  },
  {
   "cell_type": "markdown",
   "metadata": {},
   "source": [
    "5.-¿Qué medida de variabilidad describe mejor a cada variable numérica y por qué? (desviación o rango intercuartil)\n",
    "\n",
    "Notas:\n",
    "* Si se sigue una distribución normal, entonces se ocupa una desviación estándar.\n",
    "* Si no se sigue una distribución normal, entonces acompaña a la mediana. Es decir, se ocupa como medida de variabilidad el rango intercuartil."
   ]
  },
  {
   "cell_type": "code",
   "execution_count": 149,
   "metadata": {},
   "outputs": [
    {
     "data": {
      "text/plain": [
       "56.60976290691056"
      ]
     },
     "execution_count": 149,
     "metadata": {},
     "output_type": "execute_result"
    }
   ],
   "source": [
    "statistics.stdev(df[\"ScreenPorch\"])"
   ]
  },
  {
   "cell_type": "code",
   "execution_count": 153,
   "metadata": {},
   "outputs": [
    {
     "data": {
      "text/plain": [
       "0.0"
      ]
     },
     "execution_count": 153,
     "metadata": {},
     "output_type": "execute_result"
    }
   ],
   "source": [
    "iqr(df[\"ScreenPorch\"])"
   ]
  },
  {
   "cell_type": "markdown",
   "metadata": {},
   "source": [
    "En este caso, debido a que la medida de tendencia que se seleccionó es la mediana, la medida de variabilidad que mejor describe a cada variable es el **rango intercuartil** que para este caso es 0.0"
   ]
  },
  {
   "cell_type": "markdown",
   "metadata": {},
   "source": [
    "# PoolArea"
   ]
  },
  {
   "cell_type": "markdown",
   "metadata": {},
   "source": [
    "1.-¿Qué variables presentan datos atípicos? Para este punto utilizar Bloxplots"
   ]
  },
  {
   "cell_type": "code",
   "execution_count": 154,
   "metadata": {},
   "outputs": [
    {
     "data": {
      "text/plain": [
       "<Axes: xlabel='PoolArea'>"
      ]
     },
     "execution_count": 154,
     "metadata": {},
     "output_type": "execute_result"
    },
    {
     "data": {
      "image/png": "[encoded data removed]",
      "text/plain": [
       "<Figure size 640x480 with 1 Axes>"
      ]
     },
     "metadata": {},
     "output_type": "display_data"
    }
   ],
   "source": [
    "sns.boxplot(x=df[\"PoolArea\"])"
   ]
  },
  {
   "cell_type": "markdown",
   "metadata": {},
   "source": [
    "De acuerdo a la visualización del Boxplot, se nota que la variable PoolArea <strong>sí</strong> presenta datos atípicos."
   ]
  },
  {
   "cell_type": "markdown",
   "metadata": {},
   "source": [
    "2.-¿En qué variables identifica un tipo de sesgo? Usar histogramas"
   ]
  },
  {
   "cell_type": "code",
   "execution_count": 155,
   "metadata": {},
   "outputs": [
    {
     "data": {
      "image/png": "[encoded data removed]",
      "text/plain": [
       "<Figure size 640x480 with 1 Axes>"
      ]
     },
     "metadata": {},
     "output_type": "display_data"
    }
   ],
   "source": [
    "plt.hist(df[\"PoolArea\"], edgecolor='black')  # You can adjust the number of bins\n",
    "plt.xlabel('\"PoolArea\"')\n",
    "plt.ylabel('Valores')\n",
    "plt.title('Histograma \"PoolArea\"')\n",
    "plt.show()"
   ]
  },
  {
   "cell_type": "markdown",
   "metadata": {},
   "source": [
    "De acuerdo a la visualización del Histograma, se nota que la variable PoolArea <strong>sí</strong> presenta un leve sesgo positivo."
   ]
  },
  {
   "cell_type": "markdown",
   "metadata": {},
   "source": [
    "3.-¿Sigue una distribución normal cada variable numérica? Usar prueba de Anderson Darling"
   ]
  },
  {
   "cell_type": "code",
   "execution_count": 157,
   "metadata": {},
   "outputs": [
    {
     "name": "stdout",
     "output_type": "stream",
     "text": [
      "Estadística de prueba: 559.3828759259168\n",
      "Valores críticos: [0.574 0.654 0.785 0.916 1.089]\n",
      "Niveles de significancia: [15.  10.   5.   2.5  1. ]\n",
      "No sigue distribución normal\n"
     ]
    }
   ],
   "source": [
    "# Prueba de Anderson-Darling\n",
    "resultado = anderson(df[\"PoolArea\"])\n",
    "print(\"Estadística de prueba:\", resultado.statistic)\n",
    "print(\"Valores críticos:\", resultado.critical_values)\n",
    "print(\"Niveles de significancia:\", resultado.significance_level)\n",
    "\n",
    "if resultado.statistic < resultado.critical_values[2]:\n",
    "    print(\"Distribución normal\")\n",
    "else:\n",
    "    print(\"No sigue distribución normal\")"
   ]
  },
  {
   "cell_type": "markdown",
   "metadata": {},
   "source": [
    "4.-¿Qué medida de tendencia central describe mejor a la variable y por qué? (media o mediana)\n",
    "\n",
    "Notas:\n",
    "* Si se sigue una distribución normal entonces la media y mediana es lo mismo, por lo que se puede elegir cualquier tendencia para describir a la variable.\n",
    "* Si no se sigue una distribución normal entonces la media no aporta información relevante (genera ruido), por lo tanto la tendencia central que describe mejor a la variable es la \"mediana\" debido a que representa la mitad de los valores intrínsecos."
   ]
  },
  {
   "cell_type": "code",
   "execution_count": 158,
   "metadata": {},
   "outputs": [
    {
     "name": "stdout",
     "output_type": "stream",
     "text": [
      "Media: 1.7443454420836189\n",
      "Mediana: 0\n"
     ]
    }
   ],
   "source": [
    "print(\"Media:\",statistics.mean(df[\"PoolArea\"]))\n",
    "print(\"Mediana:\",statistics.median(df[\"PoolArea\"]))"
   ]
  },
  {
   "cell_type": "markdown",
   "metadata": {},
   "source": [
    "Debido a que la variable no sigue una distribución normal, la medida de tendencia central que mejor describe a la variable es la **mediana**."
   ]
  },
  {
   "cell_type": "markdown",
   "metadata": {},
   "source": [
    "5.-¿Qué medida de variabilidad describe mejor a cada variable numérica y por qué? (desviación o rango intercuartil)\n",
    "\n",
    "Notas:\n",
    "* Si se sigue una distribución normal, entonces se ocupa una desviación estándar.\n",
    "* Si no se sigue una distribución normal, entonces acompaña a la mediana. Es decir, se ocupa como medida de variabilidad el rango intercuartil."
   ]
  },
  {
   "cell_type": "code",
   "execution_count": 159,
   "metadata": {},
   "outputs": [
    {
     "data": {
      "text/plain": [
       "30.491646305342066"
      ]
     },
     "execution_count": 159,
     "metadata": {},
     "output_type": "execute_result"
    }
   ],
   "source": [
    "statistics.stdev(df[\"PoolArea\"])"
   ]
  },
  {
   "cell_type": "code",
   "execution_count": 160,
   "metadata": {},
   "outputs": [
    {
     "data": {
      "text/plain": [
       "0.0"
      ]
     },
     "execution_count": 160,
     "metadata": {},
     "output_type": "execute_result"
    }
   ],
   "source": [
    "iqr(df[\"PoolArea\"])"
   ]
  },
  {
   "cell_type": "markdown",
   "metadata": {},
   "source": [
    "En este caso, debido a que la medida de tendencia que se seleccionó es la mediana, la medida de variabilidad que mejor describe a cada variable es el **rango intercuartil** que para este caso es 0.0"
   ]
  },
  {
   "cell_type": "markdown",
   "metadata": {},
   "source": [
    "# MiscVal"
   ]
  },
  {
   "cell_type": "markdown",
   "metadata": {},
   "source": [
    "1.-¿Qué variables presentan datos atípicos? Para este punto utilizar Bloxplots"
   ]
  },
  {
   "cell_type": "code",
   "execution_count": 161,
   "metadata": {},
   "outputs": [
    {
     "data": {
      "text/plain": [
       "<Axes: xlabel='MiscVal'>"
      ]
     },
     "execution_count": 161,
     "metadata": {},
     "output_type": "execute_result"
    },
    {
     "data": {
      "image/png": "[encoded data removed]",
      "text/plain": [
       "<Figure size 640x480 with 1 Axes>"
      ]
     },
     "metadata": {},
     "output_type": "display_data"
    }
   ],
   "source": [
    "sns.boxplot(x=df[\"MiscVal\"])"
   ]
  },
  {
   "cell_type": "markdown",
   "metadata": {},
   "source": [
    "De acuerdo a la visualización del Boxplot, se nota que la variable MiscVal <strong>sí</strong> presenta datos atípicos."
   ]
  },
  {
   "cell_type": "markdown",
   "metadata": {},
   "source": [
    "2.-¿En qué variables identifica un tipo de sesgo? Usar histogramas"
   ]
  },
  {
   "cell_type": "code",
   "execution_count": 163,
   "metadata": {},
   "outputs": [
    {
     "data": {
      "image/png": "[encoded data removed]",
      "text/plain": [
       "<Figure size 640x480 with 1 Axes>"
      ]
     },
     "metadata": {},
     "output_type": "display_data"
    }
   ],
   "source": [
    "plt.hist(df[\"MiscVal\"], edgecolor='black')  # You can adjust the number of bins\n",
    "plt.xlabel('\"MiscVal\"')\n",
    "plt.ylabel('Valores')\n",
    "plt.title('Histograma \"MiscVal\"')\n",
    "plt.show()"
   ]
  },
  {
   "cell_type": "markdown",
   "metadata": {},
   "source": [
    "De acuerdo a la visualización del Histograma, se nota que la variable MiscVal <strong>sí</strong> presenta un leve sesgo positivo."
   ]
  },
  {
   "cell_type": "markdown",
   "metadata": {},
   "source": [
    "3.-¿Sigue una distribución normal cada variable numérica? Usar prueba de Anderson Darling"
   ]
  },
  {
   "cell_type": "code",
   "execution_count": 164,
   "metadata": {},
   "outputs": [
    {
     "name": "stdout",
     "output_type": "stream",
     "text": [
      "Estadística de prueba: 516.894536926304\n",
      "Valores críticos: [0.574 0.654 0.785 0.916 1.089]\n",
      "Niveles de significancia: [15.  10.   5.   2.5  1. ]\n",
      "No sigue distribución normal\n"
     ]
    }
   ],
   "source": [
    "# Prueba de Anderson-Darling\n",
    "resultado = anderson(df[\"MiscVal\"])\n",
    "print(\"Estadística de prueba:\", resultado.statistic)\n",
    "print(\"Valores críticos:\", resultado.critical_values)\n",
    "print(\"Niveles de significancia:\", resultado.significance_level)\n",
    "\n",
    "if resultado.statistic < resultado.critical_values[2]:\n",
    "    print(\"Distribución normal\")\n",
    "else:\n",
    "    print(\"No sigue distribución normal\")"
   ]
  },
  {
   "cell_type": "markdown",
   "metadata": {},
   "source": [
    "4.-¿Qué medida de tendencia central describe mejor a la variable y por qué? (media o mediana)\n",
    "\n",
    "Notas:\n",
    "* Si se sigue una distribución normal entonces la media y mediana es lo mismo, por lo que se puede elegir cualquier tendencia para describir a la variable.\n",
    "* Si no se sigue una distribución normal entonces la media no aporta información relevante (genera ruido), por lo tanto la tendencia central que describe mejor a la variable es la \"mediana\" debido a que representa la mitad de los valores intrínsecos."
   ]
  },
  {
   "cell_type": "code",
   "execution_count": 165,
   "metadata": {},
   "outputs": [
    {
     "name": "stdout",
     "output_type": "stream",
     "text": [
      "Media: 58.16792323509253\n",
      "Mediana: 0\n"
     ]
    }
   ],
   "source": [
    "print(\"Media:\",statistics.mean(df[\"MiscVal\"]))\n",
    "print(\"Mediana:\",statistics.median(df[\"MiscVal\"]))"
   ]
  },
  {
   "cell_type": "markdown",
   "metadata": {},
   "source": [
    "Debido a que la variable no sigue una distribución normal, la medida de tendencia central que mejor describe a la variable es la **mediana**."
   ]
  },
  {
   "cell_type": "markdown",
   "metadata": {},
   "source": [
    "5.-¿Qué medida de variabilidad describe mejor a cada variable numérica y por qué? (desviación o rango intercuartil)\n",
    "\n",
    "Notas:\n",
    "* Si se sigue una distribución normal, entonces se ocupa una desviación estándar.\n",
    "* Si no se sigue una distribución normal, entonces acompaña a la mediana. Es decir, se ocupa como medida de variabilidad el rango intercuartil."
   ]
  },
  {
   "cell_type": "code",
   "execution_count": 166,
   "metadata": {},
   "outputs": [
    {
     "data": {
      "text/plain": [
       "630.806977589708"
      ]
     },
     "execution_count": 166,
     "metadata": {},
     "output_type": "execute_result"
    }
   ],
   "source": [
    "statistics.stdev(df[\"MiscVal\"])"
   ]
  },
  {
   "cell_type": "code",
   "execution_count": 167,
   "metadata": {},
   "outputs": [
    {
     "data": {
      "text/plain": [
       "0.0"
      ]
     },
     "execution_count": 167,
     "metadata": {},
     "output_type": "execute_result"
    }
   ],
   "source": [
    "iqr(df[\"MiscVal\"])"
   ]
  },
  {
   "cell_type": "markdown",
   "metadata": {},
   "source": [
    "En este caso, debido a que la medida de tendencia que se seleccionó es la mediana, la medida de variabilidad que mejor describe a cada variable es el **rango intercuartil** que para este caso es 0.0"
   ]
  },
  {
   "cell_type": "markdown",
   "metadata": {},
   "source": [
    "# MoSold"
   ]
  },
  {
   "cell_type": "markdown",
   "metadata": {},
   "source": [
    "1.-¿Qué variables presentan datos atípicos? Para este punto utilizar Bloxplots"
   ]
  },
  {
   "cell_type": "code",
   "execution_count": 168,
   "metadata": {},
   "outputs": [
    {
     "data": {
      "text/plain": [
       "<Axes: xlabel='MoSold'>"
      ]
     },
     "execution_count": 168,
     "metadata": {},
     "output_type": "execute_result"
    },
    {
     "data": {
      "image/png": "[encoded data removed]",
      "text/plain": [
       "<Figure size 640x480 with 1 Axes>"
      ]
     },
     "metadata": {},
     "output_type": "display_data"
    }
   ],
   "source": [
    "sns.boxplot(x=df[\"MoSold\"])"
   ]
  },
  {
   "cell_type": "markdown",
   "metadata": {},
   "source": [
    "De acuerdo a la visualización del Boxplot, se nota que la variable MoSold <strong>no</strong> presenta datos atípicos."
   ]
  },
  {
   "cell_type": "markdown",
   "metadata": {},
   "source": [
    "2.-¿En qué variables identifica un tipo de sesgo? Usar histogramas"
   ]
  },
  {
   "cell_type": "code",
   "execution_count": 170,
   "metadata": {},
   "outputs": [
    {
     "data": {
      "image/png": "[encoded data removed]",
      "text/plain": [
       "<Figure size 640x480 with 1 Axes>"
      ]
     },
     "metadata": {},
     "output_type": "display_data"
    }
   ],
   "source": [
    "plt.hist(df[\"MoSold\"], edgecolor='black')  # You can adjust the number of bins\n",
    "plt.xlabel('\"MoSold\"')\n",
    "plt.ylabel('Valores')\n",
    "plt.title('Histograma \"MoSold\"')\n",
    "plt.show()"
   ]
  },
  {
   "cell_type": "markdown",
   "metadata": {},
   "source": [
    "De acuerdo a la visualización del Histograma, se nota que la variable MoSold <strong>sí</strong> presenta un muy leve sesgo positivo."
   ]
  },
  {
   "cell_type": "markdown",
   "metadata": {},
   "source": [
    "3.-¿Sigue una distribución normal cada variable numérica? Usar prueba de Anderson Darling"
   ]
  },
  {
   "cell_type": "code",
   "execution_count": 173,
   "metadata": {},
   "outputs": [
    {
     "name": "stdout",
     "output_type": "stream",
     "text": [
      "Estadística de prueba: 11.569046082008299\n",
      "Valores críticos: [0.574 0.654 0.785 0.916 1.089]\n",
      "Niveles de significancia: [15.  10.   5.   2.5  1. ]\n",
      "No sigue distribución normal\n"
     ]
    }
   ],
   "source": [
    "# Prueba de Anderson-Darlingresultado\n",
    "resultado = anderson(df[\"MoSold\"])\n",
    "print(\"Estadística de prueba:\", resultado.statistic)\n",
    "print(\"Valores críticos:\", resultado.critical_values)\n",
    "print(\"Niveles de significancia:\", resultado.significance_level)\n",
    "\n",
    "if resultado.statistic < resultado.critical_values[2]:\n",
    "    print(\"Distribución normal\")\n",
    "else:\n",
    "    print(\"No sigue distribución normal\")"
   ]
  },
  {
   "cell_type": "markdown",
   "metadata": {},
   "source": [
    "4.-¿Qué medida de tendencia central describe mejor a la variable y por qué? (media o mediana)\n",
    "\n",
    "Notas:\n",
    "* S  sesigue  unadist ribuciónnormal entonces la media oymediana es lo mismo , por lo que se puede elegir cualquier tendencia para describir a la variable.\n",
    "* Si no se sigue una distribución normal entonces la media no aporta información relevante (genera ruido), por lo tanto la tendencia central que describe mejor a la variable es la \"mediana\" debido a que representa la mitad de los valores intrínsecos."
   ]
  },
  {
   "cell_type": "code",
   "execution_count": 174,
   "metadata": {},
   "outputs": [
    {
     "name": "stdout",
     "output_type": "stream",
     "text": [
      "Media: 6.104180945853324\n",
      "Mediana: 6\n"
     ]
    }
   ],
   "source": [
    "print(\"Media:\",statistics.mean(df[\"MoSold\"]))\n",
    "print(\"Mediana:\",statistics.median(df[\"MoSold\"]))"
   ]
  },
  {
   "cell_type": "markdown",
   "metadata": {},
   "source": [
    "Debido a que la variable no sigue una distribución normal, la medida de tendencia central que mejor describe a la variable es la **mediana**."
   ]
  },
  {
   "cell_type": "markdown",
   "metadata": {},
   "source": [
    "5.-¿Qué medida de variabilidad describe mejor a cada variable numérica y por qué? (desviación o rango intercuartil)\n",
    "\n",
    "Notas:\n",
    " * Si se sigue una distribución normal, entonces se ocupa una desviación estándar.\n",
    " * Si no se sigue una distribución normal, entonces acompaña a la mediana. Es decir, se ocupa como medida de variabilidad el rango intercuartil."
   ]
  },
  {
   "cell_type": "code",
   "execution_count": 175,
   "metadata": {},
   "outputs": [
    {
     "data": {
      "text/plain": [
       "2.722431901250806"
      ]
     },
     "execution_count": 175,
     "metadata": {},
     "output_type": "execute_result"
    }
   ],
   "source": [
    "statistics.stdev(df[\"MoSold\"])"
   ]
  },
  {
   "cell_type": "code",
   "execution_count": 176,
   "metadata": {},
   "outputs": [
    {
     "data": {
      "text/plain": [
       "4.0"
      ]
     },
     "execution_count": 176,
     "metadata": {},
     "output_type": "execute_result"
    }
   ],
   "source": [
    "iqr(df[\"MoSold\"])"
   ]
  },
  {
   "cell_type": "markdown",
   "metadata": {},
   "source": [
    "En este caso, debido a que la medida de tendencia que se seleccionó es la mediana, la medida de variabilidad que mejor describe a cada variable es el **rango intercuartil** que para este caso es 4.0"
   ]
  },
  {
   "cell_type": "markdown",
   "metadata": {},
   "source": [
    "# YrSold"
   ]
  },
  {
   "cell_type": "markdown",
   "metadata": {},
   "source": [
    "1.-¿Qué variables presentan datos atípicos? Para este punto utilizar Bloxplots"
   ]
  },
  {
   "cell_type": "code",
   "execution_count": 177,
   "metadata": {},
   "outputs": [
    {
     "data": {
      "text/plain": [
       "<Axes: xlabel='YrSold'>"
      ]
     },
     "execution_count": 177,
     "metadata": {},
     "output_type": "execute_result"
    },
    {
     "data": {
      "image/png": "[encoded data removed]",
      "text/plain": [
       "<Figure size 640x480 with 1 Axes>"
      ]
     },
     "metadata": {},
     "output_type": "display_data"
    }
   ],
   "source": [
    "sns.boxplot(x=df[\"YrSold\"])"
   ]
  },
  {
   "cell_type": "markdown",
   "metadata": {},
   "source": [
    "De acuerdo a la visualización del Boxplot, se nota que la variable YrSold <strong>no</strong> presenta datos atípicos."
   ]
  },
  {
   "cell_type": "markdown",
   "metadata": {},
   "source": [
    "2.-¿En qué variables identifica un tipo de sesgo? Usar histogramas"
   ]
  },
  {
   "cell_type": "code",
   "execution_count": 179,
   "metadata": {},
   "outputs": [
    {
     "data": {
      "image/png": "[encoded data removed]",
      "text/plain": [
       "<Figure size 640x480 with 1 Axes>"
      ]
     },
     "metadata": {},
     "output_type": "display_data"
    }
   ],
   "source": [
    "plt.hist(df[\"YrSold\"], edgecolor='black')  # You can adjust the number of bins\n",
    "plt.xlabel('\"YrSold\"')\n",
    "plt.ylabel('Valores')\n",
    "plt.title('Histograma \"YrSold\"')\n",
    "plt.show()"
   ]
  },
  {
   "cell_type": "markdown",
   "metadata": {},
   "source": [
    "De acuerdo a la visualización del Boxplot, se nota que la variable YrSold <strong>sí</strong> presenta un sesgo positivo."
   ]
  },
  {
   "cell_type": "markdown",
   "metadata": {},
   "source": [
    "3.-¿Sigue una distribución normal cada variable numérica? Usar prueba de Anderson Darling"
   ]
  },
  {
   "cell_type": "code",
   "execution_count": 180,
   "metadata": {},
   "outputs": [
    {
     "name": "stdout",
     "output_type": "stream",
     "text": [
      "Estadística de prueba: 49.43594539705873\n",
      "Valores críticos: [0.574 0.654 0.785 0.916 1.089]\n",
      "Niveles de significancia: [15.  10.   5.   2.5  1. ]\n",
      "No sigue distribución normal\n"
     ]
    }
   ],
   "source": [
    "# Prueba de Anderson-Darling\n",
    "resultado = anderson(df[\"YrSold\"])\n",
    "print(\"Estadística de prueba:\", resultado.statistic)\n",
    "print(\"Valores críticos:\", resultado.critical_values)\n",
    "print(\"Niveles de significancia:\", resultado.significance_level)\n",
    "\n",
    "if resultado.statistic < resultado.critical_values[2]:\n",
    "    print(\"Distribución normal\")\n",
    "else:\n",
    "    print(\"No sigue distribución normal\")"
   ]
  },
  {
   "cell_type": "markdown",
   "metadata": {},
   "source": [
    "4.-¿Qué medida de tendencia central describe mejor a la variable y por qué? (media o mediana)\n",
    "\n",
    "Notas:\n",
    "* Si se sigue una distribución normal entonces la media y mediana es lo mismo, por lo que se puede elegir cualquier tendencia para describir a la variable.\n",
    "* Si no se sigue una distribución normal entonces la media no aporta información relevante (genera ruido), por lo tanto la tendencia central que describe mejor a la variable es la \"mediana\" debido a que representa la mitad de los valores intrínsecos."
   ]
  },
  {
   "cell_type": "code",
   "execution_count": 181,
   "metadata": {},
   "outputs": [
    {
     "name": "stdout",
     "output_type": "stream",
     "text": [
      "Media: 2007.7697052775875\n",
      "Mediana: 2008\n"
     ]
    }
   ],
   "source": [
    "print(\"Media:\",statistics.mean(df[\"YrSold\"]))\n",
    "print(\"Mediana:\",statistics.median(df[\"YrSold\"]))"
   ]
  },
  {
   "cell_type": "markdown",
   "metadata": {},
   "source": [
    "Debido a que la variable no sigue una distribución normal, la medida de tendencia central que mejor describe a la variable es la **mediana**."
   ]
  },
  {
   "cell_type": "markdown",
   "metadata": {},
   "source": [
    "5.-¿Qué medida de variabilidad describe mejor a cada variable numérica y por qué? (desviación o rango intercuartil)\n",
    "\n",
    "Notas:\n",
    "* Si se sigue una distribución normal, entonces se ocupa una desviación estándar.\n",
    "* Si no se sigue una distribución normal, entonces acompaña a la mediana. Es decir, se ocupa como medida de variabilidad el rango intercuartil."
   ]
  },
  {
   "cell_type": "code",
   "execution_count": 182,
   "metadata": {},
   "outputs": [
    {
     "data": {
      "text/plain": [
       "1.301740149380236"
      ]
     },
     "execution_count": 182,
     "metadata": {},
     "output_type": "execute_result"
    }
   ],
   "source": [
    "statistics.stdev(df[\"YrSold\"])"
   ]
  },
  {
   "cell_type": "code",
   "execution_count": 183,
   "metadata": {},
   "outputs": [
    {
     "data": {
      "text/plain": [
       "2.0"
      ]
     },
     "execution_count": 183,
     "metadata": {},
     "output_type": "execute_result"
    }
   ],
   "source": [
    "iqr(df[\"YrSold\"])"
   ]
  },
  {
   "cell_type": "markdown",
   "metadata": {},
   "source": [
    "En este caso, debido a que la medida de tendencia que se seleccionó es la mediana, la medida de variabilidad que mejor describe a cada variable es el **rango intercuartil** que para este caso es 2.0"
   ]
  }
 ],
 "metadata": {
  "kernelspec": {
   "display_name": "Python 3",
   "language": "python",
   "name": "python3"
  },
  "language_info": {
   "codemirror_mode": {
    "name": "ipython",
    "version": 3
   },
   "file_extension": ".py",
   "mimetype": "text/x-python",
   "name": "python",
   "nbconvert_exporter": "python",
   "pygments_lexer": "ipython3",
   "version": "3.9.6"
  },
  "orig_nbformat": 4
 },
 "nbformat": 4,
 "nbformat_minor": 2
}
